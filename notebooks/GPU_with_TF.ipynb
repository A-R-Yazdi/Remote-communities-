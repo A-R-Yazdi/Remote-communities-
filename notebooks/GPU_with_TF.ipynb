{
 "cells": [
  {
   "cell_type": "code",
   "execution_count": 67,
   "id": "3d4a1883",
   "metadata": {},
   "outputs": [
    {
     "data": {
      "application/javascript": [
       "\n",
       "            setTimeout(function() {\n",
       "                var nbb_cell_id = 67;\n",
       "                var nbb_unformatted_code = \"import tensorflow as tf\\nimport sys\\nimport numpy as np\\nimport tensorflow as tf\\nfrom datetime import datetime\\n%load_ext nb_black\";\n",
       "                var nbb_formatted_code = \"import tensorflow as tf\\nimport sys\\nimport numpy as np\\nimport tensorflow as tf\\nfrom datetime import datetime\\n\\n%load_ext nb_black\";\n",
       "                var nbb_cells = Jupyter.notebook.get_cells();\n",
       "                for (var i = 0; i < nbb_cells.length; ++i) {\n",
       "                    if (nbb_cells[i].input_prompt_number == nbb_cell_id) {\n",
       "                        if (nbb_cells[i].get_text() == nbb_unformatted_code) {\n",
       "                             nbb_cells[i].set_text(nbb_formatted_code);\n",
       "                        }\n",
       "                        break;\n",
       "                    }\n",
       "                }\n",
       "            }, 500);\n",
       "            "
      ],
      "text/plain": [
       "<IPython.core.display.Javascript object>"
      ]
     },
     "metadata": {},
     "output_type": "display_data"
    }
   ],
   "source": [
    "import tensorflow as tf\n",
    "import sys\n",
    "import numpy as np\n",
    "import tensorflow as tf\n",
    "from datetime import datetime\n",
    "\n",
    "%load_ext nb_black"
   ]
  },
  {
   "cell_type": "code",
   "execution_count": 68,
   "id": "d7c7a384",
   "metadata": {},
   "outputs": [
    {
     "data": {
      "text/plain": [
       "[PhysicalDevice(name='/physical_device:GPU:0', device_type='GPU')]"
      ]
     },
     "execution_count": 68,
     "metadata": {},
     "output_type": "execute_result"
    },
    {
     "data": {
      "application/javascript": [
       "\n",
       "            setTimeout(function() {\n",
       "                var nbb_cell_id = 68;\n",
       "                var nbb_unformatted_code = \"tf.config.list_physical_devices('GPU')\";\n",
       "                var nbb_formatted_code = \"tf.config.list_physical_devices(\\\"GPU\\\")\";\n",
       "                var nbb_cells = Jupyter.notebook.get_cells();\n",
       "                for (var i = 0; i < nbb_cells.length; ++i) {\n",
       "                    if (nbb_cells[i].input_prompt_number == nbb_cell_id) {\n",
       "                        if (nbb_cells[i].get_text() == nbb_unformatted_code) {\n",
       "                             nbb_cells[i].set_text(nbb_formatted_code);\n",
       "                        }\n",
       "                        break;\n",
       "                    }\n",
       "                }\n",
       "            }, 500);\n",
       "            "
      ],
      "text/plain": [
       "<IPython.core.display.Javascript object>"
      ]
     },
     "metadata": {},
     "output_type": "display_data"
    }
   ],
   "source": [
    "tf.config.list_physical_devices(\"GPU\")"
   ]
  },
  {
   "cell_type": "code",
   "execution_count": 69,
   "id": "41db96c4",
   "metadata": {},
   "outputs": [
    {
     "data": {
      "application/javascript": [
       "\n",
       "            setTimeout(function() {\n",
       "                var nbb_cell_id = 69;\n",
       "                var nbb_unformatted_code = \"def run_all_ondevice(device='GPU:0'):\\n    tf.debugging.set_log_device_placement(True)\\n\\n    startTime = datetime.now()\\n    # Place tensors on the CPU\\n    with tf.device(device):\\n        a = tf.constant([[1.0, 2.0, 3.0], [4.0, 5.0, 6.0]])\\n        b = tf.constant([[1.0, 2.0], [3.0, 4.0], [5.0, 6.0]])\\n        # Run on the CPU\\n        c = tf.matmul(a, b)\\n        return (datetime.now() - startTime).total_seconds()\";\n",
       "                var nbb_formatted_code = \"def run_all_ondevice(device=\\\"GPU:0\\\"):\\n    tf.debugging.set_log_device_placement(True)\\n\\n    startTime = datetime.now()\\n    # Place tensors on the CPU\\n    with tf.device(device):\\n        a = tf.constant([[1.0, 2.0, 3.0], [4.0, 5.0, 6.0]])\\n        b = tf.constant([[1.0, 2.0], [3.0, 4.0], [5.0, 6.0]])\\n        # Run on the CPU\\n        c = tf.matmul(a, b)\\n        return (datetime.now() - startTime).total_seconds()\";\n",
       "                var nbb_cells = Jupyter.notebook.get_cells();\n",
       "                for (var i = 0; i < nbb_cells.length; ++i) {\n",
       "                    if (nbb_cells[i].input_prompt_number == nbb_cell_id) {\n",
       "                        if (nbb_cells[i].get_text() == nbb_unformatted_code) {\n",
       "                             nbb_cells[i].set_text(nbb_formatted_code);\n",
       "                        }\n",
       "                        break;\n",
       "                    }\n",
       "                }\n",
       "            }, 500);\n",
       "            "
      ],
      "text/plain": [
       "<IPython.core.display.Javascript object>"
      ]
     },
     "metadata": {},
     "output_type": "display_data"
    }
   ],
   "source": [
    "def run_all_ondevice(device=\"GPU:0\"):\n",
    "    tf.debugging.set_log_device_placement(True)\n",
    "\n",
    "    startTime = datetime.now()\n",
    "    # Place tensors on the CPU\n",
    "    with tf.device(device):\n",
    "        a = tf.constant([[1.0, 2.0, 3.0], [4.0, 5.0, 6.0]])\n",
    "        b = tf.constant([[1.0, 2.0], [3.0, 4.0], [5.0, 6.0]])\n",
    "        # Run on the CPU\n",
    "        c = tf.matmul(a, b)\n",
    "        return (datetime.now() - startTime).total_seconds()"
   ]
  },
  {
   "cell_type": "code",
   "execution_count": 77,
   "id": "def37f0f",
   "metadata": {},
   "outputs": [
    {
     "name": "stdout",
     "output_type": "stream",
     "text": [
      "Executing op MatMul in device /job:localhost/replica:0/task:0/device:CPU:0\n"
     ]
    },
    {
     "data": {
      "text/plain": [
       "0.00099"
      ]
     },
     "execution_count": 77,
     "metadata": {},
     "output_type": "execute_result"
    },
    {
     "data": {
      "application/javascript": [
       "\n",
       "            setTimeout(function() {\n",
       "                var nbb_cell_id = 77;\n",
       "                var nbb_unformatted_code = \"run_all_ondevice(\\\"CPU:0\\\")\";\n",
       "                var nbb_formatted_code = \"run_all_ondevice(\\\"CPU:0\\\")\";\n",
       "                var nbb_cells = Jupyter.notebook.get_cells();\n",
       "                for (var i = 0; i < nbb_cells.length; ++i) {\n",
       "                    if (nbb_cells[i].input_prompt_number == nbb_cell_id) {\n",
       "                        if (nbb_cells[i].get_text() == nbb_unformatted_code) {\n",
       "                             nbb_cells[i].set_text(nbb_formatted_code);\n",
       "                        }\n",
       "                        break;\n",
       "                    }\n",
       "                }\n",
       "            }, 500);\n",
       "            "
      ],
      "text/plain": [
       "<IPython.core.display.Javascript object>"
      ]
     },
     "metadata": {},
     "output_type": "display_data"
    }
   ],
   "source": [
    "run_all_ondevice(\"CPU:0\")"
   ]
  },
  {
   "cell_type": "code",
   "execution_count": 78,
   "id": "13be0a7b",
   "metadata": {},
   "outputs": [
    {
     "name": "stdout",
     "output_type": "stream",
     "text": [
      "Executing op _EagerConst in device /job:localhost/replica:0/task:0/device:GPU:0\n",
      "Executing op _EagerConst in device /job:localhost/replica:0/task:0/device:GPU:0\n",
      "Executing op MatMul in device /job:localhost/replica:0/task:0/device:GPU:0\n"
     ]
    },
    {
     "data": {
      "text/plain": [
       "0.003796"
      ]
     },
     "execution_count": 78,
     "metadata": {},
     "output_type": "execute_result"
    },
    {
     "data": {
      "application/javascript": [
       "\n",
       "            setTimeout(function() {\n",
       "                var nbb_cell_id = 78;\n",
       "                var nbb_unformatted_code = \"run_all_ondevice(\\\"GPU:0\\\")\";\n",
       "                var nbb_formatted_code = \"run_all_ondevice(\\\"GPU:0\\\")\";\n",
       "                var nbb_cells = Jupyter.notebook.get_cells();\n",
       "                for (var i = 0; i < nbb_cells.length; ++i) {\n",
       "                    if (nbb_cells[i].input_prompt_number == nbb_cell_id) {\n",
       "                        if (nbb_cells[i].get_text() == nbb_unformatted_code) {\n",
       "                             nbb_cells[i].set_text(nbb_formatted_code);\n",
       "                        }\n",
       "                        break;\n",
       "                    }\n",
       "                }\n",
       "            }, 500);\n",
       "            "
      ],
      "text/plain": [
       "<IPython.core.display.Javascript object>"
      ]
     },
     "metadata": {},
     "output_type": "display_data"
    }
   ],
   "source": [
    "run_all_ondevice(\"GPU:0\")"
   ]
  },
  {
   "cell_type": "markdown",
   "id": "0ea11f73",
   "metadata": {},
   "source": [
    "### Note: \n",
    "- Depending on the operation, running everything on `GPU` is not necessarily faster than running everything on `CPU`. \n",
    "- The fastest way may be running some operations on `CPU`, while some others on `GPU`."
   ]
  },
  {
   "cell_type": "code",
   "execution_count": 72,
   "id": "d724a6e3",
   "metadata": {},
   "outputs": [
    {
     "name": "stdout",
     "output_type": "stream",
     "text": [
      "Executing op MatMul in device /job:localhost/replica:0/task:0/device:GPU:0\n",
      "0.001083\n"
     ]
    },
    {
     "data": {
      "application/javascript": [
       "\n",
       "            setTimeout(function() {\n",
       "                var nbb_cell_id = 72;\n",
       "                var nbb_unformatted_code = \"tf.debugging.set_log_device_placement(True)\\n\\nstartTime = datetime.now()\\n# Place tensors on the CPU\\nwith tf.device('/CPU:0'):\\n    a = tf.constant([[1.0, 2.0, 3.0], [4.0, 5.0, 6.0]])\\n    b = tf.constant([[1.0, 2.0], [3.0, 4.0], [5.0, 6.0]])\\n\\n# Run on the GPU\\nc = tf.matmul(a, b)\\nprint((datetime.now() - startTime).total_seconds())\";\n",
       "                var nbb_formatted_code = \"tf.debugging.set_log_device_placement(True)\\n\\nstartTime = datetime.now()\\n# Place tensors on the CPU\\nwith tf.device(\\\"/CPU:0\\\"):\\n    a = tf.constant([[1.0, 2.0, 3.0], [4.0, 5.0, 6.0]])\\n    b = tf.constant([[1.0, 2.0], [3.0, 4.0], [5.0, 6.0]])\\n\\n# Run on the GPU\\nc = tf.matmul(a, b)\\nprint((datetime.now() - startTime).total_seconds())\";\n",
       "                var nbb_cells = Jupyter.notebook.get_cells();\n",
       "                for (var i = 0; i < nbb_cells.length; ++i) {\n",
       "                    if (nbb_cells[i].input_prompt_number == nbb_cell_id) {\n",
       "                        if (nbb_cells[i].get_text() == nbb_unformatted_code) {\n",
       "                             nbb_cells[i].set_text(nbb_formatted_code);\n",
       "                        }\n",
       "                        break;\n",
       "                    }\n",
       "                }\n",
       "            }, 500);\n",
       "            "
      ],
      "text/plain": [
       "<IPython.core.display.Javascript object>"
      ]
     },
     "metadata": {},
     "output_type": "display_data"
    }
   ],
   "source": [
    "tf.debugging.set_log_device_placement(True)\n",
    "\n",
    "startTime = datetime.now()\n",
    "# Place tensors on the CPU\n",
    "with tf.device(\"/CPU:0\"):\n",
    "    a = tf.constant([[1.0, 2.0, 3.0], [4.0, 5.0, 6.0]])\n",
    "    b = tf.constant([[1.0, 2.0], [3.0, 4.0], [5.0, 6.0]])\n",
    "\n",
    "# Run on the GPU\n",
    "c = tf.matmul(a, b)\n",
    "print((datetime.now() - startTime).total_seconds())"
   ]
  },
  {
   "cell_type": "markdown",
   "id": "5fe81ba0",
   "metadata": {},
   "source": [
    "### The following operation runs faster on GPU than CPU"
   ]
  },
  {
   "cell_type": "code",
   "execution_count": null,
   "id": "27eda8fe",
   "metadata": {},
   "outputs": [
    {
     "name": "stdout",
     "output_type": "stream",
     "text": [
      "Executing op RandomUniform in device /job:localhost/replica:0/task:0/device:CPU:0\n",
      "Executing op Transpose in device /job:localhost/replica:0/task:0/device:CPU:0\n",
      "Executing op MatMul in device /job:localhost/replica:0/task:0/device:CPU:0\n"
     ]
    }
   ],
   "source": [
    "tf.debugging.set_log_device_placement(True)\n",
    "\n",
    "startTime = datetime.now()\n",
    "# Place tensors on the CPU\n",
    "with tf.device(\"/CPU:0\"):\n",
    "    random_matrix = tf.random.uniform(shape=(30000, 30000), minval=0, maxval=1)\n",
    "    dot_operation = tf.matmul(random_matrix, tf.transpose(random_matrix))\n",
    "    sum_operation = tf.reduce_sum(dot_operation)\n",
    "    print(sum_operation)\n",
    "    print((datetime.now() - startTime).total_seconds())"
   ]
  },
  {
   "cell_type": "code",
   "execution_count": null,
   "id": "5acacf5b",
   "metadata": {},
   "outputs": [],
   "source": [
    "tf.debugging.set_log_device_placement(True)\n",
    "\n",
    "startTime = datetime.now()\n",
    "# Place tensors on the GPU\n",
    "with tf.device(\"/GPU:0\"):\n",
    "    random_matrix = tf.random.uniform(shape=(30000, 30000), minval=0, maxval=1)\n",
    "    dot_operation = tf.matmul(random_matrix, tf.transpose(random_matrix))\n",
    "    sum_operation = tf.reduce_sum(dot_operation)\n",
    "    print(sum_operation)\n",
    "    print((datetime.now() - startTime).total_seconds())"
   ]
  },
  {
   "cell_type": "code",
   "execution_count": 75,
   "id": "11146bcd",
   "metadata": {},
   "outputs": [
    {
     "name": "stdout",
     "output_type": "stream",
     "text": [
      "1 Physical GPUs, 1 Logical GPU\n"
     ]
    },
    {
     "data": {
      "application/javascript": [
       "\n",
       "            setTimeout(function() {\n",
       "                var nbb_cell_id = 75;\n",
       "                var nbb_unformatted_code = \"gpus = tf.config.list_physical_devices('GPU')\\nif gpus:\\n    # Restrict TensorFlow to only use the first GPU\\n    try:\\n        tf.config.set_visible_devices(gpus[0], 'GPU')\\n        logical_gpus = tf.config.list_logical_devices('GPU')\\n        print(len(gpus), \\\"Physical GPUs,\\\", len(logical_gpus), \\\"Logical GPU\\\")\\n    except RuntimeError as e:\\n        # Visible devices must be set before GPUs have been initialized\\n        print(e)\";\n",
       "                var nbb_formatted_code = \"gpus = tf.config.list_physical_devices(\\\"GPU\\\")\\nif gpus:\\n    # Restrict TensorFlow to only use the first GPU\\n    try:\\n        tf.config.set_visible_devices(gpus[0], \\\"GPU\\\")\\n        logical_gpus = tf.config.list_logical_devices(\\\"GPU\\\")\\n        print(len(gpus), \\\"Physical GPUs,\\\", len(logical_gpus), \\\"Logical GPU\\\")\\n    except RuntimeError as e:\\n        # Visible devices must be set before GPUs have been initialized\\n        print(e)\";\n",
       "                var nbb_cells = Jupyter.notebook.get_cells();\n",
       "                for (var i = 0; i < nbb_cells.length; ++i) {\n",
       "                    if (nbb_cells[i].input_prompt_number == nbb_cell_id) {\n",
       "                        if (nbb_cells[i].get_text() == nbb_unformatted_code) {\n",
       "                             nbb_cells[i].set_text(nbb_formatted_code);\n",
       "                        }\n",
       "                        break;\n",
       "                    }\n",
       "                }\n",
       "            }, 500);\n",
       "            "
      ],
      "text/plain": [
       "<IPython.core.display.Javascript object>"
      ]
     },
     "metadata": {},
     "output_type": "display_data"
    }
   ],
   "source": [
    "gpus = tf.config.list_physical_devices(\"GPU\")\n",
    "if gpus:\n",
    "    # Restrict TensorFlow to only use the first GPU\n",
    "    try:\n",
    "        tf.config.set_visible_devices(gpus[0], \"GPU\")\n",
    "        logical_gpus = tf.config.list_logical_devices(\"GPU\")\n",
    "        print(len(gpus), \"Physical GPUs,\", len(logical_gpus), \"Logical GPU\")\n",
    "    except RuntimeError as e:\n",
    "        # Visible devices must be set before GPUs have been initialized\n",
    "        print(e)"
   ]
  },
  {
   "cell_type": "code",
   "execution_count": 76,
   "id": "9144b3ba",
   "metadata": {},
   "outputs": [
    {
     "name": "stdout",
     "output_type": "stream",
     "text": [
      "Executing op _EagerConst in device /job:localhost/replica:0/task:0/device:GPU:0\n",
      "Executing op _EagerConst in device /job:localhost/replica:0/task:0/device:GPU:0\n",
      "Executing op MatMul in device /job:localhost/replica:0/task:0/device:GPU:0\n"
     ]
    },
    {
     "data": {
      "application/javascript": [
       "\n",
       "            setTimeout(function() {\n",
       "                var nbb_cell_id = 76;\n",
       "                var nbb_unformatted_code = \"tf.debugging.set_log_device_placement(True)\\n\\ntry:\\n    # Specify an invalid GPU device\\n    with tf.device('GPU:12'):\\n        a = tf.constant([[1.0, 2.0, 3.0], [4.0, 5.0, 6.0]])\\n        b = tf.constant([[1.0, 2.0], [3.0, 4.0], [5.0, 6.0]])\\n        c = tf.matmul(a, b)\\nexcept RuntimeError as e:\\n        print(e)\";\n",
       "                var nbb_formatted_code = \"tf.debugging.set_log_device_placement(True)\\n\\ntry:\\n    # Specify an invalid GPU device\\n    with tf.device(\\\"GPU:12\\\"):\\n        a = tf.constant([[1.0, 2.0, 3.0], [4.0, 5.0, 6.0]])\\n        b = tf.constant([[1.0, 2.0], [3.0, 4.0], [5.0, 6.0]])\\n        c = tf.matmul(a, b)\\nexcept RuntimeError as e:\\n    print(e)\";\n",
       "                var nbb_cells = Jupyter.notebook.get_cells();\n",
       "                for (var i = 0; i < nbb_cells.length; ++i) {\n",
       "                    if (nbb_cells[i].input_prompt_number == nbb_cell_id) {\n",
       "                        if (nbb_cells[i].get_text() == nbb_unformatted_code) {\n",
       "                             nbb_cells[i].set_text(nbb_formatted_code);\n",
       "                        }\n",
       "                        break;\n",
       "                    }\n",
       "                }\n",
       "            }, 500);\n",
       "            "
      ],
      "text/plain": [
       "<IPython.core.display.Javascript object>"
      ]
     },
     "metadata": {},
     "output_type": "display_data"
    }
   ],
   "source": [
    "tf.debugging.set_log_device_placement(True)\n",
    "\n",
    "try:\n",
    "    # Specify an invalid GPU device\n",
    "    with tf.device(\"GPU:12\"):\n",
    "        a = tf.constant([[1.0, 2.0, 3.0], [4.0, 5.0, 6.0]])\n",
    "        b = tf.constant([[1.0, 2.0], [3.0, 4.0], [5.0, 6.0]])\n",
    "        c = tf.matmul(a, b)\n",
    "except RuntimeError as e:\n",
    "    print(e)"
   ]
  },
  {
   "cell_type": "code",
   "execution_count": null,
   "id": "a3b85eb2",
   "metadata": {},
   "outputs": [],
   "source": []
  }
 ],
 "metadata": {
  "kernelspec": {
   "display_name": "conda (timeSeries)",
   "language": "python",
   "name": "conda-timeseries"
  },
  "language_info": {
   "codemirror_mode": {
    "name": "ipython",
    "version": 3
   },
   "file_extension": ".py",
   "mimetype": "text/x-python",
   "name": "python",
   "nbconvert_exporter": "python",
   "pygments_lexer": "ipython3",
   "version": "3.8.13"
  }
 },
 "nbformat": 4,
 "nbformat_minor": 5
}
