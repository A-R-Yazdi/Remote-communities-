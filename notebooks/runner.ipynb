{
 "cells": [
  {
   "cell_type": "code",
   "execution_count": 2,
   "id": "c49c8874",
   "metadata": {
    "scrolled": true
   },
   "outputs": [],
   "source": [
    "import papermill as pm\n",
    "from logger import logger\n"
   ]
  },
  {
   "cell_type": "markdown",
   "id": "c4e631cf",
   "metadata": {},
   "source": [
    "### Make sure that the parameter name is given correctly in parameters={param: index}"
   ]
  },
  {
   "cell_type": "code",
   "execution_count": 2,
   "id": "fcb3d7ec",
   "metadata": {},
   "outputs": [
    {
     "name": "stderr",
     "output_type": "stream",
     "text": [
      "2022-03-07 14:11:41,748 - Running notebook for: df2\n",
      "Executing: 100%|██████████████████████████████| 58/58 [00:16<00:00,  3.48cell/s]\n",
      "2022-03-07 14:11:58,818 - Running notebook for: df3\n",
      "Executing: 100%|██████████████████████████████| 58/58 [00:18<00:00,  3.22cell/s]\n"
     ]
    }
   ],
   "source": [
    "# for index in ['df1', 'df2','df3','df4','df5','df6','df7', 'df8', 'df9']:\n",
    "#     logger.info('Running notebook for: {}'.format(index))\n",
    "#     pm.execute_notebook(input_path='XGBoost-LingJun_df1.ipynb', \n",
    "#                         output_path='../artifacts/notebooks/XGBoost-LingJun_{}.ipynb'.format(index),\n",
    "#                         parameters={'thedf': index})"
   ]
  },
  {
   "cell_type": "code",
   "execution_count": 10,
   "id": "93c8e857",
   "metadata": {},
   "outputs": [
    {
     "name": "stderr",
     "output_type": "stream",
     "text": [
      "2022-04-26 15:34:35,285 - Running notebook for: df1\n"
     ]
    },
    {
     "data": {
      "application/vnd.jupyter.widget-view+json": {
       "model_id": "1ac8c3ed1d364c9cba6de098d614dbf9",
       "version_major": 2,
       "version_minor": 0
      },
      "text/plain": [
       "Executing:   0%|          | 0/42 [00:00<?, ?cell/s]"
      ]
     },
     "metadata": {},
     "output_type": "display_data"
    },
    {
     "name": "stderr",
     "output_type": "stream",
     "text": [
      "2022-04-26 15:34:50,332 - Running notebook for: df2\n"
     ]
    },
    {
     "data": {
      "application/vnd.jupyter.widget-view+json": {
       "model_id": "a4e9dee22ca2479f95c2684669185d56",
       "version_major": 2,
       "version_minor": 0
      },
      "text/plain": [
       "Executing:   0%|          | 0/42 [00:00<?, ?cell/s]"
      ]
     },
     "metadata": {},
     "output_type": "display_data"
    },
    {
     "name": "stderr",
     "output_type": "stream",
     "text": [
      "2022-04-26 15:35:05,444 - Running notebook for: df3\n"
     ]
    },
    {
     "data": {
      "application/vnd.jupyter.widget-view+json": {
       "model_id": "579950058d404e0182e735af65725103",
       "version_major": 2,
       "version_minor": 0
      },
      "text/plain": [
       "Executing:   0%|          | 0/42 [00:00<?, ?cell/s]"
      ]
     },
     "metadata": {},
     "output_type": "display_data"
    },
    {
     "name": "stderr",
     "output_type": "stream",
     "text": [
      "2022-04-26 15:35:20,643 - Running notebook for: df4\n"
     ]
    },
    {
     "data": {
      "application/vnd.jupyter.widget-view+json": {
       "model_id": "22ec409a043f4c81a99ff42169411a38",
       "version_major": 2,
       "version_minor": 0
      },
      "text/plain": [
       "Executing:   0%|          | 0/42 [00:00<?, ?cell/s]"
      ]
     },
     "metadata": {},
     "output_type": "display_data"
    },
    {
     "name": "stderr",
     "output_type": "stream",
     "text": [
      "2022-04-26 15:35:44,572 - Running notebook for: df5\n"
     ]
    },
    {
     "data": {
      "application/vnd.jupyter.widget-view+json": {
       "model_id": "95cc3893fa4f4200b5e37115cee1386e",
       "version_major": 2,
       "version_minor": 0
      },
      "text/plain": [
       "Executing:   0%|          | 0/42 [00:00<?, ?cell/s]"
      ]
     },
     "metadata": {},
     "output_type": "display_data"
    },
    {
     "name": "stderr",
     "output_type": "stream",
     "text": [
      "2022-04-26 15:36:00,039 - Running notebook for: df6\n"
     ]
    },
    {
     "data": {
      "application/vnd.jupyter.widget-view+json": {
       "model_id": "f9d6bc3e9c1a4fdab392455ed54c0ec2",
       "version_major": 2,
       "version_minor": 0
      },
      "text/plain": [
       "Executing:   0%|          | 0/42 [00:00<?, ?cell/s]"
      ]
     },
     "metadata": {},
     "output_type": "display_data"
    },
    {
     "name": "stderr",
     "output_type": "stream",
     "text": [
      "2022-04-26 15:36:15,194 - Running notebook for: df7\n"
     ]
    },
    {
     "data": {
      "application/vnd.jupyter.widget-view+json": {
       "model_id": "70299221ce3745d29731faada2214c05",
       "version_major": 2,
       "version_minor": 0
      },
      "text/plain": [
       "Executing:   0%|          | 0/42 [00:00<?, ?cell/s]"
      ]
     },
     "metadata": {},
     "output_type": "display_data"
    },
    {
     "name": "stderr",
     "output_type": "stream",
     "text": [
      "2022-04-26 15:36:30,922 - Running notebook for: df8\n"
     ]
    },
    {
     "data": {
      "application/vnd.jupyter.widget-view+json": {
       "model_id": "dcd2d2c24cf048bfb1063fdcb8cc6a49",
       "version_major": 2,
       "version_minor": 0
      },
      "text/plain": [
       "Executing:   0%|          | 0/42 [00:00<?, ?cell/s]"
      ]
     },
     "metadata": {},
     "output_type": "display_data"
    },
    {
     "name": "stderr",
     "output_type": "stream",
     "text": [
      "2022-04-26 15:36:46,280 - Running notebook for: df9\n"
     ]
    },
    {
     "data": {
      "application/vnd.jupyter.widget-view+json": {
       "model_id": "91d41768309c44ef82a68f9b811ca63a",
       "version_major": 2,
       "version_minor": 0
      },
      "text/plain": [
       "Executing:   0%|          | 0/42 [00:00<?, ?cell/s]"
      ]
     },
     "metadata": {},
     "output_type": "display_data"
    }
   ],
   "source": [
    "for index in ['df1', 'df2','df3','df4','df5','df6','df7', 'df8', 'df9']:\n",
    "    logger.info('Running notebook for: {}'.format(index))\n",
    "    pm.execute_notebook(input_path='Univariate_TimeSeries_forecasting_LingJun.ipynb', \n",
    "                        output_path='../artifacts/nbooks/Univariate_TimeSeries_forecasting_{}_LingJun.ipynb'.format(index),\n",
    "                        parameters={'dfName': index})"
   ]
  },
  {
   "cell_type": "code",
   "execution_count": null,
   "id": "ffc2f08d",
   "metadata": {},
   "outputs": [],
   "source": []
  }
 ],
 "metadata": {
  "kernelspec": {
   "display_name": "conda (timeSeries)",
   "language": "python",
   "name": "conda-timeseries"
  },
  "language_info": {
   "codemirror_mode": {
    "name": "ipython",
    "version": 3
   },
   "file_extension": ".py",
   "mimetype": "text/x-python",
   "name": "python",
   "nbconvert_exporter": "python",
   "pygments_lexer": "ipython3",
   "version": "3.8.13"
  }
 },
 "nbformat": 4,
 "nbformat_minor": 5
}
