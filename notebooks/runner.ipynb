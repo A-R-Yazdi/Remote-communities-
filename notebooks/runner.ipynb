{
 "cells": [
  {
   "cell_type": "markdown",
   "id": "f7e4a8b5",
   "metadata": {},
   "source": [
    "__Only run this follow block once__"
   ]
  },
  {
   "cell_type": "code",
   "execution_count": 1,
   "id": "10dffc25",
   "metadata": {},
   "outputs": [
    {
     "data": {
      "text/plain": [
       "['C:\\\\Users\\\\lizhou\\\\Documents\\\\RemoteCommunity\\\\packages',\n",
       " 'C:\\\\Users\\\\lizhou\\\\Documents\\\\RemoteCommunity\\\\notebooks',\n",
       " 'C:\\\\Users\\\\lizhou\\\\Anaconda3\\\\envs\\\\timeSeries\\\\python38.zip',\n",
       " 'C:\\\\Users\\\\lizhou\\\\Anaconda3\\\\envs\\\\timeSeries\\\\DLLs',\n",
       " 'C:\\\\Users\\\\lizhou\\\\Anaconda3\\\\envs\\\\timeSeries\\\\lib',\n",
       " 'C:\\\\Users\\\\lizhou\\\\Anaconda3\\\\envs\\\\timeSeries',\n",
       " '',\n",
       " 'C:\\\\Users\\\\lizhou\\\\Anaconda3\\\\envs\\\\timeSeries\\\\lib\\\\site-packages',\n",
       " 'c:\\\\users\\\\lizhou\\\\documents\\\\remotecommunity\\\\packages\\\\remotecommunity',\n",
       " 'C:\\\\Users\\\\lizhou\\\\Anaconda3\\\\envs\\\\timeSeries\\\\lib\\\\site-packages\\\\win32',\n",
       " 'C:\\\\Users\\\\lizhou\\\\Anaconda3\\\\envs\\\\timeSeries\\\\lib\\\\site-packages\\\\win32\\\\lib',\n",
       " 'C:\\\\Users\\\\lizhou\\\\Anaconda3\\\\envs\\\\timeSeries\\\\lib\\\\site-packages\\\\Pythonwin']"
      ]
     },
     "execution_count": 1,
     "metadata": {},
     "output_type": "execute_result"
    }
   ],
   "source": [
    "# # adding packages to the system path so that we can import logger.py\n",
    "import sys; sys.path.insert(0,'C:\\\\Users\\\\lizhou\\\\Documents\\\\RemoteCommunity\\\\packages')\n",
    "sys.path"
   ]
  },
  {
   "cell_type": "code",
   "execution_count": 2,
   "id": "c49c8874",
   "metadata": {
    "scrolled": true
   },
   "outputs": [],
   "source": [
    "import papermill as pm\n",
    "# from logger import logger"
   ]
  },
  {
   "cell_type": "markdown",
   "id": "c4e631cf",
   "metadata": {},
   "source": [
    "### Make sure that the parameter name is given correctly in parameters={param: index}"
   ]
  },
  {
   "cell_type": "code",
   "execution_count": 4,
   "id": "fcb3d7ec",
   "metadata": {},
   "outputs": [],
   "source": [
    "# for index in ['df1', 'df2','df3','df4','df5','df6','df7', 'df8', 'df9']:\n",
    "#     logger.info('Running notebook for: {}'.format(index))\n",
    "#     pm.execute_notebook(input_path='XGBoost-LingJun_df1.ipynb', \n",
    "#                         output_path='../artifacts/notebooks/XGBoost-LingJun_{}.ipynb'.format(index),\n",
    "#                         parameters={'thedf': index})"
   ]
  },
  {
   "cell_type": "code",
   "execution_count": 5,
   "id": "93c8e857",
   "metadata": {
    "scrolled": true
   },
   "outputs": [],
   "source": [
    "# for index in ['df1', 'df2','df3','df4','df5','df6','df7', 'df8', 'df9']:\n",
    "#     logger.info('Running notebook for: {}'.format(index))\n",
    "#     pm.execute_notebook(input_path='Univariate_TimeSeries_forecasting_LingJun.ipynb', \n",
    "#                         output_path='../artifacts/nbooks/Univariate_TimeSeries_forecasting_{}_LingJun.ipynb'.format(index),\n",
    "#                         parameters={'dfName': index})"
   ]
  },
  {
   "cell_type": "code",
   "execution_count": 1,
   "id": "ffc2f08d",
   "metadata": {},
   "outputs": [],
   "source": [
    "# li = []\n",
    "# for i in range(1,10):\n",
    "#     li.append('df'+str(i)+'_processed')\n",
    "    \n",
    "# for index in li:\n",
    "# #     logger.info('Running notebook for: {}'.format(index))\n",
    "#     pm.execute_notebook(input_path='Multivariate_with_exogenous_data_LingJun.ipynb', \n",
    "#                         output_path='../artifacts/nbooks/Multivariate_with_exogenous_data_{}_LingJun.ipynb'.format(index),\n",
    "#                         parameters={'df_name': index, 'df_copy': index})"
   ]
  },
  {
   "cell_type": "code",
   "execution_count": 3,
   "id": "b1c8ba0e",
   "metadata": {},
   "outputs": [
    {
     "data": {
      "text/plain": [
       "[1, 2, 3, 4, 5, 6, 7, 8, 9, 10]"
      ]
     },
     "execution_count": 3,
     "metadata": {},
     "output_type": "execute_result"
    }
   ],
   "source": [
    "li = []\n",
    "for i in range(1,11):\n",
    "    li.append(i)\n",
    "\n",
    "li"
   ]
  },
  {
   "cell_type": "code",
   "execution_count": 4,
   "id": "81a842dc",
   "metadata": {},
   "outputs": [
    {
     "data": {
      "application/vnd.jupyter.widget-view+json": {
       "model_id": "49cefbde1ee1465f9905fc4bb0e114b1",
       "version_major": 2,
       "version_minor": 0
      },
      "text/plain": [
       "Executing:   0%|          | 0/102 [00:00<?, ?cell/s]"
      ]
     },
     "metadata": {},
     "output_type": "display_data"
    },
    {
     "data": {
      "application/vnd.jupyter.widget-view+json": {
       "model_id": "970559fd438e40618cc5cb38493373a6",
       "version_major": 2,
       "version_minor": 0
      },
      "text/plain": [
       "Executing:   0%|          | 0/102 [00:00<?, ?cell/s]"
      ]
     },
     "metadata": {},
     "output_type": "display_data"
    },
    {
     "data": {
      "application/vnd.jupyter.widget-view+json": {
       "model_id": "436451029b6b49b6ba56be3d90ffc0b9",
       "version_major": 2,
       "version_minor": 0
      },
      "text/plain": [
       "Executing:   0%|          | 0/102 [00:00<?, ?cell/s]"
      ]
     },
     "metadata": {},
     "output_type": "display_data"
    },
    {
     "data": {
      "application/vnd.jupyter.widget-view+json": {
       "model_id": "a91b4315de1245569afb932691651060",
       "version_major": 2,
       "version_minor": 0
      },
      "text/plain": [
       "Executing:   0%|          | 0/102 [00:00<?, ?cell/s]"
      ]
     },
     "metadata": {},
     "output_type": "display_data"
    },
    {
     "data": {
      "application/vnd.jupyter.widget-view+json": {
       "model_id": "ad475127732b47baab74d83c042ae83e",
       "version_major": 2,
       "version_minor": 0
      },
      "text/plain": [
       "Executing:   0%|          | 0/102 [00:00<?, ?cell/s]"
      ]
     },
     "metadata": {},
     "output_type": "display_data"
    },
    {
     "data": {
      "application/vnd.jupyter.widget-view+json": {
       "model_id": "9c221f2fcec04ed59ebec8702cce96fa",
       "version_major": 2,
       "version_minor": 0
      },
      "text/plain": [
       "Executing:   0%|          | 0/102 [00:00<?, ?cell/s]"
      ]
     },
     "metadata": {},
     "output_type": "display_data"
    },
    {
     "data": {
      "application/vnd.jupyter.widget-view+json": {
       "model_id": "6a3c8e5b26bc4a9ca3171d6d5a91ea5d",
       "version_major": 2,
       "version_minor": 0
      },
      "text/plain": [
       "Executing:   0%|          | 0/102 [00:00<?, ?cell/s]"
      ]
     },
     "metadata": {},
     "output_type": "display_data"
    },
    {
     "data": {
      "application/vnd.jupyter.widget-view+json": {
       "model_id": "c08babe9afd94520b06d9309baa924ca",
       "version_major": 2,
       "version_minor": 0
      },
      "text/plain": [
       "Executing:   0%|          | 0/102 [00:00<?, ?cell/s]"
      ]
     },
     "metadata": {},
     "output_type": "display_data"
    },
    {
     "ename": "PapermillExecutionError",
     "evalue": "\n---------------------------------------------------------------------------\nException encountered at \"In [91]\":\n---------------------------------------------------------------------------\nValueError                                Traceback (most recent call last)\nInput In [91], in <cell line: 2>()\n      1 predictions_dict = {'predictions':test_pred[:,0], 'test_index':test_index_number}\n----> 2 df_predictions = pd.DataFrame(predictions_dict)\n      3 df_predictions.tail()\n\nFile ~\\Anaconda3\\envs\\timeSeries\\lib\\site-packages\\pandas\\core\\frame.py:529, in DataFrame.__init__(self, data, index, columns, dtype, copy)\n    524     mgr = self._init_mgr(\n    525         data, axes={\"index\": index, \"columns\": columns}, dtype=dtype, copy=copy\n    526     )\n    528 elif isinstance(data, dict):\n--> 529     mgr = init_dict(data, index, columns, dtype=dtype)\n    530 elif isinstance(data, ma.MaskedArray):\n    531     import numpy.ma.mrecords as mrecords\n\nFile ~\\Anaconda3\\envs\\timeSeries\\lib\\site-packages\\pandas\\core\\internals\\construction.py:287, in init_dict(data, index, columns, dtype)\n    281     arrays = [\n    282         arr if not isinstance(arr, ABCIndexClass) else arr._data for arr in arrays\n    283     ]\n    284     arrays = [\n    285         arr if not is_datetime64tz_dtype(arr) else arr.copy() for arr in arrays\n    286     ]\n--> 287 return arrays_to_mgr(arrays, data_names, index, columns, dtype=dtype)\n\nFile ~\\Anaconda3\\envs\\timeSeries\\lib\\site-packages\\pandas\\core\\internals\\construction.py:80, in arrays_to_mgr(arrays, arr_names, index, columns, dtype, verify_integrity)\n     77 if verify_integrity:\n     78     # figure out the index, if necessary\n     79     if index is None:\n---> 80         index = extract_index(arrays)\n     81     else:\n     82         index = ensure_index(index)\n\nFile ~\\Anaconda3\\envs\\timeSeries\\lib\\site-packages\\pandas\\core\\internals\\construction.py:401, in extract_index(data)\n    399 lengths = list(set(raw_lengths))\n    400 if len(lengths) > 1:\n--> 401     raise ValueError(\"arrays must all be same length\")\n    403 if have_dicts:\n    404     raise ValueError(\n    405         \"Mixing dicts with non-Series may lead to ambiguous ordering.\"\n    406     )\n\nValueError: arrays must all be same length\n",
     "output_type": "error",
     "traceback": [
      "\u001b[1;31m---------------------------------------------------------------------------\u001b[0m",
      "\u001b[1;31mPapermillExecutionError\u001b[0m                   Traceback (most recent call last)",
      "Input \u001b[1;32mIn [4]\u001b[0m, in \u001b[0;36m<cell line: 1>\u001b[1;34m()\u001b[0m\n\u001b[0;32m      1\u001b[0m \u001b[38;5;28;01mfor\u001b[39;00m i \u001b[38;5;129;01min\u001b[39;00m li:\n\u001b[0;32m      2\u001b[0m \u001b[38;5;66;03m#     logger.info('Running notebook for: {}'.format(index))\u001b[39;00m\n\u001b[1;32m----> 3\u001b[0m     \u001b[43mpm\u001b[49m\u001b[38;5;241;43m.\u001b[39;49m\u001b[43mexecute_notebook\u001b[49m\u001b[43m(\u001b[49m\u001b[43minput_path\u001b[49m\u001b[38;5;241;43m=\u001b[39;49m\u001b[38;5;124;43m'\u001b[39;49m\u001b[38;5;124;43mDNN_Ali_May30_no_temp.ipynb\u001b[39;49m\u001b[38;5;124;43m'\u001b[39;49m\u001b[43m,\u001b[49m\u001b[43m \u001b[49m\n\u001b[0;32m      4\u001b[0m \u001b[43m                        \u001b[49m\u001b[43moutput_path\u001b[49m\u001b[38;5;241;43m=\u001b[39;49m\u001b[38;5;124;43m'\u001b[39;49m\u001b[38;5;124;43m../artifacts/nbooks/DNN_Ali_May30_no_temp_s[\u001b[39;49m\u001b[38;5;132;43;01m{}\u001b[39;49;00m\u001b[38;5;124;43m].ipynb\u001b[39;49m\u001b[38;5;124;43m'\u001b[39;49m\u001b[38;5;241;43m.\u001b[39;49m\u001b[43mformat\u001b[49m\u001b[43m(\u001b[49m\u001b[43mi\u001b[49m\u001b[43m)\u001b[49m\u001b[43m,\u001b[49m\n\u001b[0;32m      5\u001b[0m \u001b[43m                        \u001b[49m\u001b[43mparameters\u001b[49m\u001b[38;5;241;43m=\u001b[39;49m\u001b[43m{\u001b[49m\u001b[38;5;124;43m'\u001b[39;49m\u001b[38;5;124;43mi\u001b[39;49m\u001b[38;5;124;43m'\u001b[39;49m\u001b[43m:\u001b[49m\u001b[43m \u001b[49m\u001b[43mi\u001b[49m\u001b[43m}\u001b[49m\u001b[43m)\u001b[49m\n",
      "File \u001b[1;32m~\\Anaconda3\\envs\\timeSeries\\lib\\site-packages\\papermill\\execute.py:122\u001b[0m, in \u001b[0;36mexecute_notebook\u001b[1;34m(input_path, output_path, parameters, engine_name, request_save_on_cell_execute, prepare_only, kernel_name, language, progress_bar, log_output, stdout_file, stderr_file, start_timeout, report_mode, cwd, **engine_kwargs)\u001b[0m\n\u001b[0;32m    107\u001b[0m         nb \u001b[38;5;241m=\u001b[39m papermill_engines\u001b[38;5;241m.\u001b[39mexecute_notebook_with_engine(\n\u001b[0;32m    108\u001b[0m             engine_name,\n\u001b[0;32m    109\u001b[0m             nb,\n\u001b[1;32m   (...)\u001b[0m\n\u001b[0;32m    118\u001b[0m             \u001b[38;5;241m*\u001b[39m\u001b[38;5;241m*\u001b[39mengine_kwargs\n\u001b[0;32m    119\u001b[0m         )\n\u001b[0;32m    121\u001b[0m     \u001b[38;5;66;03m# Check for errors first (it saves on error before raising)\u001b[39;00m\n\u001b[1;32m--> 122\u001b[0m     \u001b[43mraise_for_execution_errors\u001b[49m\u001b[43m(\u001b[49m\u001b[43mnb\u001b[49m\u001b[43m,\u001b[49m\u001b[43m \u001b[49m\u001b[43moutput_path\u001b[49m\u001b[43m)\u001b[49m\n\u001b[0;32m    124\u001b[0m \u001b[38;5;66;03m# Write final output in case the engine didn't write it on cell completion.\u001b[39;00m\n\u001b[0;32m    125\u001b[0m write_ipynb(nb, output_path)\n",
      "File \u001b[1;32m~\\Anaconda3\\envs\\timeSeries\\lib\\site-packages\\papermill\\execute.py:234\u001b[0m, in \u001b[0;36mraise_for_execution_errors\u001b[1;34m(nb, output_path)\u001b[0m\n\u001b[0;32m    231\u001b[0m nb\u001b[38;5;241m.\u001b[39mcells\u001b[38;5;241m.\u001b[39minsert(\u001b[38;5;241m0\u001b[39m, error_msg_cell)\n\u001b[0;32m    233\u001b[0m write_ipynb(nb, output_path)\n\u001b[1;32m--> 234\u001b[0m \u001b[38;5;28;01mraise\u001b[39;00m error\n",
      "\u001b[1;31mPapermillExecutionError\u001b[0m: \n---------------------------------------------------------------------------\nException encountered at \"In [91]\":\n---------------------------------------------------------------------------\nValueError                                Traceback (most recent call last)\nInput In [91], in <cell line: 2>()\n      1 predictions_dict = {'predictions':test_pred[:,0], 'test_index':test_index_number}\n----> 2 df_predictions = pd.DataFrame(predictions_dict)\n      3 df_predictions.tail()\n\nFile ~\\Anaconda3\\envs\\timeSeries\\lib\\site-packages\\pandas\\core\\frame.py:529, in DataFrame.__init__(self, data, index, columns, dtype, copy)\n    524     mgr = self._init_mgr(\n    525         data, axes={\"index\": index, \"columns\": columns}, dtype=dtype, copy=copy\n    526     )\n    528 elif isinstance(data, dict):\n--> 529     mgr = init_dict(data, index, columns, dtype=dtype)\n    530 elif isinstance(data, ma.MaskedArray):\n    531     import numpy.ma.mrecords as mrecords\n\nFile ~\\Anaconda3\\envs\\timeSeries\\lib\\site-packages\\pandas\\core\\internals\\construction.py:287, in init_dict(data, index, columns, dtype)\n    281     arrays = [\n    282         arr if not isinstance(arr, ABCIndexClass) else arr._data for arr in arrays\n    283     ]\n    284     arrays = [\n    285         arr if not is_datetime64tz_dtype(arr) else arr.copy() for arr in arrays\n    286     ]\n--> 287 return arrays_to_mgr(arrays, data_names, index, columns, dtype=dtype)\n\nFile ~\\Anaconda3\\envs\\timeSeries\\lib\\site-packages\\pandas\\core\\internals\\construction.py:80, in arrays_to_mgr(arrays, arr_names, index, columns, dtype, verify_integrity)\n     77 if verify_integrity:\n     78     # figure out the index, if necessary\n     79     if index is None:\n---> 80         index = extract_index(arrays)\n     81     else:\n     82         index = ensure_index(index)\n\nFile ~\\Anaconda3\\envs\\timeSeries\\lib\\site-packages\\pandas\\core\\internals\\construction.py:401, in extract_index(data)\n    399 lengths = list(set(raw_lengths))\n    400 if len(lengths) > 1:\n--> 401     raise ValueError(\"arrays must all be same length\")\n    403 if have_dicts:\n    404     raise ValueError(\n    405         \"Mixing dicts with non-Series may lead to ambiguous ordering.\"\n    406     )\n\nValueError: arrays must all be same length\n"
     ]
    }
   ],
   "source": [
    "for i in li:\n",
    "#     logger.info('Running notebook for: {}'.format(index))\n",
    "    pm.execute_notebook(input_path='DNN_Ali_May30_no_temp.ipynb', \n",
    "                        output_path='../artifacts/nbooks/DNN_Ali_May30_no_temp_s[{}].ipynb'.format(i),\n",
    "                        parameters={'i': i})"
   ]
  },
  {
   "cell_type": "code",
   "execution_count": null,
   "id": "be701bcc",
   "metadata": {},
   "outputs": [],
   "source": []
  },
  {
   "cell_type": "code",
   "execution_count": null,
   "id": "e1fbc3eb",
   "metadata": {},
   "outputs": [],
   "source": []
  },
  {
   "cell_type": "code",
   "execution_count": null,
   "id": "0e0c93fd",
   "metadata": {},
   "outputs": [],
   "source": []
  },
  {
   "cell_type": "code",
   "execution_count": null,
   "id": "98577e71",
   "metadata": {},
   "outputs": [],
   "source": []
  },
  {
   "cell_type": "code",
   "execution_count": null,
   "id": "8c6effe3",
   "metadata": {},
   "outputs": [],
   "source": []
  },
  {
   "cell_type": "code",
   "execution_count": null,
   "id": "a8652368",
   "metadata": {},
   "outputs": [],
   "source": []
  },
  {
   "cell_type": "code",
   "execution_count": null,
   "id": "ec8712c1",
   "metadata": {},
   "outputs": [],
   "source": []
  },
  {
   "cell_type": "code",
   "execution_count": null,
   "id": "e36634c4",
   "metadata": {},
   "outputs": [],
   "source": []
  },
  {
   "cell_type": "code",
   "execution_count": null,
   "id": "e9b951c8",
   "metadata": {},
   "outputs": [],
   "source": []
  },
  {
   "cell_type": "code",
   "execution_count": null,
   "id": "fb4c42a9",
   "metadata": {},
   "outputs": [],
   "source": []
  }
 ],
 "metadata": {
  "kernelspec": {
   "display_name": "conda (timeSeries)",
   "language": "python",
   "name": "conda-timeseries"
  },
  "language_info": {
   "codemirror_mode": {
    "name": "ipython",
    "version": 3
   },
   "file_extension": ".py",
   "mimetype": "text/x-python",
   "name": "python",
   "nbconvert_exporter": "python",
   "pygments_lexer": "ipython3",
   "version": "3.8.13"
  }
 },
 "nbformat": 4,
 "nbformat_minor": 5
}
