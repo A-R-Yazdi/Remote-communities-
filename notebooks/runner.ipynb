{
 "cells": [
  {
   "cell_type": "code",
   "execution_count": 17,
   "id": "10dffc25",
   "metadata": {},
   "outputs": [
    {
     "data": {
      "text/plain": [
       "['C:\\\\Users\\\\lizhou\\\\Documents\\\\RemoteCommunity\\\\packages',\n",
       " 'C:\\\\Users\\\\lizhou\\\\Documents\\\\RemoteCommunity\\\\notebooks',\n",
       " 'C:\\\\Users\\\\lizhou\\\\Anaconda3\\\\envs\\\\timeSeries\\\\python38.zip',\n",
       " 'C:\\\\Users\\\\lizhou\\\\Anaconda3\\\\envs\\\\timeSeries\\\\DLLs',\n",
       " 'C:\\\\Users\\\\lizhou\\\\Anaconda3\\\\envs\\\\timeSeries\\\\lib',\n",
       " 'C:\\\\Users\\\\lizhou\\\\Anaconda3\\\\envs\\\\timeSeries',\n",
       " '',\n",
       " 'C:\\\\Users\\\\lizhou\\\\Anaconda3\\\\envs\\\\timeSeries\\\\lib\\\\site-packages',\n",
       " 'c:\\\\users\\\\lizhou\\\\documents\\\\remotecommunity\\\\packages\\\\preprocess',\n",
       " 'C:\\\\Users\\\\lizhou\\\\Anaconda3\\\\envs\\\\timeSeries\\\\lib\\\\site-packages\\\\win32',\n",
       " 'C:\\\\Users\\\\lizhou\\\\Anaconda3\\\\envs\\\\timeSeries\\\\lib\\\\site-packages\\\\win32\\\\lib',\n",
       " 'C:\\\\Users\\\\lizhou\\\\Anaconda3\\\\envs\\\\timeSeries\\\\lib\\\\site-packages\\\\Pythonwin']"
      ]
     },
     "execution_count": 17,
     "metadata": {},
     "output_type": "execute_result"
    }
   ],
   "source": [
    "# # adding packages to the system path so that we can import logger.py\n",
    "# import sys; sys.path.remove('C:\\\\Users\\\\lizhou\\\\Documents\\\\RemoteCommunity\\\\packages')\n",
    "# sys.path"
   ]
  },
  {
   "cell_type": "code",
   "execution_count": 16,
   "id": "c49c8874",
   "metadata": {
    "scrolled": true
   },
   "outputs": [],
   "source": [
    "import papermill as pm\n",
    "from logger import logger"
   ]
  },
  {
   "cell_type": "markdown",
   "id": "c4e631cf",
   "metadata": {},
   "source": [
    "### Make sure that the parameter name is given correctly in parameters={param: index}"
   ]
  },
  {
   "cell_type": "code",
   "execution_count": 2,
   "id": "fcb3d7ec",
   "metadata": {},
   "outputs": [],
   "source": [
    "# for index in ['df1', 'df2','df3','df4','df5','df6','df7', 'df8', 'df9']:\n",
    "#     logger.info('Running notebook for: {}'.format(index))\n",
    "#     pm.execute_notebook(input_path='XGBoost-LingJun_df1.ipynb', \n",
    "#                         output_path='../artifacts/notebooks/XGBoost-LingJun_{}.ipynb'.format(index),\n",
    "#                         parameters={'thedf': index})"
   ]
  },
  {
   "cell_type": "code",
   "execution_count": 3,
   "id": "93c8e857",
   "metadata": {
    "scrolled": true
   },
   "outputs": [
    {
     "name": "stderr",
     "output_type": "stream",
     "text": [
      "2022-04-27 13:18:31,981 - Running notebook for: df1\n"
     ]
    },
    {
     "data": {
      "application/vnd.jupyter.widget-view+json": {
       "model_id": "45449048a86b46c4998f7d406471e81a",
       "version_major": 2,
       "version_minor": 0
      },
      "text/plain": [
       "Executing:   0%|          | 0/43 [00:00<?, ?cell/s]"
      ]
     },
     "metadata": {},
     "output_type": "display_data"
    },
    {
     "name": "stderr",
     "output_type": "stream",
     "text": [
      "2022-04-27 13:18:50,714 - Running notebook for: df2\n"
     ]
    },
    {
     "data": {
      "application/vnd.jupyter.widget-view+json": {
       "model_id": "856662eeb23145d8aa911b085c84e6d3",
       "version_major": 2,
       "version_minor": 0
      },
      "text/plain": [
       "Executing:   0%|          | 0/43 [00:00<?, ?cell/s]"
      ]
     },
     "metadata": {},
     "output_type": "display_data"
    },
    {
     "name": "stderr",
     "output_type": "stream",
     "text": [
      "2022-04-27 13:19:06,541 - Running notebook for: df3\n"
     ]
    },
    {
     "data": {
      "application/vnd.jupyter.widget-view+json": {
       "model_id": "83c4d6a005ac4db88d2dd823b933ae2e",
       "version_major": 2,
       "version_minor": 0
      },
      "text/plain": [
       "Executing:   0%|          | 0/43 [00:00<?, ?cell/s]"
      ]
     },
     "metadata": {},
     "output_type": "display_data"
    },
    {
     "name": "stderr",
     "output_type": "stream",
     "text": [
      "2022-04-27 13:19:22,299 - Running notebook for: df4\n"
     ]
    },
    {
     "data": {
      "application/vnd.jupyter.widget-view+json": {
       "model_id": "d3ad235c319449f88e4a0b2d4b654382",
       "version_major": 2,
       "version_minor": 0
      },
      "text/plain": [
       "Executing:   0%|          | 0/43 [00:00<?, ?cell/s]"
      ]
     },
     "metadata": {},
     "output_type": "display_data"
    },
    {
     "name": "stderr",
     "output_type": "stream",
     "text": [
      "2022-04-27 13:19:37,920 - Running notebook for: df5\n"
     ]
    },
    {
     "data": {
      "application/vnd.jupyter.widget-view+json": {
       "model_id": "ebd00908d4244628942ae8bb5b71660a",
       "version_major": 2,
       "version_minor": 0
      },
      "text/plain": [
       "Executing:   0%|          | 0/43 [00:00<?, ?cell/s]"
      ]
     },
     "metadata": {},
     "output_type": "display_data"
    },
    {
     "name": "stderr",
     "output_type": "stream",
     "text": [
      "2022-04-27 13:19:53,786 - Running notebook for: df6\n"
     ]
    },
    {
     "data": {
      "application/vnd.jupyter.widget-view+json": {
       "model_id": "8f61e01a89024eb29a752fcc3e96fdf5",
       "version_major": 2,
       "version_minor": 0
      },
      "text/plain": [
       "Executing:   0%|          | 0/43 [00:00<?, ?cell/s]"
      ]
     },
     "metadata": {},
     "output_type": "display_data"
    },
    {
     "name": "stderr",
     "output_type": "stream",
     "text": [
      "2022-04-27 13:20:09,919 - Running notebook for: df7\n"
     ]
    },
    {
     "data": {
      "application/vnd.jupyter.widget-view+json": {
       "model_id": "47cc7bddcaa944dc8b892e30c59d7d5d",
       "version_major": 2,
       "version_minor": 0
      },
      "text/plain": [
       "Executing:   0%|          | 0/43 [00:00<?, ?cell/s]"
      ]
     },
     "metadata": {},
     "output_type": "display_data"
    },
    {
     "name": "stderr",
     "output_type": "stream",
     "text": [
      "2022-04-27 13:20:26,315 - Running notebook for: df8\n"
     ]
    },
    {
     "data": {
      "application/vnd.jupyter.widget-view+json": {
       "model_id": "f69bf2aa8f59425b975cc2996da2b274",
       "version_major": 2,
       "version_minor": 0
      },
      "text/plain": [
       "Executing:   0%|          | 0/43 [00:00<?, ?cell/s]"
      ]
     },
     "metadata": {},
     "output_type": "display_data"
    },
    {
     "name": "stderr",
     "output_type": "stream",
     "text": [
      "2022-04-27 13:20:42,849 - Running notebook for: df9\n"
     ]
    },
    {
     "data": {
      "application/vnd.jupyter.widget-view+json": {
       "model_id": "8a892604bc174665a3892b4ba11cf904",
       "version_major": 2,
       "version_minor": 0
      },
      "text/plain": [
       "Executing:   0%|          | 0/43 [00:00<?, ?cell/s]"
      ]
     },
     "metadata": {},
     "output_type": "display_data"
    }
   ],
   "source": [
    "for index in ['df1', 'df2','df3','df4','df5','df6','df7', 'df8', 'df9']:\n",
    "    logger.info('Running notebook for: {}'.format(index))\n",
    "    pm.execute_notebook(input_path='Univariate_TimeSeries_forecasting_LingJun.ipynb', \n",
    "                        output_path='../artifacts/nbooks/Univariate_TimeSeries_forecasting_{}_LingJun.ipynb'.format(index),\n",
    "                        parameters={'dfName': index})"
   ]
  },
  {
   "cell_type": "code",
   "execution_count": null,
   "id": "ffc2f08d",
   "metadata": {},
   "outputs": [],
   "source": []
  }
 ],
 "metadata": {
  "kernelspec": {
   "display_name": "conda (timeSeries)",
   "language": "python",
   "name": "conda-timeseries"
  },
  "language_info": {
   "codemirror_mode": {
    "name": "ipython",
    "version": 3
   },
   "file_extension": ".py",
   "mimetype": "text/x-python",
   "name": "python",
   "nbconvert_exporter": "python",
   "pygments_lexer": "ipython3",
   "version": "3.8.13"
  }
 },
 "nbformat": 4,
 "nbformat_minor": 5
}
