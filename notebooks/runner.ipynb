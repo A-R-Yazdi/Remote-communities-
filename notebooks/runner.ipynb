{
 "cells": [
  {
   "cell_type": "markdown",
   "id": "f7e4a8b5",
   "metadata": {},
   "source": [
    "__Only run this follow block once__"
   ]
  },
  {
   "cell_type": "code",
   "execution_count": 2,
   "id": "10dffc25",
   "metadata": {},
   "outputs": [
    {
     "data": {
      "text/plain": [
       "['C:\\\\Users\\\\lizhou\\\\Documents\\\\RemoteCommunity\\\\packages',\n",
       " 'C:\\\\Users\\\\lizhou\\\\Documents\\\\RemoteCommunity\\\\notebooks',\n",
       " 'C:\\\\Users\\\\lizhou\\\\Anaconda3\\\\envs\\\\timeSeries\\\\python38.zip',\n",
       " 'C:\\\\Users\\\\lizhou\\\\Anaconda3\\\\envs\\\\timeSeries\\\\DLLs',\n",
       " 'C:\\\\Users\\\\lizhou\\\\Anaconda3\\\\envs\\\\timeSeries\\\\lib',\n",
       " 'C:\\\\Users\\\\lizhou\\\\Anaconda3\\\\envs\\\\timeSeries',\n",
       " '',\n",
       " 'C:\\\\Users\\\\lizhou\\\\Anaconda3\\\\envs\\\\timeSeries\\\\lib\\\\site-packages',\n",
       " 'c:\\\\users\\\\lizhou\\\\documents\\\\remotecommunity\\\\packages\\\\preprocess',\n",
       " 'C:\\\\Users\\\\lizhou\\\\Anaconda3\\\\envs\\\\timeSeries\\\\lib\\\\site-packages\\\\win32',\n",
       " 'C:\\\\Users\\\\lizhou\\\\Anaconda3\\\\envs\\\\timeSeries\\\\lib\\\\site-packages\\\\win32\\\\lib',\n",
       " 'C:\\\\Users\\\\lizhou\\\\Anaconda3\\\\envs\\\\timeSeries\\\\lib\\\\site-packages\\\\Pythonwin']"
      ]
     },
     "execution_count": 2,
     "metadata": {},
     "output_type": "execute_result"
    }
   ],
   "source": [
    "# # adding packages to the system path so that we can import logger.py\n",
    "import sys; sys.path.insert(0,'C:\\\\Users\\\\lizhou\\\\Documents\\\\RemoteCommunity\\\\packages')\n",
    "sys.path"
   ]
  },
  {
   "cell_type": "code",
   "execution_count": 3,
   "id": "c49c8874",
   "metadata": {
    "scrolled": true
   },
   "outputs": [],
   "source": [
    "import papermill as pm\n",
    "from logger import logger"
   ]
  },
  {
   "cell_type": "markdown",
   "id": "c4e631cf",
   "metadata": {},
   "source": [
    "### Make sure that the parameter name is given correctly in parameters={param: index}"
   ]
  },
  {
   "cell_type": "code",
   "execution_count": 4,
   "id": "fcb3d7ec",
   "metadata": {},
   "outputs": [],
   "source": [
    "# for index in ['df1', 'df2','df3','df4','df5','df6','df7', 'df8', 'df9']:\n",
    "#     logger.info('Running notebook for: {}'.format(index))\n",
    "#     pm.execute_notebook(input_path='XGBoost-LingJun_df1.ipynb', \n",
    "#                         output_path='../artifacts/notebooks/XGBoost-LingJun_{}.ipynb'.format(index),\n",
    "#                         parameters={'thedf': index})"
   ]
  },
  {
   "cell_type": "code",
   "execution_count": 5,
   "id": "93c8e857",
   "metadata": {
    "scrolled": true
   },
   "outputs": [],
   "source": [
    "# for index in ['df1', 'df2','df3','df4','df5','df6','df7', 'df8', 'df9']:\n",
    "#     logger.info('Running notebook for: {}'.format(index))\n",
    "#     pm.execute_notebook(input_path='Univariate_TimeSeries_forecasting_LingJun.ipynb', \n",
    "#                         output_path='../artifacts/nbooks/Univariate_TimeSeries_forecasting_{}_LingJun.ipynb'.format(index),\n",
    "#                         parameters={'dfName': index})"
   ]
  },
  {
   "cell_type": "code",
   "execution_count": 7,
   "id": "ffc2f08d",
   "metadata": {},
   "outputs": [
    {
     "name": "stderr",
     "output_type": "stream",
     "text": [
      "2022-04-29 12:32:55,088 - Running notebook for: df1_processed\n"
     ]
    },
    {
     "data": {
      "application/vnd.jupyter.widget-view+json": {
       "model_id": "5dd88172d290427e9cc3539b7964c71e",
       "version_major": 2,
       "version_minor": 0
      },
      "text/plain": [
       "Executing:   0%|          | 0/41 [00:00<?, ?cell/s]"
      ]
     },
     "metadata": {},
     "output_type": "display_data"
    },
    {
     "name": "stderr",
     "output_type": "stream",
     "text": [
      "2022-04-29 12:33:03,763 - Running notebook for: df2_processed\n"
     ]
    },
    {
     "data": {
      "application/vnd.jupyter.widget-view+json": {
       "model_id": "fc8239b620e0408d9619aff92bc753eb",
       "version_major": 2,
       "version_minor": 0
      },
      "text/plain": [
       "Executing:   0%|          | 0/41 [00:00<?, ?cell/s]"
      ]
     },
     "metadata": {},
     "output_type": "display_data"
    },
    {
     "name": "stderr",
     "output_type": "stream",
     "text": [
      "2022-04-29 12:33:12,335 - Running notebook for: df3_processed\n"
     ]
    },
    {
     "data": {
      "application/vnd.jupyter.widget-view+json": {
       "model_id": "b5497c2a289b4c80925f51c2523bd82a",
       "version_major": 2,
       "version_minor": 0
      },
      "text/plain": [
       "Executing:   0%|          | 0/41 [00:00<?, ?cell/s]"
      ]
     },
     "metadata": {},
     "output_type": "display_data"
    },
    {
     "name": "stderr",
     "output_type": "stream",
     "text": [
      "2022-04-29 12:33:20,823 - Running notebook for: df4_processed\n"
     ]
    },
    {
     "data": {
      "application/vnd.jupyter.widget-view+json": {
       "model_id": "50bc4c5058844d9a93265f2fd90cdb47",
       "version_major": 2,
       "version_minor": 0
      },
      "text/plain": [
       "Executing:   0%|          | 0/41 [00:00<?, ?cell/s]"
      ]
     },
     "metadata": {},
     "output_type": "display_data"
    },
    {
     "name": "stderr",
     "output_type": "stream",
     "text": [
      "2022-04-29 12:33:29,524 - Running notebook for: df5_processed\n"
     ]
    },
    {
     "data": {
      "application/vnd.jupyter.widget-view+json": {
       "model_id": "72bac50b0491453291e5be63e1d224f6",
       "version_major": 2,
       "version_minor": 0
      },
      "text/plain": [
       "Executing:   0%|          | 0/41 [00:00<?, ?cell/s]"
      ]
     },
     "metadata": {},
     "output_type": "display_data"
    },
    {
     "name": "stderr",
     "output_type": "stream",
     "text": [
      "2022-04-29 12:33:38,010 - Running notebook for: df6_processed\n"
     ]
    },
    {
     "data": {
      "application/vnd.jupyter.widget-view+json": {
       "model_id": "2a1a7045007645d4b66911535f407f22",
       "version_major": 2,
       "version_minor": 0
      },
      "text/plain": [
       "Executing:   0%|          | 0/41 [00:00<?, ?cell/s]"
      ]
     },
     "metadata": {},
     "output_type": "display_data"
    },
    {
     "name": "stderr",
     "output_type": "stream",
     "text": [
      "2022-04-29 12:33:46,399 - Running notebook for: df7_processed\n"
     ]
    },
    {
     "data": {
      "application/vnd.jupyter.widget-view+json": {
       "model_id": "c677bf799a844eceba0c0d62d9319c78",
       "version_major": 2,
       "version_minor": 0
      },
      "text/plain": [
       "Executing:   0%|          | 0/41 [00:00<?, ?cell/s]"
      ]
     },
     "metadata": {},
     "output_type": "display_data"
    },
    {
     "name": "stderr",
     "output_type": "stream",
     "text": [
      "2022-04-29 12:33:54,936 - Running notebook for: df8_processed\n"
     ]
    },
    {
     "data": {
      "application/vnd.jupyter.widget-view+json": {
       "model_id": "7f16c24816e44bbabd78675a437f9490",
       "version_major": 2,
       "version_minor": 0
      },
      "text/plain": [
       "Executing:   0%|          | 0/41 [00:00<?, ?cell/s]"
      ]
     },
     "metadata": {},
     "output_type": "display_data"
    },
    {
     "name": "stderr",
     "output_type": "stream",
     "text": [
      "2022-04-29 12:34:04,063 - Running notebook for: df9_processed\n"
     ]
    },
    {
     "data": {
      "application/vnd.jupyter.widget-view+json": {
       "model_id": "07bf1c5d6f1b408395b2d698ab47e845",
       "version_major": 2,
       "version_minor": 0
      },
      "text/plain": [
       "Executing:   0%|          | 0/41 [00:00<?, ?cell/s]"
      ]
     },
     "metadata": {},
     "output_type": "display_data"
    }
   ],
   "source": [
    "li = []\n",
    "for i in range(1,10):\n",
    "    li.append('df'+str(i)+'_processed')\n",
    "    \n",
    "for index in li:\n",
    "    logger.info('Running notebook for: {}'.format(index))\n",
    "    pm.execute_notebook(input_path='Multivariate_with_exogenous_data_LingJun.ipynb', \n",
    "                        output_path='../artifacts/nbooks/Multivariate_with_exogenous_data_{}_LingJun.ipynb'.format(index),\n",
    "                        parameters={'df_name': index})"
   ]
  },
  {
   "cell_type": "code",
   "execution_count": null,
   "id": "b1c8ba0e",
   "metadata": {},
   "outputs": [],
   "source": []
  }
 ],
 "metadata": {
  "kernelspec": {
   "display_name": "conda (timeSeries)",
   "language": "python",
   "name": "conda-timeseries"
  },
  "language_info": {
   "codemirror_mode": {
    "name": "ipython",
    "version": 3
   },
   "file_extension": ".py",
   "mimetype": "text/x-python",
   "name": "python",
   "nbconvert_exporter": "python",
   "pygments_lexer": "ipython3",
   "version": "3.8.13"
  }
 },
 "nbformat": 4,
 "nbformat_minor": 5
}
