{
 "cells": [
  {
   "cell_type": "code",
   "execution_count": 1,
   "id": "c49c8874",
   "metadata": {
    "scrolled": true
   },
   "outputs": [],
   "source": [
    "import papermill as pm\n",
    "from logger import logger\n"
   ]
  },
  {
   "cell_type": "markdown",
   "id": "c4e631cf",
   "metadata": {},
   "source": [
    "### Make sure that the parameter name is given correctly in parameters={param: index}"
   ]
  },
  {
   "cell_type": "code",
   "execution_count": 2,
   "id": "fcb3d7ec",
   "metadata": {},
   "outputs": [
    {
     "name": "stderr",
     "output_type": "stream",
     "text": [
      "2022-03-07 14:11:41,748 - Running notebook for: df2\n",
      "Executing: 100%|\u2588\u2588\u2588\u2588\u2588\u2588\u2588\u2588\u2588\u2588\u2588\u2588\u2588\u2588\u2588\u2588\u2588\u2588\u2588\u2588\u2588\u2588\u2588\u2588\u2588\u2588\u2588\u2588\u2588\u2588| 58/58 [00:16<00:00,  3.48cell/s]\n",
      "2022-03-07 14:11:58,818 - Running notebook for: df3\n",
      "Executing: 100%|\u2588\u2588\u2588\u2588\u2588\u2588\u2588\u2588\u2588\u2588\u2588\u2588\u2588\u2588\u2588\u2588\u2588\u2588\u2588\u2588\u2588\u2588\u2588\u2588\u2588\u2588\u2588\u2588\u2588\u2588| 58/58 [00:18<00:00,  3.22cell/s]\n"
     ]
    }
   ],
   "source": [
    "for index in ['df2', 'df3']:\n",
    "    logger.info('Running notebook for: {}'.format(index))\n",
    "    pm.execute_notebook(input_path='XGBoost-LingJun_df1.ipynb', \n",
    "                        output_path='../artifacts/notebooks/XGBoost-LingJun_{}.ipynb'.format(index),\n",
    "                        parameters={'thedf': index})"
   ]
  },
  {
   "cell_type": "code",
   "execution_count": null,
   "id": "93c8e857",
   "metadata": {},
   "outputs": [],
   "source": []
  }
 ],
 "metadata": {
  "kernelspec": {
   "display_name": "Python 3.9.10 ('remote_com_env')",
   "language": "python",
   "name": "python3910jvsc74a57bd0241211fc490863c972ebdd35c3227c687177b4909cebd3d152b23e13192e21df"
  },
  "language_info": {
   "codemirror_mode": {
    "name": "ipython",
    "version": 3
   },
   "file_extension": ".py",
   "mimetype": "text/x-python",
   "name": "python",
   "nbconvert_exporter": "python",
   "pygments_lexer": "ipython3",
   "version": "3.9.10"
  }
 },
 "nbformat": 4,
 "nbformat_minor": 5
}
