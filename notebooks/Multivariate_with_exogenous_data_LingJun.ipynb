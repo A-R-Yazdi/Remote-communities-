{
 "cells": [
  {
   "cell_type": "markdown",
   "metadata": {},
   "source": [
    "**Now, why is the python version different from the sys.version?**: sys.version gives the IPy kernel version, `!python --version` gives the REPL python version from which Jupyter notebook starts"
   ]
  },
  {
   "cell_type": "markdown",
   "metadata": {
    "id": "6os0qMq_vjkH"
   },
   "source": [
    "## Load data & packages"
   ]
  },
  {
   "cell_type": "code",
   "execution_count": 1,
   "metadata": {
    "id": "SDVSes2JaaBg"
   },
   "outputs": [
    {
     "data": {
      "application/javascript": [
       "\n",
       "            setTimeout(function() {\n",
       "                var nbb_cell_id = 1;\n",
       "                var nbb_unformatted_code = \"# enable python linting\\n%load_ext nb_black\\n\\n# input dataset\\ninput_file = \\\"../data/all_combined_training.csv\\\"\\nvalidation_file = \\\"../data/all_combined_validation.csv\\\"\\n\\ndfName = \\\"df1\\\"\\nprocessed_data = lambda dfName: \\\"../data/\\\" + dfName + \\\"_processed.csv\\\"\\n\\nmodel_root = \\\"../artifacts/models/\\\"\\ndata_root = \\\"../data/\\\"\\nfig_root = \\\"../figs/\\\"\\npackage_root = \\\"../packages/\\\"\\nroot = \\\"../\\\"\\nDEBUG_MODE = True\";\n",
       "                var nbb_formatted_code = \"# enable python linting\\n%load_ext nb_black\\n\\n# input dataset\\ninput_file = \\\"../data/all_combined_training.csv\\\"\\nvalidation_file = \\\"../data/all_combined_validation.csv\\\"\\n\\ndfName = \\\"df1\\\"\\nprocessed_data = lambda dfName: \\\"../data/\\\" + dfName + \\\"_processed.csv\\\"\\n\\nmodel_root = \\\"../artifacts/models/\\\"\\ndata_root = \\\"../data/\\\"\\nfig_root = \\\"../figs/\\\"\\npackage_root = \\\"../packages/\\\"\\nroot = \\\"../\\\"\\nDEBUG_MODE = True\";\n",
       "                var nbb_cells = Jupyter.notebook.get_cells();\n",
       "                for (var i = 0; i < nbb_cells.length; ++i) {\n",
       "                    if (nbb_cells[i].input_prompt_number == nbb_cell_id) {\n",
       "                        if (nbb_cells[i].get_text() == nbb_unformatted_code) {\n",
       "                             nbb_cells[i].set_text(nbb_formatted_code);\n",
       "                        }\n",
       "                        break;\n",
       "                    }\n",
       "                }\n",
       "            }, 500);\n",
       "            "
      ],
      "text/plain": [
       "<IPython.core.display.Javascript object>"
      ]
     },
     "metadata": {},
     "output_type": "display_data"
    }
   ],
   "source": [
    "# enable python linting\n",
    "%load_ext nb_black\n",
    "\n",
    "# input dataset\n",
    "input_file = \"../data/all_combined_training.csv\"\n",
    "validation_file = \"../data/all_combined_validation.csv\"\n",
    "\n",
    "dfName = \"df1\"\n",
    "processed_data = lambda dfName: \"../data/\" + dfName + \"_processed.csv\"\n",
    "\n",
    "model_root = \"../artifacts/models/\"\n",
    "data_root = \"../data/\"\n",
    "fig_root = \"../figs/\"\n",
    "package_root = \"../packages/\"\n",
    "root = \"../\"\n",
    "DEBUG_MODE = True"
   ]
  },
  {
   "cell_type": "code",
   "execution_count": 2,
   "metadata": {
    "id": "0F7k2jwJaaBe"
   },
   "outputs": [
    {
     "data": {
      "application/javascript": [
       "\n",
       "            setTimeout(function() {\n",
       "                var nbb_cell_id = 2;\n",
       "                var nbb_unformatted_code = \"%%capture\\nimport os\\nimport sys\\nfrom sklearn.preprocessing import MinMaxScaler, StandardScaler\\nfrom sklearn.metrics import mean_squared_error\\nfrom sklearn.metrics import mean_absolute_error\\nfrom math import sqrt\\nimport numpy as np\\nimport pandas as pd\\nimport scipy.stats as scs\\n\\nimport statsmodels.api as sm\\nimport statsmodels.formula.api as smf\\nimport statsmodels.tsa.api as smt\\nfrom statsmodels.tsa.stattools import adfuller\\n\\nimport matplotlib as mpl\\nimport matplotlib.pyplot as plt\\nimport seaborn as sns\\nfrom sklearn.metrics import mean_absolute_error\\nfrom sklearn.metrics import mean_absolute_percentage_error\\nimport pickle\\n# joblib still saves model in .pickle files\\nfrom joblib import dump, load\\nimport xgboost as xgb\\n\\nsns.set()\\nplt.style.use('bmh')\\n\\n# There is a slight chance that I might have to run the following two lines for the local package to work\\n# import sys\\n# sys.path.insert(0, '..')\\n\\nimport warnings\\nwarnings.filterwarnings('ignore')\\n\\nfrom PrepPred import prep\\nPreprocessing = prep.Preprocessing()\";\n",
       "                var nbb_formatted_code = \"%%capture\\nimport os\\nimport sys\\nfrom sklearn.preprocessing import MinMaxScaler, StandardScaler\\nfrom sklearn.metrics import mean_squared_error\\nfrom sklearn.metrics import mean_absolute_error\\nfrom math import sqrt\\nimport numpy as np\\nimport pandas as pd\\nimport scipy.stats as scs\\n\\nimport statsmodels.api as sm\\nimport statsmodels.formula.api as smf\\nimport statsmodels.tsa.api as smt\\nfrom statsmodels.tsa.stattools import adfuller\\n\\nimport matplotlib as mpl\\nimport matplotlib.pyplot as plt\\nimport seaborn as sns\\nfrom sklearn.metrics import mean_absolute_error\\nfrom sklearn.metrics import mean_absolute_percentage_error\\nimport pickle\\n# joblib still saves model in .pickle files\\nfrom joblib import dump, load\\nimport xgboost as xgb\\n\\nsns.set()\\nplt.style.use('bmh')\\n\\n# There is a slight chance that I might have to run the following two lines for the local package to work\\n# import sys\\n# sys.path.insert(0, '..')\\n\\nimport warnings\\nwarnings.filterwarnings('ignore')\\n\\nfrom PrepPred import prep\\nPreprocessing = prep.Preprocessing()\";\n",
       "                var nbb_cells = Jupyter.notebook.get_cells();\n",
       "                for (var i = 0; i < nbb_cells.length; ++i) {\n",
       "                    if (nbb_cells[i].input_prompt_number == nbb_cell_id) {\n",
       "                        if (nbb_cells[i].get_text() == nbb_unformatted_code) {\n",
       "                             nbb_cells[i].set_text(nbb_formatted_code);\n",
       "                        }\n",
       "                        break;\n",
       "                    }\n",
       "                }\n",
       "            }, 500);\n",
       "            "
      ],
      "text/plain": [
       "<IPython.core.display.Javascript object>"
      ]
     },
     "metadata": {},
     "output_type": "display_data"
    }
   ],
   "source": [
    "%%capture\n",
    "import os\n",
    "import sys\n",
    "from sklearn.preprocessing import MinMaxScaler, StandardScaler\n",
    "from sklearn.metrics import mean_squared_error\n",
    "from sklearn.metrics import mean_absolute_error\n",
    "from math import sqrt\n",
    "import numpy as np\n",
    "import pandas as pd\n",
    "import scipy.stats as scs\n",
    "\n",
    "import statsmodels.api as sm\n",
    "import statsmodels.formula.api as smf\n",
    "import statsmodels.tsa.api as smt\n",
    "from statsmodels.tsa.stattools import adfuller\n",
    "\n",
    "import matplotlib as mpl\n",
    "import matplotlib.pyplot as plt\n",
    "import seaborn as sns\n",
    "from sklearn.metrics import mean_absolute_error\n",
    "from sklearn.metrics import mean_absolute_percentage_error\n",
    "import pickle\n",
    "# joblib still saves model in .pickle files\n",
    "from joblib import dump, load\n",
    "import xgboost as xgb\n",
    "\n",
    "sns.set()\n",
    "plt.style.use('bmh')\n",
    "\n",
    "# There is a slight chance that I might have to run the following two lines for the local package to work\n",
    "# import sys\n",
    "# sys.path.insert(0, '..')\n",
    "\n",
    "import warnings\n",
    "warnings.filterwarnings('ignore')\n",
    "\n",
    "from PrepPred import prep\n",
    "Preprocessing = prep.Preprocessing()"
   ]
  },
  {
   "cell_type": "code",
   "execution_count": 3,
   "metadata": {
    "colab": {
     "base_uri": "https://localhost:8080/",
     "height": 246
    },
    "id": "Zl_rR50daaBh",
    "outputId": "53ffbbd3-785a-4654-eefc-42397b2719aa"
   },
   "outputs": [
    {
     "data": {
      "application/javascript": [
       "\n",
       "            setTimeout(function() {\n",
       "                var nbb_cell_id = 3;\n",
       "                var nbb_unformatted_code = \"# # load data\\n# df = pd.read_csv(processed_data(dfName=\\\"df1\\\"), index_col=0)\\n# df.sample(2)\";\n",
       "                var nbb_formatted_code = \"# # load data\\n# df = pd.read_csv(processed_data(dfName=\\\"df1\\\"), index_col=0)\\n# df.sample(2)\";\n",
       "                var nbb_cells = Jupyter.notebook.get_cells();\n",
       "                for (var i = 0; i < nbb_cells.length; ++i) {\n",
       "                    if (nbb_cells[i].input_prompt_number == nbb_cell_id) {\n",
       "                        if (nbb_cells[i].get_text() == nbb_unformatted_code) {\n",
       "                             nbb_cells[i].set_text(nbb_formatted_code);\n",
       "                        }\n",
       "                        break;\n",
       "                    }\n",
       "                }\n",
       "            }, 500);\n",
       "            "
      ],
      "text/plain": [
       "<IPython.core.display.Javascript object>"
      ]
     },
     "metadata": {},
     "output_type": "display_data"
    }
   ],
   "source": [
    "# # load data\n",
    "# df = pd.read_csv(processed_data(dfName=\"df1\"), index_col=0)\n",
    "# df.sample(2)"
   ]
  },
  {
   "cell_type": "markdown",
   "metadata": {
    "id": "r4cQ_t9ogLf4"
   },
   "source": [
    "## Hourly resolution"
   ]
  },
  {
   "cell_type": "code",
   "execution_count": 4,
   "metadata": {
    "colab": {
     "base_uri": "https://localhost:8080/",
     "height": 332
    },
    "id": "W1cTw5nWL42W",
    "outputId": "d1d6735d-10f4-4c3b-8540-f4edce3a2842",
    "scrolled": false
   },
   "outputs": [
    {
     "data": {
      "application/javascript": [
       "\n",
       "            setTimeout(function() {\n",
       "                var nbb_cell_id = 4;\n",
       "                var nbb_unformatted_code = \"# list_of_df = Preprocessing.load_dframes(\\n#     df_name=\\\"df\\\", prop=\\\"_processed\\\", data_root=data_root\\n# )\\n\\n# for i in range(0, 9):\\n#     vars()[\\\"df\\\" + str(i + 1) + \\\"_processed\\\"] = list_of_df[i]\\n\\n# # ensure\\n# Preprocessing.show_shape([df1_processed, df2_processed, df9_processed])\";\n",
       "                var nbb_formatted_code = \"# list_of_df = Preprocessing.load_dframes(\\n#     df_name=\\\"df\\\", prop=\\\"_processed\\\", data_root=data_root\\n# )\\n\\n# for i in range(0, 9):\\n#     vars()[\\\"df\\\" + str(i + 1) + \\\"_processed\\\"] = list_of_df[i]\\n\\n# # ensure\\n# Preprocessing.show_shape([df1_processed, df2_processed, df9_processed])\";\n",
       "                var nbb_cells = Jupyter.notebook.get_cells();\n",
       "                for (var i = 0; i < nbb_cells.length; ++i) {\n",
       "                    if (nbb_cells[i].input_prompt_number == nbb_cell_id) {\n",
       "                        if (nbb_cells[i].get_text() == nbb_unformatted_code) {\n",
       "                             nbb_cells[i].set_text(nbb_formatted_code);\n",
       "                        }\n",
       "                        break;\n",
       "                    }\n",
       "                }\n",
       "            }, 500);\n",
       "            "
      ],
      "text/plain": [
       "<IPython.core.display.Javascript object>"
      ]
     },
     "metadata": {},
     "output_type": "display_data"
    }
   ],
   "source": [
    "# list_of_df = Preprocessing.load_dframes(\n",
    "#     df_name=\"df\", prop=\"_processed\", data_root=data_root\n",
    "# )\n",
    "\n",
    "# for i in range(0, 9):\n",
    "#     vars()[\"df\" + str(i + 1) + \"_processed\"] = list_of_df[i]\n",
    "\n",
    "# # ensure\n",
    "# Preprocessing.show_shape([df1_processed, df2_processed, df9_processed])"
   ]
  },
  {
   "cell_type": "code",
   "execution_count": 5,
   "metadata": {
    "tags": [
     "parameters"
    ]
   },
   "outputs": [
    {
     "data": {
      "application/javascript": [
       "\n",
       "            setTimeout(function() {\n",
       "                var nbb_cell_id = 5;\n",
       "                var nbb_unformatted_code = \"df_name = \\\"df2_processed\\\"\";\n",
       "                var nbb_formatted_code = \"df_name = \\\"df2_processed\\\"\";\n",
       "                var nbb_cells = Jupyter.notebook.get_cells();\n",
       "                for (var i = 0; i < nbb_cells.length; ++i) {\n",
       "                    if (nbb_cells[i].input_prompt_number == nbb_cell_id) {\n",
       "                        if (nbb_cells[i].get_text() == nbb_unformatted_code) {\n",
       "                             nbb_cells[i].set_text(nbb_formatted_code);\n",
       "                        }\n",
       "                        break;\n",
       "                    }\n",
       "                }\n",
       "            }, 500);\n",
       "            "
      ],
      "text/plain": [
       "<IPython.core.display.Javascript object>"
      ]
     },
     "metadata": {},
     "output_type": "display_data"
    }
   ],
   "source": [
    "df_name = \"df2_processed\""
   ]
  },
  {
   "cell_type": "code",
   "execution_count": 6,
   "metadata": {},
   "outputs": [
    {
     "data": {
      "text/html": [
       "<div>\n",
       "<style scoped>\n",
       "    .dataframe tbody tr th:only-of-type {\n",
       "        vertical-align: middle;\n",
       "    }\n",
       "\n",
       "    .dataframe tbody tr th {\n",
       "        vertical-align: top;\n",
       "    }\n",
       "\n",
       "    .dataframe thead th {\n",
       "        text-align: right;\n",
       "    }\n",
       "</style>\n",
       "<table border=\"1\" class=\"dataframe\">\n",
       "  <thead>\n",
       "    <tr style=\"text-align: right;\">\n",
       "      <th></th>\n",
       "      <th>year</th>\n",
       "      <th>month</th>\n",
       "      <th>day</th>\n",
       "      <th>hour</th>\n",
       "      <th>Kw</th>\n",
       "      <th>lat</th>\n",
       "      <th>lon</th>\n",
       "      <th>population</th>\n",
       "      <th>annual_peak_load</th>\n",
       "      <th>Temp (°C)</th>\n",
       "      <th>date</th>\n",
       "      <th>kw_cap</th>\n",
       "      <th>datetime</th>\n",
       "    </tr>\n",
       "  </thead>\n",
       "  <tbody>\n",
       "    <tr>\n",
       "      <th>0</th>\n",
       "      <td>2013</td>\n",
       "      <td>1</td>\n",
       "      <td>1</td>\n",
       "      <td>0</td>\n",
       "      <td>849.450417</td>\n",
       "      <td>62.20071</td>\n",
       "      <td>-75.65</td>\n",
       "      <td>1483</td>\n",
       "      <td>1347.844242</td>\n",
       "      <td>-19.559714</td>\n",
       "      <td>2013-01-01</td>\n",
       "      <td>0.572792</td>\n",
       "      <td>2013-01-01 00:00:00</td>\n",
       "    </tr>\n",
       "    <tr>\n",
       "      <th>1</th>\n",
       "      <td>2013</td>\n",
       "      <td>1</td>\n",
       "      <td>1</td>\n",
       "      <td>1</td>\n",
       "      <td>891.025667</td>\n",
       "      <td>62.20071</td>\n",
       "      <td>-75.65</td>\n",
       "      <td>1483</td>\n",
       "      <td>1347.844242</td>\n",
       "      <td>-19.994040</td>\n",
       "      <td>2013-01-01</td>\n",
       "      <td>0.600826</td>\n",
       "      <td>2013-01-01 01:00:00</td>\n",
       "    </tr>\n",
       "    <tr>\n",
       "      <th>2</th>\n",
       "      <td>2013</td>\n",
       "      <td>1</td>\n",
       "      <td>1</td>\n",
       "      <td>2</td>\n",
       "      <td>905.738833</td>\n",
       "      <td>62.20071</td>\n",
       "      <td>-75.65</td>\n",
       "      <td>1483</td>\n",
       "      <td>1347.844242</td>\n",
       "      <td>-19.779135</td>\n",
       "      <td>2013-01-01</td>\n",
       "      <td>0.610748</td>\n",
       "      <td>2013-01-01 02:00:00</td>\n",
       "    </tr>\n",
       "    <tr>\n",
       "      <th>3</th>\n",
       "      <td>2013</td>\n",
       "      <td>1</td>\n",
       "      <td>1</td>\n",
       "      <td>3</td>\n",
       "      <td>847.466417</td>\n",
       "      <td>62.20071</td>\n",
       "      <td>-75.65</td>\n",
       "      <td>1483</td>\n",
       "      <td>1347.844242</td>\n",
       "      <td>-18.466940</td>\n",
       "      <td>2013-01-01</td>\n",
       "      <td>0.571454</td>\n",
       "      <td>2013-01-01 03:00:00</td>\n",
       "    </tr>\n",
       "    <tr>\n",
       "      <th>4</th>\n",
       "      <td>2013</td>\n",
       "      <td>1</td>\n",
       "      <td>1</td>\n",
       "      <td>4</td>\n",
       "      <td>823.321083</td>\n",
       "      <td>62.20071</td>\n",
       "      <td>-75.65</td>\n",
       "      <td>1483</td>\n",
       "      <td>1347.844242</td>\n",
       "      <td>-18.182593</td>\n",
       "      <td>2013-01-01</td>\n",
       "      <td>0.555173</td>\n",
       "      <td>2013-01-01 04:00:00</td>\n",
       "    </tr>\n",
       "    <tr>\n",
       "      <th>...</th>\n",
       "      <td>...</td>\n",
       "      <td>...</td>\n",
       "      <td>...</td>\n",
       "      <td>...</td>\n",
       "      <td>...</td>\n",
       "      <td>...</td>\n",
       "      <td>...</td>\n",
       "      <td>...</td>\n",
       "      <td>...</td>\n",
       "      <td>...</td>\n",
       "      <td>...</td>\n",
       "      <td>...</td>\n",
       "      <td>...</td>\n",
       "    </tr>\n",
       "    <tr>\n",
       "      <th>26275</th>\n",
       "      <td>2015</td>\n",
       "      <td>12</td>\n",
       "      <td>31</td>\n",
       "      <td>19</td>\n",
       "      <td>1162.631500</td>\n",
       "      <td>62.20071</td>\n",
       "      <td>-75.65</td>\n",
       "      <td>1483</td>\n",
       "      <td>1347.844242</td>\n",
       "      <td>-20.950980</td>\n",
       "      <td>2015-12-31</td>\n",
       "      <td>0.783973</td>\n",
       "      <td>2015-12-31 19:00:00</td>\n",
       "    </tr>\n",
       "    <tr>\n",
       "      <th>26276</th>\n",
       "      <td>2015</td>\n",
       "      <td>12</td>\n",
       "      <td>31</td>\n",
       "      <td>20</td>\n",
       "      <td>1100.915667</td>\n",
       "      <td>62.20071</td>\n",
       "      <td>-75.65</td>\n",
       "      <td>1483</td>\n",
       "      <td>1347.844242</td>\n",
       "      <td>-21.188574</td>\n",
       "      <td>2015-12-31</td>\n",
       "      <td>0.742357</td>\n",
       "      <td>2015-12-31 20:00:00</td>\n",
       "    </tr>\n",
       "    <tr>\n",
       "      <th>26277</th>\n",
       "      <td>2015</td>\n",
       "      <td>12</td>\n",
       "      <td>31</td>\n",
       "      <td>21</td>\n",
       "      <td>1078.913333</td>\n",
       "      <td>62.20071</td>\n",
       "      <td>-75.65</td>\n",
       "      <td>1483</td>\n",
       "      <td>1347.844242</td>\n",
       "      <td>-21.051993</td>\n",
       "      <td>2015-12-31</td>\n",
       "      <td>0.727521</td>\n",
       "      <td>2015-12-31 21:00:00</td>\n",
       "    </tr>\n",
       "    <tr>\n",
       "      <th>26278</th>\n",
       "      <td>2015</td>\n",
       "      <td>12</td>\n",
       "      <td>31</td>\n",
       "      <td>22</td>\n",
       "      <td>1075.409083</td>\n",
       "      <td>62.20071</td>\n",
       "      <td>-75.65</td>\n",
       "      <td>1483</td>\n",
       "      <td>1347.844242</td>\n",
       "      <td>-21.075659</td>\n",
       "      <td>2015-12-31</td>\n",
       "      <td>0.725158</td>\n",
       "      <td>2015-12-31 22:00:00</td>\n",
       "    </tr>\n",
       "    <tr>\n",
       "      <th>26279</th>\n",
       "      <td>2015</td>\n",
       "      <td>12</td>\n",
       "      <td>31</td>\n",
       "      <td>23</td>\n",
       "      <td>1036.587250</td>\n",
       "      <td>62.20071</td>\n",
       "      <td>-75.65</td>\n",
       "      <td>1483</td>\n",
       "      <td>1347.844242</td>\n",
       "      <td>-21.153799</td>\n",
       "      <td>2015-12-31</td>\n",
       "      <td>0.698980</td>\n",
       "      <td>2015-12-31 23:00:00</td>\n",
       "    </tr>\n",
       "  </tbody>\n",
       "</table>\n",
       "<p>26280 rows × 13 columns</p>\n",
       "</div>"
      ],
      "text/plain": [
       "       year  month  day  hour           Kw       lat    lon  population  \\\n",
       "0      2013      1    1     0   849.450417  62.20071 -75.65        1483   \n",
       "1      2013      1    1     1   891.025667  62.20071 -75.65        1483   \n",
       "2      2013      1    1     2   905.738833  62.20071 -75.65        1483   \n",
       "3      2013      1    1     3   847.466417  62.20071 -75.65        1483   \n",
       "4      2013      1    1     4   823.321083  62.20071 -75.65        1483   \n",
       "...     ...    ...  ...   ...          ...       ...    ...         ...   \n",
       "26275  2015     12   31    19  1162.631500  62.20071 -75.65        1483   \n",
       "26276  2015     12   31    20  1100.915667  62.20071 -75.65        1483   \n",
       "26277  2015     12   31    21  1078.913333  62.20071 -75.65        1483   \n",
       "26278  2015     12   31    22  1075.409083  62.20071 -75.65        1483   \n",
       "26279  2015     12   31    23  1036.587250  62.20071 -75.65        1483   \n",
       "\n",
       "       annual_peak_load  Temp (°C)        date    kw_cap             datetime  \n",
       "0           1347.844242 -19.559714  2013-01-01  0.572792  2013-01-01 00:00:00  \n",
       "1           1347.844242 -19.994040  2013-01-01  0.600826  2013-01-01 01:00:00  \n",
       "2           1347.844242 -19.779135  2013-01-01  0.610748  2013-01-01 02:00:00  \n",
       "3           1347.844242 -18.466940  2013-01-01  0.571454  2013-01-01 03:00:00  \n",
       "4           1347.844242 -18.182593  2013-01-01  0.555173  2013-01-01 04:00:00  \n",
       "...                 ...        ...         ...       ...                  ...  \n",
       "26275       1347.844242 -20.950980  2015-12-31  0.783973  2015-12-31 19:00:00  \n",
       "26276       1347.844242 -21.188574  2015-12-31  0.742357  2015-12-31 20:00:00  \n",
       "26277       1347.844242 -21.051993  2015-12-31  0.727521  2015-12-31 21:00:00  \n",
       "26278       1347.844242 -21.075659  2015-12-31  0.725158  2015-12-31 22:00:00  \n",
       "26279       1347.844242 -21.153799  2015-12-31  0.698980  2015-12-31 23:00:00  \n",
       "\n",
       "[26280 rows x 13 columns]"
      ]
     },
     "execution_count": 6,
     "metadata": {},
     "output_type": "execute_result"
    },
    {
     "data": {
      "application/javascript": [
       "\n",
       "            setTimeout(function() {\n",
       "                var nbb_cell_id = 6;\n",
       "                var nbb_unformatted_code = \"df = Preprocessing.load_n_sort(df=df_name, data_root=data_root)\\ndf\";\n",
       "                var nbb_formatted_code = \"df = Preprocessing.load_n_sort(df=df_name, data_root=data_root)\\ndf\";\n",
       "                var nbb_cells = Jupyter.notebook.get_cells();\n",
       "                for (var i = 0; i < nbb_cells.length; ++i) {\n",
       "                    if (nbb_cells[i].input_prompt_number == nbb_cell_id) {\n",
       "                        if (nbb_cells[i].get_text() == nbb_unformatted_code) {\n",
       "                             nbb_cells[i].set_text(nbb_formatted_code);\n",
       "                        }\n",
       "                        break;\n",
       "                    }\n",
       "                }\n",
       "            }, 500);\n",
       "            "
      ],
      "text/plain": [
       "<IPython.core.display.Javascript object>"
      ]
     },
     "metadata": {},
     "output_type": "display_data"
    }
   ],
   "source": [
    "df = Preprocessing.load_n_sort(df=df_name, data_root=data_root)\n",
    "df"
   ]
  },
  {
   "cell_type": "code",
   "execution_count": 7,
   "metadata": {},
   "outputs": [
    {
     "data": {
      "image/png": "[encoded data removed]",
      "text/plain": [
       "<Figure size 1440x288 with 1 Axes>"
      ]
     },
     "metadata": {},
     "output_type": "display_data"
    },
    {
     "data": {
      "image/png": "[encoded data removed]",
      "text/plain": [
       "<Figure size 1440x288 with 1 Axes>"
      ]
     },
     "metadata": {},
     "output_type": "display_data"
    },
    {
     "data": {
      "application/javascript": [
       "\n",
       "            setTimeout(function() {\n",
       "                var nbb_cell_id = 7;\n",
       "                var nbb_unformatted_code = \"# plot_dfs() only plots kw_cap and temperature\\nPreprocessing.plot_dfs(dfs=[df], cols=[\\\"kw_cap\\\", \\\"Temp (\\u00b0C)\\\"])\";\n",
       "                var nbb_formatted_code = \"# plot_dfs() only plots kw_cap and temperature\\nPreprocessing.plot_dfs(dfs=[df], cols=[\\\"kw_cap\\\", \\\"Temp (\\u00b0C)\\\"])\";\n",
       "                var nbb_cells = Jupyter.notebook.get_cells();\n",
       "                for (var i = 0; i < nbb_cells.length; ++i) {\n",
       "                    if (nbb_cells[i].input_prompt_number == nbb_cell_id) {\n",
       "                        if (nbb_cells[i].get_text() == nbb_unformatted_code) {\n",
       "                             nbb_cells[i].set_text(nbb_formatted_code);\n",
       "                        }\n",
       "                        break;\n",
       "                    }\n",
       "                }\n",
       "            }, 500);\n",
       "            "
      ],
      "text/plain": [
       "<IPython.core.display.Javascript object>"
      ]
     },
     "metadata": {},
     "output_type": "display_data"
    }
   ],
   "source": [
    "# plot_dfs() only plots kw_cap and temperature\n",
    "Preprocessing.plot_dfs(dfs=[df], cols=[\"kw_cap\", \"Temp (°C)\"])"
   ]
  },
  {
   "cell_type": "markdown",
   "metadata": {
    "id": "mpdplW5jRtOE"
   },
   "source": [
    "## Scale and standardize the data"
   ]
  },
  {
   "cell_type": "markdown",
   "metadata": {
    "id": "ZHbtcxz9i7L3"
   },
   "source": [
    "__The `temperature` and `kw_cap` seem *VERY* correlated__ once we plot them, but let's transform the two series before calculating the correlation. How about we scale them to `[0,1]`? "
   ]
  },
  {
   "cell_type": "code",
   "execution_count": 8,
   "metadata": {
    "colab": {
     "base_uri": "https://localhost:8080/",
     "height": 424
    },
    "id": "uFBy0pkNODBO",
    "outputId": "9020f1ba-d5e6-4351-bc61-58da3659dbcf"
   },
   "outputs": [
    {
     "data": {
      "application/javascript": [
       "\n",
       "            setTimeout(function() {\n",
       "                var nbb_cell_id = 8;\n",
       "                var nbb_unformatted_code = \"# #  we scale kw_cap column to (0,1), and Temp column to range (0, 0.7)\\n# list_of_scaled_df = Preprocessing.scale_series(\\n#     list_of_df,\\n#     cols=[\\\"kw_cap\\\", \\\"Temp (\\u00b0C)\\\"],\\n#     cols_scaler_range=[(0, 1), (0, 0.7)],\\n#     DEBUG_MODE=False,\\n# )\\n# for i in range(len(list_of_scaled_df)):\\n#     vars()[\\\"df\\\" + str(i + 1) + \\\"_scaled\\\"] = list_of_scaled_df[i]\\n\\n# df6_scaled\";\n",
       "                var nbb_formatted_code = \"# #  we scale kw_cap column to (0,1), and Temp column to range (0, 0.7)\\n# list_of_scaled_df = Preprocessing.scale_series(\\n#     list_of_df,\\n#     cols=[\\\"kw_cap\\\", \\\"Temp (\\u00b0C)\\\"],\\n#     cols_scaler_range=[(0, 1), (0, 0.7)],\\n#     DEBUG_MODE=False,\\n# )\\n# for i in range(len(list_of_scaled_df)):\\n#     vars()[\\\"df\\\" + str(i + 1) + \\\"_scaled\\\"] = list_of_scaled_df[i]\\n\\n# df6_scaled\";\n",
       "                var nbb_cells = Jupyter.notebook.get_cells();\n",
       "                for (var i = 0; i < nbb_cells.length; ++i) {\n",
       "                    if (nbb_cells[i].input_prompt_number == nbb_cell_id) {\n",
       "                        if (nbb_cells[i].get_text() == nbb_unformatted_code) {\n",
       "                             nbb_cells[i].set_text(nbb_formatted_code);\n",
       "                        }\n",
       "                        break;\n",
       "                    }\n",
       "                }\n",
       "            }, 500);\n",
       "            "
      ],
      "text/plain": [
       "<IPython.core.display.Javascript object>"
      ]
     },
     "metadata": {},
     "output_type": "display_data"
    }
   ],
   "source": [
    "# #  we scale kw_cap column to (0,1), and Temp column to range (0, 0.7)\n",
    "# list_of_scaled_df = Preprocessing.scale_series(\n",
    "#     list_of_df,\n",
    "#     cols=[\"kw_cap\", \"Temp (°C)\"],\n",
    "#     cols_scaler_range=[(0, 1), (0, 0.7)],\n",
    "#     DEBUG_MODE=False,\n",
    "# )\n",
    "# for i in range(len(list_of_scaled_df)):\n",
    "#     vars()[\"df\" + str(i + 1) + \"_scaled\"] = list_of_scaled_df[i]\n",
    "\n",
    "# df6_scaled"
   ]
  },
  {
   "cell_type": "code",
   "execution_count": 9,
   "metadata": {
    "colab": {
     "base_uri": "https://localhost:8080/",
     "height": 225
    },
    "id": "QO52BcG4WbLK",
    "outputId": "6c257e88-bc25-40ea-cc0a-8c46483ac306"
   },
   "outputs": [
    {
     "data": {
      "application/javascript": [
       "\n",
       "            setTimeout(function() {\n",
       "                var nbb_cell_id = 9;\n",
       "                var nbb_unformatted_code = \"# plt.figure(figsize=(18, 3))\\n# Preprocessing.plot_series(\\n#     range(len(df1_scaled.kw_cap)), df1_scaled.kw_cap, label=\\\"kw_cap_scaled\\\"\\n# )\\n# Preprocessing.plot_series(\\n#     range(len(df1_scaled[\\\"Temp (\\u00b0C)\\\"])),\\n#     0.8 - df1_scaled[\\\"Temp (\\u00b0C)\\\"],\\n#     label=f\\\"0.8 - temp_scaled\\\",\\n# )\";\n",
       "                var nbb_formatted_code = \"# plt.figure(figsize=(18, 3))\\n# Preprocessing.plot_series(\\n#     range(len(df1_scaled.kw_cap)), df1_scaled.kw_cap, label=\\\"kw_cap_scaled\\\"\\n# )\\n# Preprocessing.plot_series(\\n#     range(len(df1_scaled[\\\"Temp (\\u00b0C)\\\"])),\\n#     0.8 - df1_scaled[\\\"Temp (\\u00b0C)\\\"],\\n#     label=f\\\"0.8 - temp_scaled\\\",\\n# )\";\n",
       "                var nbb_cells = Jupyter.notebook.get_cells();\n",
       "                for (var i = 0; i < nbb_cells.length; ++i) {\n",
       "                    if (nbb_cells[i].input_prompt_number == nbb_cell_id) {\n",
       "                        if (nbb_cells[i].get_text() == nbb_unformatted_code) {\n",
       "                             nbb_cells[i].set_text(nbb_formatted_code);\n",
       "                        }\n",
       "                        break;\n",
       "                    }\n",
       "                }\n",
       "            }, 500);\n",
       "            "
      ],
      "text/plain": [
       "<IPython.core.display.Javascript object>"
      ]
     },
     "metadata": {},
     "output_type": "display_data"
    }
   ],
   "source": [
    "# plt.figure(figsize=(18, 3))\n",
    "# Preprocessing.plot_series(\n",
    "#     range(len(df1_scaled.kw_cap)), df1_scaled.kw_cap, label=\"kw_cap_scaled\"\n",
    "# )\n",
    "# Preprocessing.plot_series(\n",
    "#     range(len(df1_scaled[\"Temp (°C)\"])),\n",
    "#     0.8 - df1_scaled[\"Temp (°C)\"],\n",
    "#     label=f\"0.8 - temp_scaled\",\n",
    "# )"
   ]
  },
  {
   "cell_type": "markdown",
   "metadata": {
    "id": "f6IGgG00PVof"
   },
   "source": [
    "__Standardize the data__"
   ]
  },
  {
   "cell_type": "code",
   "execution_count": 10,
   "metadata": {
    "colab": {
     "base_uri": "https://localhost:8080/"
    },
    "id": "lAKEEQlGQ77p",
    "outputId": "4a22d274-5144-46f4-8619-e2ffaddcd95d",
    "scrolled": true
   },
   "outputs": [
    {
     "data": {
      "application/javascript": [
       "\n",
       "            setTimeout(function() {\n",
       "                var nbb_cell_id = 10;\n",
       "                var nbb_unformatted_code = \"# list_of_std_df = Preprocessing.standardize_series(\\n#     list_of_df[:3], cols=[\\\"kw_cap\\\", \\\"Temp (\\u00b0C)\\\"], DEBUG_MODE=True\\n# )\\n\\n# # give the dataframe to designated vars\\n# for i in range(len(list_of_std_df)):\\n#     vars()[\\\"df\\\" + str(i + 1) + \\\"_stdard\\\"] = list_of_std_df[i]\";\n",
       "                var nbb_formatted_code = \"# list_of_std_df = Preprocessing.standardize_series(\\n#     list_of_df[:3], cols=[\\\"kw_cap\\\", \\\"Temp (\\u00b0C)\\\"], DEBUG_MODE=True\\n# )\\n\\n# # give the dataframe to designated vars\\n# for i in range(len(list_of_std_df)):\\n#     vars()[\\\"df\\\" + str(i + 1) + \\\"_stdard\\\"] = list_of_std_df[i]\";\n",
       "                var nbb_cells = Jupyter.notebook.get_cells();\n",
       "                for (var i = 0; i < nbb_cells.length; ++i) {\n",
       "                    if (nbb_cells[i].input_prompt_number == nbb_cell_id) {\n",
       "                        if (nbb_cells[i].get_text() == nbb_unformatted_code) {\n",
       "                             nbb_cells[i].set_text(nbb_formatted_code);\n",
       "                        }\n",
       "                        break;\n",
       "                    }\n",
       "                }\n",
       "            }, 500);\n",
       "            "
      ],
      "text/plain": [
       "<IPython.core.display.Javascript object>"
      ]
     },
     "metadata": {},
     "output_type": "display_data"
    }
   ],
   "source": [
    "# list_of_std_df = Preprocessing.standardize_series(\n",
    "#     list_of_df[:3], cols=[\"kw_cap\", \"Temp (°C)\"], DEBUG_MODE=True\n",
    "# )\n",
    "\n",
    "# # give the dataframe to designated vars\n",
    "# for i in range(len(list_of_std_df)):\n",
    "#     vars()[\"df\" + str(i + 1) + \"_stdard\"] = list_of_std_df[i]"
   ]
  },
  {
   "cell_type": "markdown",
   "metadata": {
    "id": "Ga7XxYYnVrDe"
   },
   "source": [
    "__Sanity check__: verify that the data mean and std are `0` and `1`"
   ]
  },
  {
   "cell_type": "code",
   "execution_count": 11,
   "metadata": {
    "colab": {
     "base_uri": "https://localhost:8080/"
    },
    "id": "CAuzQYa2VEQJ",
    "outputId": "f4c22dcc-729f-4ca4-e742-8cf1113b9c33"
   },
   "outputs": [
    {
     "data": {
      "application/javascript": [
       "\n",
       "            setTimeout(function() {\n",
       "                var nbb_cell_id = 11;\n",
       "                var nbb_unformatted_code = \"# dd = df2_stdard[\\\"kw_cap\\\"].values.reshape(len(df2_stdard), 1)\\n# scaler = StandardScaler()\\n# scaler = scaler.fit(dd)\\n# print(\\\"Mean: %f, StandardDeviation: %f\\\" % (scaler.mean_, sqrt(scaler.var_)))\";\n",
       "                var nbb_formatted_code = \"# dd = df2_stdard[\\\"kw_cap\\\"].values.reshape(len(df2_stdard), 1)\\n# scaler = StandardScaler()\\n# scaler = scaler.fit(dd)\\n# print(\\\"Mean: %f, StandardDeviation: %f\\\" % (scaler.mean_, sqrt(scaler.var_)))\";\n",
       "                var nbb_cells = Jupyter.notebook.get_cells();\n",
       "                for (var i = 0; i < nbb_cells.length; ++i) {\n",
       "                    if (nbb_cells[i].input_prompt_number == nbb_cell_id) {\n",
       "                        if (nbb_cells[i].get_text() == nbb_unformatted_code) {\n",
       "                             nbb_cells[i].set_text(nbb_formatted_code);\n",
       "                        }\n",
       "                        break;\n",
       "                    }\n",
       "                }\n",
       "            }, 500);\n",
       "            "
      ],
      "text/plain": [
       "<IPython.core.display.Javascript object>"
      ]
     },
     "metadata": {},
     "output_type": "display_data"
    }
   ],
   "source": [
    "# dd = df2_stdard[\"kw_cap\"].values.reshape(len(df2_stdard), 1)\n",
    "# scaler = StandardScaler()\n",
    "# scaler = scaler.fit(dd)\n",
    "# print(\"Mean: %f, StandardDeviation: %f\" % (scaler.mean_, sqrt(scaler.var_)))"
   ]
  },
  {
   "cell_type": "markdown",
   "metadata": {
    "id": "P8k-cMHfg1Ka"
   },
   "source": [
    "## Let's find the correlation between two variables\n",
    "* kw_cap ~ Temp\n",
    "* kw_cap ~ year\n",
    "* kw_cap ~ hour\n",
    "\n",
    "Top 3 most correlated vars with  `kw_cap` are `Temp > hour > year`"
   ]
  },
  {
   "cell_type": "code",
   "execution_count": 12,
   "metadata": {
    "colab": {
     "base_uri": "https://localhost:8080/",
     "height": 165
    },
    "id": "cML1uQJbKegn",
    "outputId": "48faeaaf-cfb4-4ce1-a547-9a00108e6775",
    "scrolled": true
   },
   "outputs": [
    {
     "data": {
      "application/javascript": [
       "\n",
       "            setTimeout(function() {\n",
       "                var nbb_cell_id = 12;\n",
       "                var nbb_unformatted_code = \"# # df1_processed[[\\\"kw_cap\\\", \\\"Temp (\\u00b0C)\\\", \\\"year\\\", \\\"month\\\", \\\"day\\\", \\\"hour\\\"]].corr(method=\\\"pearson\\\")\\n# df1_processed[[\\\"kw_cap\\\", \\\"Temp (\\u00b0C)\\\"]].corr(method=\\\"pearson\\\")\";\n",
       "                var nbb_formatted_code = \"# # df1_processed[[\\\"kw_cap\\\", \\\"Temp (\\u00b0C)\\\", \\\"year\\\", \\\"month\\\", \\\"day\\\", \\\"hour\\\"]].corr(method=\\\"pearson\\\")\\n# df1_processed[[\\\"kw_cap\\\", \\\"Temp (\\u00b0C)\\\"]].corr(method=\\\"pearson\\\")\";\n",
       "                var nbb_cells = Jupyter.notebook.get_cells();\n",
       "                for (var i = 0; i < nbb_cells.length; ++i) {\n",
       "                    if (nbb_cells[i].input_prompt_number == nbb_cell_id) {\n",
       "                        if (nbb_cells[i].get_text() == nbb_unformatted_code) {\n",
       "                             nbb_cells[i].set_text(nbb_formatted_code);\n",
       "                        }\n",
       "                        break;\n",
       "                    }\n",
       "                }\n",
       "            }, 500);\n",
       "            "
      ],
      "text/plain": [
       "<IPython.core.display.Javascript object>"
      ]
     },
     "metadata": {},
     "output_type": "display_data"
    }
   ],
   "source": [
    "# # df1_processed[[\"kw_cap\", \"Temp (°C)\", \"year\", \"month\", \"day\", \"hour\"]].corr(method=\"pearson\")\n",
    "# df1_processed[[\"kw_cap\", \"Temp (°C)\"]].corr(method=\"pearson\")"
   ]
  },
  {
   "cell_type": "code",
   "execution_count": 13,
   "metadata": {
    "colab": {
     "base_uri": "https://localhost:8080/",
     "height": 112
    },
    "id": "tfK7MQTMUKwM",
    "outputId": "cf1d94c2-e4a3-43a8-889c-611b07c0bdb8",
    "scrolled": true
   },
   "outputs": [
    {
     "data": {
      "application/javascript": [
       "\n",
       "            setTimeout(function() {\n",
       "                var nbb_cell_id = 13;\n",
       "                var nbb_unformatted_code = \"# df1_stdard.corr()\";\n",
       "                var nbb_formatted_code = \"# df1_stdard.corr()\";\n",
       "                var nbb_cells = Jupyter.notebook.get_cells();\n",
       "                for (var i = 0; i < nbb_cells.length; ++i) {\n",
       "                    if (nbb_cells[i].input_prompt_number == nbb_cell_id) {\n",
       "                        if (nbb_cells[i].get_text() == nbb_unformatted_code) {\n",
       "                             nbb_cells[i].set_text(nbb_formatted_code);\n",
       "                        }\n",
       "                        break;\n",
       "                    }\n",
       "                }\n",
       "            }, 500);\n",
       "            "
      ],
      "text/plain": [
       "<IPython.core.display.Javascript object>"
      ]
     },
     "metadata": {},
     "output_type": "display_data"
    }
   ],
   "source": [
    "# df1_stdard.corr()"
   ]
  },
  {
   "cell_type": "markdown",
   "metadata": {},
   "source": [
    "__Correlation is the same regardless of the standardization, so we choose not to standardize__"
   ]
  },
  {
   "cell_type": "code",
   "execution_count": 14,
   "metadata": {
    "colab": {
     "base_uri": "https://localhost:8080/",
     "height": 407
    },
    "id": "TD4BGijtNrY2",
    "outputId": "78cbb49f-5de1-484f-f402-bdd03c5ae3ee"
   },
   "outputs": [
    {
     "data": {
      "application/javascript": [
       "\n",
       "            setTimeout(function() {\n",
       "                var nbb_cell_id = 14;\n",
       "                var nbb_unformatted_code = \"# d_series = df1_stdard[\\\"kw_cap\\\"]\\n# df1_processed[\\\"log_change\\\"] = np.log(d_series / d_series.shift(1))\\n# Preprocessing.plot_QQ(df1_processed, \\\"log_change\\\")\";\n",
       "                var nbb_formatted_code = \"# d_series = df1_stdard[\\\"kw_cap\\\"]\\n# df1_processed[\\\"log_change\\\"] = np.log(d_series / d_series.shift(1))\\n# Preprocessing.plot_QQ(df1_processed, \\\"log_change\\\")\";\n",
       "                var nbb_cells = Jupyter.notebook.get_cells();\n",
       "                for (var i = 0; i < nbb_cells.length; ++i) {\n",
       "                    if (nbb_cells[i].input_prompt_number == nbb_cell_id) {\n",
       "                        if (nbb_cells[i].get_text() == nbb_unformatted_code) {\n",
       "                             nbb_cells[i].set_text(nbb_formatted_code);\n",
       "                        }\n",
       "                        break;\n",
       "                    }\n",
       "                }\n",
       "            }, 500);\n",
       "            "
      ],
      "text/plain": [
       "<IPython.core.display.Javascript object>"
      ]
     },
     "metadata": {},
     "output_type": "display_data"
    }
   ],
   "source": [
    "# d_series = df1_stdard[\"kw_cap\"]\n",
    "# df1_processed[\"log_change\"] = np.log(d_series / d_series.shift(1))\n",
    "# Preprocessing.plot_QQ(df1_processed, \"log_change\")"
   ]
  },
  {
   "cell_type": "code",
   "execution_count": 15,
   "metadata": {
    "colab": {
     "base_uri": "https://localhost:8080/",
     "height": 407
    },
    "id": "xPb-Md1UN7jf",
    "outputId": "dc1166e6-d6ae-4f0a-9bae-c5f2b80e1a55"
   },
   "outputs": [
    {
     "data": {
      "application/javascript": [
       "\n",
       "            setTimeout(function() {\n",
       "                var nbb_cell_id = 15;\n",
       "                var nbb_unformatted_code = \"# Preprocessing.plot_QQ(df1_stdard, \\\"kw_cap\\\")\";\n",
       "                var nbb_formatted_code = \"# Preprocessing.plot_QQ(df1_stdard, \\\"kw_cap\\\")\";\n",
       "                var nbb_cells = Jupyter.notebook.get_cells();\n",
       "                for (var i = 0; i < nbb_cells.length; ++i) {\n",
       "                    if (nbb_cells[i].input_prompt_number == nbb_cell_id) {\n",
       "                        if (nbb_cells[i].get_text() == nbb_unformatted_code) {\n",
       "                             nbb_cells[i].set_text(nbb_formatted_code);\n",
       "                        }\n",
       "                        break;\n",
       "                    }\n",
       "                }\n",
       "            }, 500);\n",
       "            "
      ],
      "text/plain": [
       "<IPython.core.display.Javascript object>"
      ]
     },
     "metadata": {},
     "output_type": "display_data"
    }
   ],
   "source": [
    "# Preprocessing.plot_QQ(df1_stdard, \"kw_cap\")"
   ]
  },
  {
   "cell_type": "markdown",
   "metadata": {
    "id": "UVlOiJA9O0vX"
   },
   "source": [
    "### Scatter plot"
   ]
  },
  {
   "cell_type": "code",
   "execution_count": 37,
   "metadata": {
    "scrolled": true
   },
   "outputs": [
    {
     "data": {
      "application/javascript": [
       "\n",
       "            setTimeout(function() {\n",
       "                var nbb_cell_id = 37;\n",
       "                var nbb_unformatted_code = \"# df1_stdard.plot(x=\\\"kw_cap\\\", y=\\\"Temp (\\u00b0C)\\\", kind=\\\"scatter\\\", figsize=(10, 5))\\n# # df1_processed.plot(x=\\\"kw_cap\\\", y=\\\"hour\\\", kind=\\\"scatter\\\", figsize=(10, 5))\\n# # df1_processed.plot(x=\\\"kw_cap\\\", y=\\\"year\\\", kind=\\\"scatter\\\", figsize=(10, 8))\\n# # df1_processed.plot(x=\\\"kw_cap\\\", y=\\\"day\\\", kind=\\\"scatter\\\", figsize=(10, 8))\\n# # df1_processed.plot(x=\\\"kw_cap\\\", y=\\\"annual_peak_load\\\", kind=\\\"scatter\\\", figsize=(10, 8))\";\n",
       "                var nbb_formatted_code = \"# df1_stdard.plot(x=\\\"kw_cap\\\", y=\\\"Temp (\\u00b0C)\\\", kind=\\\"scatter\\\", figsize=(10, 5))\\n# # df1_processed.plot(x=\\\"kw_cap\\\", y=\\\"hour\\\", kind=\\\"scatter\\\", figsize=(10, 5))\\n# # df1_processed.plot(x=\\\"kw_cap\\\", y=\\\"year\\\", kind=\\\"scatter\\\", figsize=(10, 8))\\n# # df1_processed.plot(x=\\\"kw_cap\\\", y=\\\"day\\\", kind=\\\"scatter\\\", figsize=(10, 8))\\n# # df1_processed.plot(x=\\\"kw_cap\\\", y=\\\"annual_peak_load\\\", kind=\\\"scatter\\\", figsize=(10, 8))\";\n",
       "                var nbb_cells = Jupyter.notebook.get_cells();\n",
       "                for (var i = 0; i < nbb_cells.length; ++i) {\n",
       "                    if (nbb_cells[i].input_prompt_number == nbb_cell_id) {\n",
       "                        if (nbb_cells[i].get_text() == nbb_unformatted_code) {\n",
       "                             nbb_cells[i].set_text(nbb_formatted_code);\n",
       "                        }\n",
       "                        break;\n",
       "                    }\n",
       "                }\n",
       "            }, 500);\n",
       "            "
      ],
      "text/plain": [
       "<IPython.core.display.Javascript object>"
      ]
     },
     "metadata": {},
     "output_type": "display_data"
    }
   ],
   "source": [
    "# df1_stdard.plot(x=\"kw_cap\", y=\"Temp (°C)\", kind=\"scatter\", figsize=(10, 5))\n",
    "# # df1_processed.plot(x=\"kw_cap\", y=\"hour\", kind=\"scatter\", figsize=(10, 5))\n",
    "# # df1_processed.plot(x=\"kw_cap\", y=\"year\", kind=\"scatter\", figsize=(10, 8))\n",
    "# # df1_processed.plot(x=\"kw_cap\", y=\"day\", kind=\"scatter\", figsize=(10, 8))\n",
    "# # df1_processed.plot(x=\"kw_cap\", y=\"annual_peak_load\", kind=\"scatter\", figsize=(10, 8))"
   ]
  },
  {
   "cell_type": "markdown",
   "metadata": {},
   "source": [
    "__Notes on using exogenous data of past years to forecast Kw of future years:__\n",
    "\n",
    "1. something doesn't quite make sense here in terms of the input and output data. \n",
    "    - First, if we use the exogenous data from `hour 1 of year 1` to predict the Kw  of `hour 1 of year 2`, based on what grounds do we know that after a WHOLE YEAR, the exogenous data can still accurately determine the power consumption? It's not like the Kw of `hour 1 of year2` is based on the `last 30 hours of year 1` (__which means it's in the immediate past with `window_size=30`__), it is a whole year in the past.\n",
    "    - Second, even if we use the immediate past of `hour 1 of year 2` to predict the Kw of `hour 1 of year 2`, how are we supposed to predict `hour 2 of year 2`? Because to do so means we need the immediate past of `hour 2 of year 2`, which include the exogenous data of `hour 1 of year 2` (__that we should not have by setup__). \n",
    "    - The question at this point doesn't seem doable unless we magically find some analytical formula that maps the exogenous vars to Kw, for example, something like $y_{Kw}(t) = \\alpha_1 X_{temp}(t-8760) +\\alpha_2 X_{day-of-the-month}(t-8760)+\\alpha_3 X_{population}(t-8760)+\\dots$\n",
    "2. A maybe approach is to use the exogenous data of year 1 to predict the Kw of year 1, then use Kw of year 1 to forecast the Kw of year 2. This would require using two different models on top of one another, can it be any good?"
   ]
  },
  {
   "cell_type": "markdown",
   "metadata": {},
   "source": [
    "## Step 1: \n",
    "XGB Prediction of kw_cap using exogenous data of the same time period"
   ]
  },
  {
   "cell_type": "code",
   "execution_count": 17,
   "metadata": {},
   "outputs": [
    {
     "data": {
      "application/javascript": [
       "\n",
       "            setTimeout(function() {\n",
       "                var nbb_cell_id = 17;\n",
       "                var nbb_unformatted_code = \"# df.columns\\n# # df1_processed.hour.value_counts()\";\n",
       "                var nbb_formatted_code = \"# df.columns\\n# # df1_processed.hour.value_counts()\";\n",
       "                var nbb_cells = Jupyter.notebook.get_cells();\n",
       "                for (var i = 0; i < nbb_cells.length; ++i) {\n",
       "                    if (nbb_cells[i].input_prompt_number == nbb_cell_id) {\n",
       "                        if (nbb_cells[i].get_text() == nbb_unformatted_code) {\n",
       "                             nbb_cells[i].set_text(nbb_formatted_code);\n",
       "                        }\n",
       "                        break;\n",
       "                    }\n",
       "                }\n",
       "            }, 500);\n",
       "            "
      ],
      "text/plain": [
       "<IPython.core.display.Javascript object>"
      ]
     },
     "metadata": {},
     "output_type": "display_data"
    }
   ],
   "source": [
    "# df.columns\n",
    "# # df1_processed.hour.value_counts()"
   ]
  },
  {
   "cell_type": "code",
   "execution_count": 29,
   "metadata": {},
   "outputs": [
    {
     "data": {
      "application/javascript": [
       "\n",
       "            setTimeout(function() {\n",
       "                var nbb_cell_id = 29;\n",
       "                var nbb_unformatted_code = \"train_data = df[: int(df.shape[0]/3)]\\ntest_data = df[2*int(df.shape[0]/3) :]\\n\\ndrop_cols = [\\n    \\\"kw_cap\\\",\\n    \\\"lat\\\",\\n    \\\"lon\\\",\\n    \\\"population\\\",\\n    \\\"annual_peak_load\\\",\\n    \\\"datetime\\\",\\n    #     \\\"log_change\\\",\\n    \\\"Kw\\\",\\n    \\\"date\\\",\\n]\\noutput_cols = [\\\"kw_cap\\\"]\\n\\nX_train = train_data.copy().drop(columns=drop_cols)\\nX_test = test_data.copy().drop(columns=drop_cols)\\n\\ny_train = train_data.copy()[output_cols]\\ny_test = test_data.copy()[output_cols]\";\n",
       "                var nbb_formatted_code = \"train_data = df[: int(df.shape[0] / 3)]\\ntest_data = df[2 * int(df.shape[0] / 3) :]\\n\\ndrop_cols = [\\n    \\\"kw_cap\\\",\\n    \\\"lat\\\",\\n    \\\"lon\\\",\\n    \\\"population\\\",\\n    \\\"annual_peak_load\\\",\\n    \\\"datetime\\\",\\n    #     \\\"log_change\\\",\\n    \\\"Kw\\\",\\n    \\\"date\\\",\\n]\\noutput_cols = [\\\"kw_cap\\\"]\\n\\nX_train = train_data.copy().drop(columns=drop_cols)\\nX_test = test_data.copy().drop(columns=drop_cols)\\n\\ny_train = train_data.copy()[output_cols]\\ny_test = test_data.copy()[output_cols]\";\n",
       "                var nbb_cells = Jupyter.notebook.get_cells();\n",
       "                for (var i = 0; i < nbb_cells.length; ++i) {\n",
       "                    if (nbb_cells[i].input_prompt_number == nbb_cell_id) {\n",
       "                        if (nbb_cells[i].get_text() == nbb_unformatted_code) {\n",
       "                             nbb_cells[i].set_text(nbb_formatted_code);\n",
       "                        }\n",
       "                        break;\n",
       "                    }\n",
       "                }\n",
       "            }, 500);\n",
       "            "
      ],
      "text/plain": [
       "<IPython.core.display.Javascript object>"
      ]
     },
     "metadata": {},
     "output_type": "display_data"
    }
   ],
   "source": [
    "train_data = df[: int(df.shape[0] / 3)]\n",
    "test_data = df[2 * int(df.shape[0] / 3) :]\n",
    "\n",
    "drop_cols = [\n",
    "    \"kw_cap\",\n",
    "    \"lat\",\n",
    "    \"lon\",\n",
    "    \"population\",\n",
    "    \"annual_peak_load\",\n",
    "    \"datetime\",\n",
    "    #     \"log_change\",\n",
    "    \"Kw\",\n",
    "    \"date\",\n",
    "]\n",
    "output_cols = [\"kw_cap\"]\n",
    "\n",
    "X_train = train_data.copy().drop(columns=drop_cols)\n",
    "X_test = test_data.copy().drop(columns=drop_cols)\n",
    "\n",
    "y_train = train_data.copy()[output_cols]\n",
    "y_test = test_data.copy()[output_cols]"
   ]
  },
  {
   "cell_type": "markdown",
   "metadata": {},
   "source": [
    "__Just run once, the model is saved__"
   ]
  },
  {
   "cell_type": "code",
   "execution_count": 30,
   "metadata": {},
   "outputs": [
    {
     "data": {
      "application/javascript": [
       "\n",
       "            setTimeout(function() {\n",
       "                var nbb_cell_id = 30;\n",
       "                var nbb_unformatted_code = \"%%capture\\nxgb_r = xgb.XGBRegressor(objective=\\\"reg:squarederror\\\", n_estimators=100, seed=123)\\n\\nxgb_r.fit(\\n    X_train,\\n    y_train,\\n    eval_set=[(X_train, y_train), (X_test, y_test)],\\n    eval_metric=\\\"mae\\\",\\n)\\n\\nxgb_r.save_model(model_root + \\\"multivariate_xgb_regsr_\\\" + df_name[:3] + \\\".json\\\")\";\n",
       "                var nbb_formatted_code = \"%%capture\\nxgb_r = xgb.XGBRegressor(objective=\\\"reg:squarederror\\\", n_estimators=100, seed=123)\\n\\nxgb_r.fit(\\n    X_train,\\n    y_train,\\n    eval_set=[(X_train, y_train), (X_test, y_test)],\\n    eval_metric=\\\"mae\\\",\\n)\\n\\nxgb_r.save_model(model_root + \\\"multivariate_xgb_regsr_\\\" + df_name[:3] + \\\".json\\\")\";\n",
       "                var nbb_cells = Jupyter.notebook.get_cells();\n",
       "                for (var i = 0; i < nbb_cells.length; ++i) {\n",
       "                    if (nbb_cells[i].input_prompt_number == nbb_cell_id) {\n",
       "                        if (nbb_cells[i].get_text() == nbb_unformatted_code) {\n",
       "                             nbb_cells[i].set_text(nbb_formatted_code);\n",
       "                        }\n",
       "                        break;\n",
       "                    }\n",
       "                }\n",
       "            }, 500);\n",
       "            "
      ],
      "text/plain": [
       "<IPython.core.display.Javascript object>"
      ]
     },
     "metadata": {},
     "output_type": "display_data"
    }
   ],
   "source": [
    "%%capture\n",
    "xgb_r = xgb.XGBRegressor(objective=\"reg:squarederror\", n_estimators=100, seed=123)\n",
    "\n",
    "xgb_r.fit(\n",
    "    X_train,\n",
    "    y_train,\n",
    "    eval_set=[(X_train, y_train), (X_test, y_test)],\n",
    "    eval_metric=\"mae\",\n",
    ")\n",
    "\n",
    "xgb_r.save_model(model_root + \"multivariate_xgb_regsr_\" + df_name[:3] + \".json\")"
   ]
  },
  {
   "cell_type": "code",
   "execution_count": 31,
   "metadata": {
    "scrolled": false
   },
   "outputs": [
    {
     "data": {
      "image/png": "[encoded data removed]",
      "text/plain": [
       "<Figure size 360x360 with 1 Axes>"
      ]
     },
     "metadata": {},
     "output_type": "display_data"
    },
    {
     "data": {
      "application/javascript": [
       "\n",
       "            setTimeout(function() {\n",
       "                var nbb_cell_id = 31;\n",
       "                var nbb_unformatted_code = \"xgb_2 = xgb.XGBRegressor()\\nxgb_2.load_model(model_root + \\\"multivariate_xgb_regsr_\\\" + df_name[:3] + \\\".json\\\")\\n\\nxgb.plot_importance(xgb_2)\\nplt.rcParams[\\\"figure.figsize\\\"] = [5, 5]\\nplt.show()\";\n",
       "                var nbb_formatted_code = \"xgb_2 = xgb.XGBRegressor()\\nxgb_2.load_model(model_root + \\\"multivariate_xgb_regsr_\\\" + df_name[:3] + \\\".json\\\")\\n\\nxgb.plot_importance(xgb_2)\\nplt.rcParams[\\\"figure.figsize\\\"] = [5, 5]\\nplt.show()\";\n",
       "                var nbb_cells = Jupyter.notebook.get_cells();\n",
       "                for (var i = 0; i < nbb_cells.length; ++i) {\n",
       "                    if (nbb_cells[i].input_prompt_number == nbb_cell_id) {\n",
       "                        if (nbb_cells[i].get_text() == nbb_unformatted_code) {\n",
       "                             nbb_cells[i].set_text(nbb_formatted_code);\n",
       "                        }\n",
       "                        break;\n",
       "                    }\n",
       "                }\n",
       "            }, 500);\n",
       "            "
      ],
      "text/plain": [
       "<IPython.core.display.Javascript object>"
      ]
     },
     "metadata": {},
     "output_type": "display_data"
    }
   ],
   "source": [
    "xgb_2 = xgb.XGBRegressor()\n",
    "xgb_2.load_model(model_root + \"multivariate_xgb_regsr_\" + df_name[:3] + \".json\")\n",
    "\n",
    "xgb.plot_importance(xgb_2)\n",
    "plt.rcParams[\"figure.figsize\"] = [5, 5]\n",
    "plt.show()"
   ]
  },
  {
   "cell_type": "code",
   "execution_count": 32,
   "metadata": {
    "scrolled": true
   },
   "outputs": [
    {
     "data": {
      "text/html": [
       "<div>\n",
       "<style scoped>\n",
       "    .dataframe tbody tr th:only-of-type {\n",
       "        vertical-align: middle;\n",
       "    }\n",
       "\n",
       "    .dataframe tbody tr th {\n",
       "        vertical-align: top;\n",
       "    }\n",
       "\n",
       "    .dataframe thead th {\n",
       "        text-align: right;\n",
       "    }\n",
       "</style>\n",
       "<table border=\"1\" class=\"dataframe\">\n",
       "  <thead>\n",
       "    <tr style=\"text-align: right;\">\n",
       "      <th></th>\n",
       "      <th>year</th>\n",
       "      <th>month</th>\n",
       "      <th>day</th>\n",
       "      <th>hour</th>\n",
       "      <th>Kw</th>\n",
       "      <th>lat</th>\n",
       "      <th>lon</th>\n",
       "      <th>population</th>\n",
       "      <th>annual_peak_load</th>\n",
       "      <th>Temp (°C)</th>\n",
       "      <th>date</th>\n",
       "      <th>kw_cap</th>\n",
       "      <th>datetime</th>\n",
       "    </tr>\n",
       "  </thead>\n",
       "  <tbody>\n",
       "    <tr>\n",
       "      <th>0</th>\n",
       "      <td>2013</td>\n",
       "      <td>1</td>\n",
       "      <td>1</td>\n",
       "      <td>0</td>\n",
       "      <td>849.450417</td>\n",
       "      <td>62.20071</td>\n",
       "      <td>-75.65</td>\n",
       "      <td>1483</td>\n",
       "      <td>1347.844242</td>\n",
       "      <td>-19.559714</td>\n",
       "      <td>2013-01-01</td>\n",
       "      <td>0.572792</td>\n",
       "      <td>2013-01-01 00:00:00</td>\n",
       "    </tr>\n",
       "    <tr>\n",
       "      <th>1</th>\n",
       "      <td>2013</td>\n",
       "      <td>1</td>\n",
       "      <td>1</td>\n",
       "      <td>1</td>\n",
       "      <td>891.025667</td>\n",
       "      <td>62.20071</td>\n",
       "      <td>-75.65</td>\n",
       "      <td>1483</td>\n",
       "      <td>1347.844242</td>\n",
       "      <td>-19.994040</td>\n",
       "      <td>2013-01-01</td>\n",
       "      <td>0.600826</td>\n",
       "      <td>2013-01-01 01:00:00</td>\n",
       "    </tr>\n",
       "    <tr>\n",
       "      <th>2</th>\n",
       "      <td>2013</td>\n",
       "      <td>1</td>\n",
       "      <td>1</td>\n",
       "      <td>2</td>\n",
       "      <td>905.738833</td>\n",
       "      <td>62.20071</td>\n",
       "      <td>-75.65</td>\n",
       "      <td>1483</td>\n",
       "      <td>1347.844242</td>\n",
       "      <td>-19.779135</td>\n",
       "      <td>2013-01-01</td>\n",
       "      <td>0.610748</td>\n",
       "      <td>2013-01-01 02:00:00</td>\n",
       "    </tr>\n",
       "    <tr>\n",
       "      <th>3</th>\n",
       "      <td>2013</td>\n",
       "      <td>1</td>\n",
       "      <td>1</td>\n",
       "      <td>3</td>\n",
       "      <td>847.466417</td>\n",
       "      <td>62.20071</td>\n",
       "      <td>-75.65</td>\n",
       "      <td>1483</td>\n",
       "      <td>1347.844242</td>\n",
       "      <td>-18.466940</td>\n",
       "      <td>2013-01-01</td>\n",
       "      <td>0.571454</td>\n",
       "      <td>2013-01-01 03:00:00</td>\n",
       "    </tr>\n",
       "    <tr>\n",
       "      <th>4</th>\n",
       "      <td>2013</td>\n",
       "      <td>1</td>\n",
       "      <td>1</td>\n",
       "      <td>4</td>\n",
       "      <td>823.321083</td>\n",
       "      <td>62.20071</td>\n",
       "      <td>-75.65</td>\n",
       "      <td>1483</td>\n",
       "      <td>1347.844242</td>\n",
       "      <td>-18.182593</td>\n",
       "      <td>2013-01-01</td>\n",
       "      <td>0.555173</td>\n",
       "      <td>2013-01-01 04:00:00</td>\n",
       "    </tr>\n",
       "    <tr>\n",
       "      <th>...</th>\n",
       "      <td>...</td>\n",
       "      <td>...</td>\n",
       "      <td>...</td>\n",
       "      <td>...</td>\n",
       "      <td>...</td>\n",
       "      <td>...</td>\n",
       "      <td>...</td>\n",
       "      <td>...</td>\n",
       "      <td>...</td>\n",
       "      <td>...</td>\n",
       "      <td>...</td>\n",
       "      <td>...</td>\n",
       "      <td>...</td>\n",
       "    </tr>\n",
       "    <tr>\n",
       "      <th>8755</th>\n",
       "      <td>2013</td>\n",
       "      <td>12</td>\n",
       "      <td>31</td>\n",
       "      <td>19</td>\n",
       "      <td>1231.135500</td>\n",
       "      <td>62.20071</td>\n",
       "      <td>-75.65</td>\n",
       "      <td>1483</td>\n",
       "      <td>1347.844242</td>\n",
       "      <td>-31.845618</td>\n",
       "      <td>2013-12-31</td>\n",
       "      <td>0.830166</td>\n",
       "      <td>2013-12-31 19:00:00</td>\n",
       "    </tr>\n",
       "    <tr>\n",
       "      <th>8756</th>\n",
       "      <td>2013</td>\n",
       "      <td>12</td>\n",
       "      <td>31</td>\n",
       "      <td>20</td>\n",
       "      <td>1210.384583</td>\n",
       "      <td>62.20071</td>\n",
       "      <td>-75.65</td>\n",
       "      <td>1483</td>\n",
       "      <td>1347.844242</td>\n",
       "      <td>-31.837973</td>\n",
       "      <td>2013-12-31</td>\n",
       "      <td>0.816173</td>\n",
       "      <td>2013-12-31 20:00:00</td>\n",
       "    </tr>\n",
       "    <tr>\n",
       "      <th>8757</th>\n",
       "      <td>2013</td>\n",
       "      <td>12</td>\n",
       "      <td>31</td>\n",
       "      <td>21</td>\n",
       "      <td>1161.959667</td>\n",
       "      <td>62.20071</td>\n",
       "      <td>-75.65</td>\n",
       "      <td>1483</td>\n",
       "      <td>1347.844242</td>\n",
       "      <td>-31.606787</td>\n",
       "      <td>2013-12-31</td>\n",
       "      <td>0.783520</td>\n",
       "      <td>2013-12-31 21:00:00</td>\n",
       "    </tr>\n",
       "    <tr>\n",
       "      <th>8758</th>\n",
       "      <td>2013</td>\n",
       "      <td>12</td>\n",
       "      <td>31</td>\n",
       "      <td>22</td>\n",
       "      <td>1084.469000</td>\n",
       "      <td>62.20071</td>\n",
       "      <td>-75.65</td>\n",
       "      <td>1483</td>\n",
       "      <td>1347.844242</td>\n",
       "      <td>-32.661322</td>\n",
       "      <td>2013-12-31</td>\n",
       "      <td>0.731267</td>\n",
       "      <td>2013-12-31 22:00:00</td>\n",
       "    </tr>\n",
       "    <tr>\n",
       "      <th>8759</th>\n",
       "      <td>2013</td>\n",
       "      <td>12</td>\n",
       "      <td>31</td>\n",
       "      <td>23</td>\n",
       "      <td>1048.937750</td>\n",
       "      <td>62.20071</td>\n",
       "      <td>-75.65</td>\n",
       "      <td>1483</td>\n",
       "      <td>1347.844242</td>\n",
       "      <td>-32.354910</td>\n",
       "      <td>2013-12-31</td>\n",
       "      <td>0.707308</td>\n",
       "      <td>2013-12-31 23:00:00</td>\n",
       "    </tr>\n",
       "  </tbody>\n",
       "</table>\n",
       "<p>8760 rows × 13 columns</p>\n",
       "</div>"
      ],
      "text/plain": [
       "      year  month  day  hour           Kw       lat    lon  population  \\\n",
       "0     2013      1    1     0   849.450417  62.20071 -75.65        1483   \n",
       "1     2013      1    1     1   891.025667  62.20071 -75.65        1483   \n",
       "2     2013      1    1     2   905.738833  62.20071 -75.65        1483   \n",
       "3     2013      1    1     3   847.466417  62.20071 -75.65        1483   \n",
       "4     2013      1    1     4   823.321083  62.20071 -75.65        1483   \n",
       "...    ...    ...  ...   ...          ...       ...    ...         ...   \n",
       "8755  2013     12   31    19  1231.135500  62.20071 -75.65        1483   \n",
       "8756  2013     12   31    20  1210.384583  62.20071 -75.65        1483   \n",
       "8757  2013     12   31    21  1161.959667  62.20071 -75.65        1483   \n",
       "8758  2013     12   31    22  1084.469000  62.20071 -75.65        1483   \n",
       "8759  2013     12   31    23  1048.937750  62.20071 -75.65        1483   \n",
       "\n",
       "      annual_peak_load  Temp (°C)        date    kw_cap             datetime  \n",
       "0          1347.844242 -19.559714  2013-01-01  0.572792  2013-01-01 00:00:00  \n",
       "1          1347.844242 -19.994040  2013-01-01  0.600826  2013-01-01 01:00:00  \n",
       "2          1347.844242 -19.779135  2013-01-01  0.610748  2013-01-01 02:00:00  \n",
       "3          1347.844242 -18.466940  2013-01-01  0.571454  2013-01-01 03:00:00  \n",
       "4          1347.844242 -18.182593  2013-01-01  0.555173  2013-01-01 04:00:00  \n",
       "...                ...        ...         ...       ...                  ...  \n",
       "8755       1347.844242 -31.845618  2013-12-31  0.830166  2013-12-31 19:00:00  \n",
       "8756       1347.844242 -31.837973  2013-12-31  0.816173  2013-12-31 20:00:00  \n",
       "8757       1347.844242 -31.606787  2013-12-31  0.783520  2013-12-31 21:00:00  \n",
       "8758       1347.844242 -32.661322  2013-12-31  0.731267  2013-12-31 22:00:00  \n",
       "8759       1347.844242 -32.354910  2013-12-31  0.707308  2013-12-31 23:00:00  \n",
       "\n",
       "[8760 rows x 13 columns]"
      ]
     },
     "execution_count": 32,
     "metadata": {},
     "output_type": "execute_result"
    },
    {
     "data": {
      "application/javascript": [
       "\n",
       "            setTimeout(function() {\n",
       "                var nbb_cell_id = 32;\n",
       "                var nbb_unformatted_code = \"# X_train\\n# X_test\\ntrain_data\";\n",
       "                var nbb_formatted_code = \"# X_train\\n# X_test\\ntrain_data\";\n",
       "                var nbb_cells = Jupyter.notebook.get_cells();\n",
       "                for (var i = 0; i < nbb_cells.length; ++i) {\n",
       "                    if (nbb_cells[i].input_prompt_number == nbb_cell_id) {\n",
       "                        if (nbb_cells[i].get_text() == nbb_unformatted_code) {\n",
       "                             nbb_cells[i].set_text(nbb_formatted_code);\n",
       "                        }\n",
       "                        break;\n",
       "                    }\n",
       "                }\n",
       "            }, 500);\n",
       "            "
      ],
      "text/plain": [
       "<IPython.core.display.Javascript object>"
      ]
     },
     "metadata": {},
     "output_type": "display_data"
    }
   ],
   "source": [
    "# X_train\n",
    "# X_test\n",
    "train_data"
   ]
  },
  {
   "cell_type": "code",
   "execution_count": 33,
   "metadata": {},
   "outputs": [
    {
     "name": "stdout",
     "output_type": "stream",
     "text": [
      "Train RMSE :  0.014066\n",
      "Test RMSE :  0.056546\n"
     ]
    },
    {
     "data": {
      "application/javascript": [
       "\n",
       "            setTimeout(function() {\n",
       "                var nbb_cell_id = 33;\n",
       "                var nbb_unformatted_code = \"# Predictions on the train dataset\\ntrain_pred = xgb_2.predict(X_train)\\n# RMSE Computation\\ntrain_rmse = np.sqrt(mean_squared_error(y_train, train_pred))\\ntest_pred = xgb_2.predict(X_test)\\n# RMSE Computation\\ntest_rmse = np.sqrt(mean_squared_error(y_test, test_pred))\\nprint(\\\"Train RMSE : % f\\\" % (train_rmse))\\nprint(\\\"Test RMSE : % f\\\" % (test_rmse))\";\n",
       "                var nbb_formatted_code = \"# Predictions on the train dataset\\ntrain_pred = xgb_2.predict(X_train)\\n# RMSE Computation\\ntrain_rmse = np.sqrt(mean_squared_error(y_train, train_pred))\\ntest_pred = xgb_2.predict(X_test)\\n# RMSE Computation\\ntest_rmse = np.sqrt(mean_squared_error(y_test, test_pred))\\nprint(\\\"Train RMSE : % f\\\" % (train_rmse))\\nprint(\\\"Test RMSE : % f\\\" % (test_rmse))\";\n",
       "                var nbb_cells = Jupyter.notebook.get_cells();\n",
       "                for (var i = 0; i < nbb_cells.length; ++i) {\n",
       "                    if (nbb_cells[i].input_prompt_number == nbb_cell_id) {\n",
       "                        if (nbb_cells[i].get_text() == nbb_unformatted_code) {\n",
       "                             nbb_cells[i].set_text(nbb_formatted_code);\n",
       "                        }\n",
       "                        break;\n",
       "                    }\n",
       "                }\n",
       "            }, 500);\n",
       "            "
      ],
      "text/plain": [
       "<IPython.core.display.Javascript object>"
      ]
     },
     "metadata": {},
     "output_type": "display_data"
    }
   ],
   "source": [
    "# Predictions on the train dataset\n",
    "train_pred = xgb_2.predict(X_train)\n",
    "# RMSE Computation\n",
    "train_rmse = np.sqrt(mean_squared_error(y_train, train_pred))\n",
    "test_pred = xgb_2.predict(X_test)\n",
    "# RMSE Computation\n",
    "test_rmse = np.sqrt(mean_squared_error(y_test, test_pred))\n",
    "print(\"Train RMSE : % f\" % (train_rmse))\n",
    "print(\"Test RMSE : % f\" % (test_rmse))"
   ]
  },
  {
   "cell_type": "code",
   "execution_count": 34,
   "metadata": {},
   "outputs": [
    {
     "data": {
      "image/png": "[encoded data removed]",
      "text/plain": [
       "<Figure size 1296x216 with 1 Axes>"
      ]
     },
     "metadata": {},
     "output_type": "display_data"
    },
    {
     "data": {
      "application/javascript": [
       "\n",
       "            setTimeout(function() {\n",
       "                var nbb_cell_id = 34;\n",
       "                var nbb_unformatted_code = \"plt.figure(figsize=(18, 3))\\ntarget_s = pd.Series(y_train.kw_cap)[:]\\npred_s = pd.Series(train_pred)[:]\\nplt.title(\\\"Train RMSE : % f\\\" % (train_rmse))\\nPreprocessing.plot_series(range(len(target_s)), target_s, label=\\\"train_target\\\")\\nPreprocessing.plot_series(range(len(pred_s)), pred_s, label=f\\\"train_prediction\\\")\";\n",
       "                var nbb_formatted_code = \"plt.figure(figsize=(18, 3))\\ntarget_s = pd.Series(y_train.kw_cap)[:]\\npred_s = pd.Series(train_pred)[:]\\nplt.title(\\\"Train RMSE : % f\\\" % (train_rmse))\\nPreprocessing.plot_series(range(len(target_s)), target_s, label=\\\"train_target\\\")\\nPreprocessing.plot_series(range(len(pred_s)), pred_s, label=f\\\"train_prediction\\\")\";\n",
       "                var nbb_cells = Jupyter.notebook.get_cells();\n",
       "                for (var i = 0; i < nbb_cells.length; ++i) {\n",
       "                    if (nbb_cells[i].input_prompt_number == nbb_cell_id) {\n",
       "                        if (nbb_cells[i].get_text() == nbb_unformatted_code) {\n",
       "                             nbb_cells[i].set_text(nbb_formatted_code);\n",
       "                        }\n",
       "                        break;\n",
       "                    }\n",
       "                }\n",
       "            }, 500);\n",
       "            "
      ],
      "text/plain": [
       "<IPython.core.display.Javascript object>"
      ]
     },
     "metadata": {},
     "output_type": "display_data"
    }
   ],
   "source": [
    "plt.figure(figsize=(18, 3))\n",
    "target_s = pd.Series(y_train.kw_cap)[:]\n",
    "pred_s = pd.Series(train_pred)[:]\n",
    "plt.title(\"Train RMSE : % f\" % (train_rmse))\n",
    "Preprocessing.plot_series(range(len(target_s)), target_s, label=\"train_target\")\n",
    "Preprocessing.plot_series(range(len(pred_s)), pred_s, label=f\"train_prediction\")"
   ]
  },
  {
   "cell_type": "code",
   "execution_count": 35,
   "metadata": {},
   "outputs": [
    {
     "data": {
      "image/png": "[encoded data removed]",
      "text/plain": [
       "<Figure size 1296x216 with 1 Axes>"
      ]
     },
     "metadata": {},
     "output_type": "display_data"
    },
    {
     "data": {
      "application/javascript": [
       "\n",
       "            setTimeout(function() {\n",
       "                var nbb_cell_id = 35;\n",
       "                var nbb_unformatted_code = \"plt.figure(figsize=(18, 3))\\ntarget_s = pd.Series(y_test.kw_cap)[:]\\npred_s = pd.Series(test_pred)[:]\\nplt.title(\\\"Test RMSE : % f\\\" % (test_rmse))\\nPreprocessing.plot_series(range(len(target_s)), target_s, label=\\\"test_target\\\")\\nPreprocessing.plot_series(range(len(pred_s)), pred_s, label=f\\\"test_prediction\\\")\";\n",
       "                var nbb_formatted_code = \"plt.figure(figsize=(18, 3))\\ntarget_s = pd.Series(y_test.kw_cap)[:]\\npred_s = pd.Series(test_pred)[:]\\nplt.title(\\\"Test RMSE : % f\\\" % (test_rmse))\\nPreprocessing.plot_series(range(len(target_s)), target_s, label=\\\"test_target\\\")\\nPreprocessing.plot_series(range(len(pred_s)), pred_s, label=f\\\"test_prediction\\\")\";\n",
       "                var nbb_cells = Jupyter.notebook.get_cells();\n",
       "                for (var i = 0; i < nbb_cells.length; ++i) {\n",
       "                    if (nbb_cells[i].input_prompt_number == nbb_cell_id) {\n",
       "                        if (nbb_cells[i].get_text() == nbb_unformatted_code) {\n",
       "                             nbb_cells[i].set_text(nbb_formatted_code);\n",
       "                        }\n",
       "                        break;\n",
       "                    }\n",
       "                }\n",
       "            }, 500);\n",
       "            "
      ],
      "text/plain": [
       "<IPython.core.display.Javascript object>"
      ]
     },
     "metadata": {},
     "output_type": "display_data"
    }
   ],
   "source": [
    "plt.figure(figsize=(18, 3))\n",
    "target_s = pd.Series(y_test.kw_cap)[:]\n",
    "pred_s = pd.Series(test_pred)[:]\n",
    "plt.title(\"Test RMSE : % f\" % (test_rmse))\n",
    "Preprocessing.plot_series(range(len(target_s)), target_s, label=\"test_target\")\n",
    "Preprocessing.plot_series(range(len(pred_s)), pred_s, label=f\"test_prediction\")"
   ]
  },
  {
   "cell_type": "code",
   "execution_count": 38,
   "metadata": {},
   "outputs": [
    {
     "data": {
      "text/plain": [
       "0       0.637436\n",
       "1       0.632284\n",
       "2       0.608280\n",
       "3       0.590183\n",
       "4       0.579207\n",
       "          ...   \n",
       "8755    0.810217\n",
       "8756    0.788586\n",
       "8757    0.762109\n",
       "8758    0.732799\n",
       "8759    0.704153\n",
       "Length: 8760, dtype: float32"
      ]
     },
     "execution_count": 38,
     "metadata": {},
     "output_type": "execute_result"
    },
    {
     "data": {
      "application/javascript": [
       "\n",
       "            setTimeout(function() {\n",
       "                var nbb_cell_id = 38;\n",
       "                var nbb_unformatted_code = \"pred_s\";\n",
       "                var nbb_formatted_code = \"pred_s\";\n",
       "                var nbb_cells = Jupyter.notebook.get_cells();\n",
       "                for (var i = 0; i < nbb_cells.length; ++i) {\n",
       "                    if (nbb_cells[i].input_prompt_number == nbb_cell_id) {\n",
       "                        if (nbb_cells[i].get_text() == nbb_unformatted_code) {\n",
       "                             nbb_cells[i].set_text(nbb_formatted_code);\n",
       "                        }\n",
       "                        break;\n",
       "                    }\n",
       "                }\n",
       "            }, 500);\n",
       "            "
      ],
      "text/plain": [
       "<IPython.core.display.Javascript object>"
      ]
     },
     "metadata": {},
     "output_type": "display_data"
    }
   ],
   "source": [
    "pred_s"
   ]
  },
  {
   "cell_type": "code",
   "execution_count": null,
   "metadata": {},
   "outputs": [],
   "source": []
  },
  {
   "cell_type": "code",
   "execution_count": 25,
   "metadata": {},
   "outputs": [
    {
     "data": {
      "application/javascript": [
       "\n",
       "            setTimeout(function() {\n",
       "                var nbb_cell_id = 25;\n",
       "                var nbb_unformatted_code = \"# X_train[\\\"Temp (\\u00b0C) shift 1\\\"] = X_train[\\\"Temp (\\u00b0C)\\\"].shift(\\n#     periods=1, fill_value=X_train[\\\"Temp (\\u00b0C)\\\"].mean()\\n# )\\n# X_train[\\\"Temp (\\u00b0C) shift 3\\\"] = X_train[\\\"Temp (\\u00b0C)\\\"].shift(\\n#     periods=3, fill_value=X_train[\\\"Temp (\\u00b0C)\\\"].mean()\\n# )\\n# X_train[\\\"Temp (\\u00b0C) shift 5\\\"] = X_train[\\\"Temp (\\u00b0C)\\\"].shift(\\n#     periods=5, fill_value=X_train[\\\"Temp (\\u00b0C)\\\"].mean()\\n# )\\n# X_train[\\\"Temp (\\u00b0C) shift 7\\\"] = X_train[\\\"Temp (\\u00b0C)\\\"].shift(\\n#     periods=7, fill_value=X_train[\\\"Temp (\\u00b0C)\\\"].mean()\\n# )\\n\\n# X_test[\\\"Temp (\\u00b0C) shift 1\\\"] = X_test[\\\"Temp (\\u00b0C)\\\"].shift(\\n#     periods=1, fill_value=X_test[\\\"Temp (\\u00b0C)\\\"].mean()\\n# )\\n# X_test[\\\"Temp (\\u00b0C) shift 3\\\"] = X_test[\\\"Temp (\\u00b0C)\\\"].shift(\\n#     periods=3, fill_value=X_test[\\\"Temp (\\u00b0C)\\\"].mean()\\n# )\\n# X_test[\\\"Temp (\\u00b0C) shift 5\\\"] = X_test[\\\"Temp (\\u00b0C)\\\"].shift(\\n#     periods=5, fill_value=X_test[\\\"Temp (\\u00b0C)\\\"].mean()\\n# )\\n# X_test[\\\"Temp (\\u00b0C) shift 7\\\"] = X_test[\\\"Temp (\\u00b0C)\\\"].shift(\\n#     periods=7, fill_value=X_test[\\\"Temp (\\u00b0C)\\\"].mean()\\n# )\\n\\n# X_test.head(2)\\n# # X_train.head(2)\";\n",
       "                var nbb_formatted_code = \"# X_train[\\\"Temp (\\u00b0C) shift 1\\\"] = X_train[\\\"Temp (\\u00b0C)\\\"].shift(\\n#     periods=1, fill_value=X_train[\\\"Temp (\\u00b0C)\\\"].mean()\\n# )\\n# X_train[\\\"Temp (\\u00b0C) shift 3\\\"] = X_train[\\\"Temp (\\u00b0C)\\\"].shift(\\n#     periods=3, fill_value=X_train[\\\"Temp (\\u00b0C)\\\"].mean()\\n# )\\n# X_train[\\\"Temp (\\u00b0C) shift 5\\\"] = X_train[\\\"Temp (\\u00b0C)\\\"].shift(\\n#     periods=5, fill_value=X_train[\\\"Temp (\\u00b0C)\\\"].mean()\\n# )\\n# X_train[\\\"Temp (\\u00b0C) shift 7\\\"] = X_train[\\\"Temp (\\u00b0C)\\\"].shift(\\n#     periods=7, fill_value=X_train[\\\"Temp (\\u00b0C)\\\"].mean()\\n# )\\n\\n# X_test[\\\"Temp (\\u00b0C) shift 1\\\"] = X_test[\\\"Temp (\\u00b0C)\\\"].shift(\\n#     periods=1, fill_value=X_test[\\\"Temp (\\u00b0C)\\\"].mean()\\n# )\\n# X_test[\\\"Temp (\\u00b0C) shift 3\\\"] = X_test[\\\"Temp (\\u00b0C)\\\"].shift(\\n#     periods=3, fill_value=X_test[\\\"Temp (\\u00b0C)\\\"].mean()\\n# )\\n# X_test[\\\"Temp (\\u00b0C) shift 5\\\"] = X_test[\\\"Temp (\\u00b0C)\\\"].shift(\\n#     periods=5, fill_value=X_test[\\\"Temp (\\u00b0C)\\\"].mean()\\n# )\\n# X_test[\\\"Temp (\\u00b0C) shift 7\\\"] = X_test[\\\"Temp (\\u00b0C)\\\"].shift(\\n#     periods=7, fill_value=X_test[\\\"Temp (\\u00b0C)\\\"].mean()\\n# )\\n\\n# X_test.head(2)\\n# # X_train.head(2)\";\n",
       "                var nbb_cells = Jupyter.notebook.get_cells();\n",
       "                for (var i = 0; i < nbb_cells.length; ++i) {\n",
       "                    if (nbb_cells[i].input_prompt_number == nbb_cell_id) {\n",
       "                        if (nbb_cells[i].get_text() == nbb_unformatted_code) {\n",
       "                             nbb_cells[i].set_text(nbb_formatted_code);\n",
       "                        }\n",
       "                        break;\n",
       "                    }\n",
       "                }\n",
       "            }, 500);\n",
       "            "
      ],
      "text/plain": [
       "<IPython.core.display.Javascript object>"
      ]
     },
     "metadata": {},
     "output_type": "display_data"
    }
   ],
   "source": [
    "# X_train[\"Temp (°C) shift 1\"] = X_train[\"Temp (°C)\"].shift(\n",
    "#     periods=1, fill_value=X_train[\"Temp (°C)\"].mean()\n",
    "# )\n",
    "# X_train[\"Temp (°C) shift 3\"] = X_train[\"Temp (°C)\"].shift(\n",
    "#     periods=3, fill_value=X_train[\"Temp (°C)\"].mean()\n",
    "# )\n",
    "# X_train[\"Temp (°C) shift 5\"] = X_train[\"Temp (°C)\"].shift(\n",
    "#     periods=5, fill_value=X_train[\"Temp (°C)\"].mean()\n",
    "# )\n",
    "# X_train[\"Temp (°C) shift 7\"] = X_train[\"Temp (°C)\"].shift(\n",
    "#     periods=7, fill_value=X_train[\"Temp (°C)\"].mean()\n",
    "# )\n",
    "\n",
    "# X_test[\"Temp (°C) shift 1\"] = X_test[\"Temp (°C)\"].shift(\n",
    "#     periods=1, fill_value=X_test[\"Temp (°C)\"].mean()\n",
    "# )\n",
    "# X_test[\"Temp (°C) shift 3\"] = X_test[\"Temp (°C)\"].shift(\n",
    "#     periods=3, fill_value=X_test[\"Temp (°C)\"].mean()\n",
    "# )\n",
    "# X_test[\"Temp (°C) shift 5\"] = X_test[\"Temp (°C)\"].shift(\n",
    "#     periods=5, fill_value=X_test[\"Temp (°C)\"].mean()\n",
    "# )\n",
    "# X_test[\"Temp (°C) shift 7\"] = X_test[\"Temp (°C)\"].shift(\n",
    "#     periods=7, fill_value=X_test[\"Temp (°C)\"].mean()\n",
    "# )\n",
    "\n",
    "# X_test.head(2)\n",
    "# # X_train.head(2)"
   ]
  },
  {
   "cell_type": "code",
   "execution_count": 26,
   "metadata": {},
   "outputs": [
    {
     "data": {
      "application/javascript": [
       "\n",
       "            setTimeout(function() {\n",
       "                var nbb_cell_id = 26;\n",
       "                var nbb_unformatted_code = \"# # %%capture\\n# xgb_r = xgb.XGBRegressor(objective=\\\"reg:squarederror\\\", n_estimators=100, seed=123)\\n\\n# xgb_r.fit(\\n#     X_train,\\n#     y_train,\\n#     #     eval_set=[(X_train, y_train),(X_test, y_test)],\\n#     eval_metric=\\\"mae\\\",\\n# )\\n# # Predictions on the train dataset\\n# train_pred = xgb_r.predict(X_train)\\n# # RMSE Computation\\n# train_rmse = np.sqrt(mean_squared_error(y_train, train_pred))\\n# test_pred = xgb_r.predict(X_test)\\n# # RMSE Computation\\n# test_rmse = np.sqrt(mean_squared_error(y_test, test_pred))\\n# print(\\\"Train RMSE : % f\\\" % (train_rmse))\\n# print(\\\"Test RMSE : % f\\\" % (test_rmse))\";\n",
       "                var nbb_formatted_code = \"# # %%capture\\n# xgb_r = xgb.XGBRegressor(objective=\\\"reg:squarederror\\\", n_estimators=100, seed=123)\\n\\n# xgb_r.fit(\\n#     X_train,\\n#     y_train,\\n#     #     eval_set=[(X_train, y_train),(X_test, y_test)],\\n#     eval_metric=\\\"mae\\\",\\n# )\\n# # Predictions on the train dataset\\n# train_pred = xgb_r.predict(X_train)\\n# # RMSE Computation\\n# train_rmse = np.sqrt(mean_squared_error(y_train, train_pred))\\n# test_pred = xgb_r.predict(X_test)\\n# # RMSE Computation\\n# test_rmse = np.sqrt(mean_squared_error(y_test, test_pred))\\n# print(\\\"Train RMSE : % f\\\" % (train_rmse))\\n# print(\\\"Test RMSE : % f\\\" % (test_rmse))\";\n",
       "                var nbb_cells = Jupyter.notebook.get_cells();\n",
       "                for (var i = 0; i < nbb_cells.length; ++i) {\n",
       "                    if (nbb_cells[i].input_prompt_number == nbb_cell_id) {\n",
       "                        if (nbb_cells[i].get_text() == nbb_unformatted_code) {\n",
       "                             nbb_cells[i].set_text(nbb_formatted_code);\n",
       "                        }\n",
       "                        break;\n",
       "                    }\n",
       "                }\n",
       "            }, 500);\n",
       "            "
      ],
      "text/plain": [
       "<IPython.core.display.Javascript object>"
      ]
     },
     "metadata": {},
     "output_type": "display_data"
    }
   ],
   "source": [
    "# # %%capture\n",
    "# xgb_r = xgb.XGBRegressor(objective=\"reg:squarederror\", n_estimators=100, seed=123)\n",
    "\n",
    "# xgb_r.fit(\n",
    "#     X_train,\n",
    "#     y_train,\n",
    "#     #     eval_set=[(X_train, y_train),(X_test, y_test)],\n",
    "#     eval_metric=\"mae\",\n",
    "# )\n",
    "# # Predictions on the train dataset\n",
    "# train_pred = xgb_r.predict(X_train)\n",
    "# # RMSE Computation\n",
    "# train_rmse = np.sqrt(mean_squared_error(y_train, train_pred))\n",
    "# test_pred = xgb_r.predict(X_test)\n",
    "# # RMSE Computation\n",
    "# test_rmse = np.sqrt(mean_squared_error(y_test, test_pred))\n",
    "# print(\"Train RMSE : % f\" % (train_rmse))\n",
    "# print(\"Test RMSE : % f\" % (test_rmse))"
   ]
  },
  {
   "cell_type": "code",
   "execution_count": 27,
   "metadata": {},
   "outputs": [
    {
     "data": {
      "application/javascript": [
       "\n",
       "            setTimeout(function() {\n",
       "                var nbb_cell_id = 27;\n",
       "                var nbb_unformatted_code = \"# plt.figure(figsize=(18, 3))\\n# target_s = pd.Series(y_train.kw_cap)[:]\\n# pred_s = pd.Series(train_pred)[:]\\n# plt.title(\\\"Train RMSE : % f\\\" % (train_rmse))\\n# Preprocessing.plot_series(range(len(target_s)), target_s, label=\\\"train_target\\\")\\n# Preprocessing.plot_series(range(len(pred_s)), pred_s, label=f\\\"train_prediction\\\")\";\n",
       "                var nbb_formatted_code = \"# plt.figure(figsize=(18, 3))\\n# target_s = pd.Series(y_train.kw_cap)[:]\\n# pred_s = pd.Series(train_pred)[:]\\n# plt.title(\\\"Train RMSE : % f\\\" % (train_rmse))\\n# Preprocessing.plot_series(range(len(target_s)), target_s, label=\\\"train_target\\\")\\n# Preprocessing.plot_series(range(len(pred_s)), pred_s, label=f\\\"train_prediction\\\")\";\n",
       "                var nbb_cells = Jupyter.notebook.get_cells();\n",
       "                for (var i = 0; i < nbb_cells.length; ++i) {\n",
       "                    if (nbb_cells[i].input_prompt_number == nbb_cell_id) {\n",
       "                        if (nbb_cells[i].get_text() == nbb_unformatted_code) {\n",
       "                             nbb_cells[i].set_text(nbb_formatted_code);\n",
       "                        }\n",
       "                        break;\n",
       "                    }\n",
       "                }\n",
       "            }, 500);\n",
       "            "
      ],
      "text/plain": [
       "<IPython.core.display.Javascript object>"
      ]
     },
     "metadata": {},
     "output_type": "display_data"
    }
   ],
   "source": [
    "# plt.figure(figsize=(18, 3))\n",
    "# target_s = pd.Series(y_train.kw_cap)[:]\n",
    "# pred_s = pd.Series(train_pred)[:]\n",
    "# plt.title(\"Train RMSE : % f\" % (train_rmse))\n",
    "# Preprocessing.plot_series(range(len(target_s)), target_s, label=\"train_target\")\n",
    "# Preprocessing.plot_series(range(len(pred_s)), pred_s, label=f\"train_prediction\")"
   ]
  },
  {
   "cell_type": "code",
   "execution_count": 28,
   "metadata": {},
   "outputs": [
    {
     "data": {
      "application/javascript": [
       "\n",
       "            setTimeout(function() {\n",
       "                var nbb_cell_id = 28;\n",
       "                var nbb_unformatted_code = \"# plt.figure(figsize=(18, 3))\\n# target_s = pd.Series(y_test.kw_cap)[:]\\n# pred_s = pd.Series(test_pred)[:]\\n# plt.title(\\\"Test RMSE : % f\\\" % (test_rmse))\\n# Preprocessing.plot_series(range(len(target_s)), target_s, label=\\\"test_target\\\")\\n# Preprocessing.plot_series(range(len(pred_s)), pred_s, label=f\\\"test_prediction\\\")\";\n",
       "                var nbb_formatted_code = \"# plt.figure(figsize=(18, 3))\\n# target_s = pd.Series(y_test.kw_cap)[:]\\n# pred_s = pd.Series(test_pred)[:]\\n# plt.title(\\\"Test RMSE : % f\\\" % (test_rmse))\\n# Preprocessing.plot_series(range(len(target_s)), target_s, label=\\\"test_target\\\")\\n# Preprocessing.plot_series(range(len(pred_s)), pred_s, label=f\\\"test_prediction\\\")\";\n",
       "                var nbb_cells = Jupyter.notebook.get_cells();\n",
       "                for (var i = 0; i < nbb_cells.length; ++i) {\n",
       "                    if (nbb_cells[i].input_prompt_number == nbb_cell_id) {\n",
       "                        if (nbb_cells[i].get_text() == nbb_unformatted_code) {\n",
       "                             nbb_cells[i].set_text(nbb_formatted_code);\n",
       "                        }\n",
       "                        break;\n",
       "                    }\n",
       "                }\n",
       "            }, 500);\n",
       "            "
      ],
      "text/plain": [
       "<IPython.core.display.Javascript object>"
      ]
     },
     "metadata": {},
     "output_type": "display_data"
    }
   ],
   "source": [
    "# plt.figure(figsize=(18, 3))\n",
    "# target_s = pd.Series(y_test.kw_cap)[:]\n",
    "# pred_s = pd.Series(test_pred)[:]\n",
    "# plt.title(\"Test RMSE : % f\" % (test_rmse))\n",
    "# Preprocessing.plot_series(range(len(target_s)), target_s, label=\"test_target\")\n",
    "# Preprocessing.plot_series(range(len(pred_s)), pred_s, label=f\"test_prediction\")"
   ]
  },
  {
   "cell_type": "code",
   "execution_count": null,
   "metadata": {},
   "outputs": [],
   "source": []
  }
 ],
 "metadata": {
  "celltoolbar": "Tags",
  "colab": {
   "collapsed_sections": [],
   "include_colab_link": true,
   "name": "Multivariate_Data_Analysis-LingJun-Colab.ipynb",
   "provenance": []
  },
  "interpreter": {
   "hash": "8ce001ddc5f31433e62f32147156ab74663497b659b5cef58a1664ef54cc3eb1"
  },
  "kernelspec": {
   "display_name": "conda (timeSeries)",
   "language": "python",
   "name": "conda-timeseries"
  },
  "language_info": {
   "codemirror_mode": {
    "name": "ipython",
    "version": 3
   },
   "file_extension": ".py",
   "mimetype": "text/x-python",
   "name": "python",
   "nbconvert_exporter": "python",
   "pygments_lexer": "ipython3",
   "version": "3.8.13"
  }
 },
 "nbformat": 4,
 "nbformat_minor": 1
}
