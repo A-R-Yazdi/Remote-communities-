{
 "cells": [
  {
   "cell_type": "markdown",
   "metadata": {},
   "source": [
    "## Applying the XGBoost algorithm ##"
   ]
  },
  {
   "cell_type": "code",
   "execution_count": 1,
   "metadata": {},
   "outputs": [],
   "source": [
    "# %load_ext autoreload\n",
    "# %autoreload 2"
   ]
  },
  {
   "cell_type": "code",
   "execution_count": 25,
   "metadata": {},
   "outputs": [],
   "source": [
    "import pandas as pd\n",
    "import numpy as np\n",
    "import xgboost as xgb\n",
    "from sklearn.metrics import mean_squared_error, mean_absolute_error\n",
    "from datetime import datetime\n",
    "import seaborn as sns\n",
    "%matplotlib inline\n",
    "import matplotlib.pyplot as plt\n",
    "import statsmodels.api as sm\n",
    "import statsmodels.formula.api as smf\n",
    "\n",
    "from config import EXPERIMENT, RUN_NAME, ARTIFACT_DIR\n",
    "from logger import logger\n",
    "from mlflow_utils import evaluate_binary, log_mlflow"
   ]
  },
  {
   "cell_type": "code",
   "execution_count": 26,
   "metadata": {},
   "outputs": [],
   "source": [
    "thedf = 'df9'"
   ]
  },
  {
   "cell_type": "code",
   "execution_count": 27,
   "metadata": {},
   "outputs": [],
   "source": [
    "# Wrap all this is a parameter dict\n",
    "run_params = {'experiment': EXPERIMENT,\n",
    "              'iteration': RUN_NAME,\n",
    "              'thedf': thedf,\n",
    "              'artifact_dir': ARTIFACT_DIR}"
   ]
  },
  {
   "cell_type": "code",
   "execution_count": 28,
   "metadata": {},
   "outputs": [],
   "source": [
    "# input dataset\n",
    "input_file = \"../../data/processed/all_combined_training.csv\"\n",
    "validation_file = \"../../data/processed/all_combined_validation.csv\""
   ]
  },
  {
   "cell_type": "code",
   "execution_count": 29,
   "metadata": {},
   "outputs": [],
   "source": [
    "# load data\n",
    "df = pd.read_csv(input_file, index_col = 0)\n",
    "dfc=df.copy()"
   ]
  },
  {
   "cell_type": "code",
   "execution_count": 30,
   "metadata": {
    "scrolled": true
   },
   "outputs": [
    {
     "data": {
      "text/html": [
       "<div>\n",
       "<style scoped>\n",
       "    .dataframe tbody tr th:only-of-type {\n",
       "        vertical-align: middle;\n",
       "    }\n",
       "\n",
       "    .dataframe tbody tr th {\n",
       "        vertical-align: top;\n",
       "    }\n",
       "\n",
       "    .dataframe thead th {\n",
       "        text-align: right;\n",
       "    }\n",
       "</style>\n",
       "<table border=\"1\" class=\"dataframe\">\n",
       "  <thead>\n",
       "    <tr style=\"text-align: right;\">\n",
       "      <th></th>\n",
       "      <th>year</th>\n",
       "      <th>month</th>\n",
       "      <th>day</th>\n",
       "      <th>hour</th>\n",
       "      <th>Kw</th>\n",
       "      <th>lat</th>\n",
       "      <th>lon</th>\n",
       "      <th>population</th>\n",
       "      <th>annual_peak_load</th>\n",
       "      <th>Temp (°C)</th>\n",
       "    </tr>\n",
       "  </thead>\n",
       "  <tbody>\n",
       "    <tr>\n",
       "      <th>236518</th>\n",
       "      <td>2015</td>\n",
       "      <td>12</td>\n",
       "      <td>31</td>\n",
       "      <td>21</td>\n",
       "      <td>365.311750</td>\n",
       "      <td>60.01732</td>\n",
       "      <td>-70.02754</td>\n",
       "      <td>567</td>\n",
       "      <td>582.943444</td>\n",
       "      <td>-19.845023</td>\n",
       "    </tr>\n",
       "    <tr>\n",
       "      <th>236519</th>\n",
       "      <td>2015</td>\n",
       "      <td>12</td>\n",
       "      <td>31</td>\n",
       "      <td>22</td>\n",
       "      <td>361.482583</td>\n",
       "      <td>60.01732</td>\n",
       "      <td>-70.02754</td>\n",
       "      <td>567</td>\n",
       "      <td>582.943444</td>\n",
       "      <td>-20.679938</td>\n",
       "    </tr>\n",
       "    <tr>\n",
       "      <th>236520</th>\n",
       "      <td>2015</td>\n",
       "      <td>12</td>\n",
       "      <td>31</td>\n",
       "      <td>23</td>\n",
       "      <td>358.839000</td>\n",
       "      <td>60.01732</td>\n",
       "      <td>-70.02754</td>\n",
       "      <td>567</td>\n",
       "      <td>582.943444</td>\n",
       "      <td>-21.149695</td>\n",
       "    </tr>\n",
       "  </tbody>\n",
       "</table>\n",
       "</div>"
      ],
      "text/plain": [
       "        year  month  day  hour          Kw       lat       lon  population  \\\n",
       "236518  2015     12   31    21  365.311750  60.01732 -70.02754         567   \n",
       "236519  2015     12   31    22  361.482583  60.01732 -70.02754         567   \n",
       "236520  2015     12   31    23  358.839000  60.01732 -70.02754         567   \n",
       "\n",
       "        annual_peak_load  Temp (°C)  \n",
       "236518        582.943444 -19.845023  \n",
       "236519        582.943444 -20.679938  \n",
       "236520        582.943444 -21.149695  "
      ]
     },
     "execution_count": 30,
     "metadata": {},
     "output_type": "execute_result"
    }
   ],
   "source": [
    "dfc.tail(3) "
   ]
  },
  {
   "cell_type": "code",
   "execution_count": 31,
   "metadata": {},
   "outputs": [],
   "source": [
    "dfc['date'] = pd.to_datetime(dfc[['year', 'month', 'day']])\n",
    "dfc.rename(columns={\"Temp (°C)\":\"Temp\"}, inplace=True)"
   ]
  },
  {
   "cell_type": "markdown",
   "metadata": {},
   "source": [
    "## Power consumption per capita"
   ]
  },
  {
   "cell_type": "code",
   "execution_count": 32,
   "metadata": {},
   "outputs": [
    {
     "data": {
      "text/html": [
       "<div>\n",
       "<style scoped>\n",
       "    .dataframe tbody tr th:only-of-type {\n",
       "        vertical-align: middle;\n",
       "    }\n",
       "\n",
       "    .dataframe tbody tr th {\n",
       "        vertical-align: top;\n",
       "    }\n",
       "\n",
       "    .dataframe thead th {\n",
       "        text-align: right;\n",
       "    }\n",
       "</style>\n",
       "<table border=\"1\" class=\"dataframe\">\n",
       "  <thead>\n",
       "    <tr style=\"text-align: right;\">\n",
       "      <th></th>\n",
       "      <th>year</th>\n",
       "      <th>month</th>\n",
       "      <th>day</th>\n",
       "      <th>hour</th>\n",
       "      <th>Kw</th>\n",
       "      <th>lat</th>\n",
       "      <th>lon</th>\n",
       "      <th>population</th>\n",
       "      <th>annual_peak_load</th>\n",
       "      <th>Temp</th>\n",
       "      <th>date</th>\n",
       "      <th>Kw_per_capita</th>\n",
       "    </tr>\n",
       "  </thead>\n",
       "  <tbody>\n",
       "    <tr>\n",
       "      <th>83391</th>\n",
       "      <td>2013</td>\n",
       "      <td>7</td>\n",
       "      <td>9</td>\n",
       "      <td>15</td>\n",
       "      <td>251.254583</td>\n",
       "      <td>61.03000</td>\n",
       "      <td>-69.62</td>\n",
       "      <td>403</td>\n",
       "      <td>463.473224</td>\n",
       "      <td>4.600244</td>\n",
       "      <td>2013-07-09</td>\n",
       "      <td>0.623461</td>\n",
       "    </tr>\n",
       "    <tr>\n",
       "      <th>68409</th>\n",
       "      <td>2014</td>\n",
       "      <td>10</td>\n",
       "      <td>23</td>\n",
       "      <td>9</td>\n",
       "      <td>984.463167</td>\n",
       "      <td>62.20071</td>\n",
       "      <td>-75.65</td>\n",
       "      <td>1483</td>\n",
       "      <td>1347.844242</td>\n",
       "      <td>-3.605078</td>\n",
       "      <td>2014-10-23</td>\n",
       "      <td>0.663832</td>\n",
       "    </tr>\n",
       "  </tbody>\n",
       "</table>\n",
       "</div>"
      ],
      "text/plain": [
       "       year  month  day  hour          Kw       lat    lon  population  \\\n",
       "83391  2013      7    9    15  251.254583  61.03000 -69.62         403   \n",
       "68409  2014     10   23     9  984.463167  62.20071 -75.65        1483   \n",
       "\n",
       "       annual_peak_load      Temp       date  Kw_per_capita  \n",
       "83391        463.473224  4.600244 2013-07-09       0.623461  \n",
       "68409       1347.844242 -3.605078 2014-10-23       0.663832  "
      ]
     },
     "execution_count": 32,
     "metadata": {},
     "output_type": "execute_result"
    }
   ],
   "source": [
    "dfc['Kw_per_capita'] = dfc['Kw']/df['population']\n",
    "dfc.sample(2)"
   ]
  },
  {
   "cell_type": "markdown",
   "metadata": {},
   "source": [
    "## Reduce data to essential columns"
   ]
  },
  {
   "cell_type": "code",
   "execution_count": 33,
   "metadata": {
    "scrolled": true
   },
   "outputs": [],
   "source": [
    "dfc.drop(['Kw', 'population', 'annual_peak_load','year','month','day','hour','lon','Temp'],\n",
    "         axis = 1, inplace = True)"
   ]
  },
  {
   "cell_type": "code",
   "execution_count": 34,
   "metadata": {},
   "outputs": [
    {
     "data": {
      "text/html": [
       "<div>\n",
       "<style scoped>\n",
       "    .dataframe tbody tr th:only-of-type {\n",
       "        vertical-align: middle;\n",
       "    }\n",
       "\n",
       "    .dataframe tbody tr th {\n",
       "        vertical-align: top;\n",
       "    }\n",
       "\n",
       "    .dataframe thead th {\n",
       "        text-align: right;\n",
       "    }\n",
       "</style>\n",
       "<table border=\"1\" class=\"dataframe\">\n",
       "  <thead>\n",
       "    <tr style=\"text-align: right;\">\n",
       "      <th></th>\n",
       "      <th>lat</th>\n",
       "      <th>date</th>\n",
       "      <th>Kw_per_capita</th>\n",
       "    </tr>\n",
       "  </thead>\n",
       "  <tbody>\n",
       "    <tr>\n",
       "      <th>34704</th>\n",
       "      <td>58.45424</td>\n",
       "      <td>2013-12-18</td>\n",
       "      <td>0.636182</td>\n",
       "    </tr>\n",
       "    <tr>\n",
       "      <th>234200</th>\n",
       "      <td>60.01732</td>\n",
       "      <td>2015-09-26</td>\n",
       "      <td>0.744633</td>\n",
       "    </tr>\n",
       "  </tbody>\n",
       "</table>\n",
       "</div>"
      ],
      "text/plain": [
       "             lat       date  Kw_per_capita\n",
       "34704   58.45424 2013-12-18       0.636182\n",
       "234200  60.01732 2015-09-26       0.744633"
      ]
     },
     "execution_count": 34,
     "metadata": {},
     "output_type": "execute_result"
    }
   ],
   "source": [
    "dfc.sample(2)"
   ]
  },
  {
   "cell_type": "markdown",
   "metadata": {},
   "source": [
    "## Data by location: creates 9 dataframes df1...df9 to hold info for the 9 locations"
   ]
  },
  {
   "cell_type": "code",
   "execution_count": 35,
   "metadata": {
    "scrolled": false
   },
   "outputs": [
    {
     "data": {
      "text/plain": [
       "58.45424    26280\n",
       "62.20071    26280\n",
       "61.03000    26280\n",
       "59.31042    26280\n",
       "62.41657    26280\n",
       "58.10006    26280\n",
       "60.01732    26280\n",
       "55.27987    26232\n",
       "58.68000    26232\n",
       "Name: lat, dtype: int64"
      ]
     },
     "execution_count": 35,
     "metadata": {},
     "output_type": "execute_result"
    }
   ],
   "source": [
    "dfc['lat'].value_counts()"
   ]
  },
  {
   "cell_type": "code",
   "execution_count": 36,
   "metadata": {
    "scrolled": true
   },
   "outputs": [],
   "source": [
    "# create a list of dataframe names, key=['df1', 'df2', 'df3', 'df4', 'df5', 'df6', 'df7', 'df8', 'df9']\n",
    "key=[]\n",
    "for i in range(9):\n",
    "    key.append('df'+str(i+1))\n",
    "# print(key)\n",
    "\n",
    "# create a list of dataframes\n",
    "s=key.copy()\n",
    "i=0\n",
    "for lat in dfc['lat'].value_counts().keys():\n",
    "#     print(lat)\n",
    "    s[i]=dfc[dfc['lat']==lat]\n",
    "#     print(name.head(2))\n",
    "#     print('\\n')\n",
    "    i=i+1\n",
    "\n",
    "# create dict using the list of df names and dataframes\n",
    "my_dict = dict(zip(key, s))"
   ]
  },
  {
   "cell_type": "code",
   "execution_count": 37,
   "metadata": {
    "scrolled": false
   },
   "outputs": [
    {
     "data": {
      "text/html": [
       "<div>\n",
       "<style scoped>\n",
       "    .dataframe tbody tr th:only-of-type {\n",
       "        vertical-align: middle;\n",
       "    }\n",
       "\n",
       "    .dataframe tbody tr th {\n",
       "        vertical-align: top;\n",
       "    }\n",
       "\n",
       "    .dataframe thead th {\n",
       "        text-align: right;\n",
       "    }\n",
       "</style>\n",
       "<table border=\"1\" class=\"dataframe\">\n",
       "  <thead>\n",
       "    <tr style=\"text-align: right;\">\n",
       "      <th></th>\n",
       "      <th>lat</th>\n",
       "      <th>date</th>\n",
       "      <th>Kw_per_capita</th>\n",
       "    </tr>\n",
       "  </thead>\n",
       "  <tbody>\n",
       "    <tr>\n",
       "      <th>210050</th>\n",
       "      <td>58.68</td>\n",
       "      <td>2015-12-24</td>\n",
       "      <td>0.609696</td>\n",
       "    </tr>\n",
       "    <tr>\n",
       "      <th>186033</th>\n",
       "      <td>58.68</td>\n",
       "      <td>2013-03-28</td>\n",
       "      <td>0.647381</td>\n",
       "    </tr>\n",
       "    <tr>\n",
       "      <th>184135</th>\n",
       "      <td>58.68</td>\n",
       "      <td>2013-01-08</td>\n",
       "      <td>0.545117</td>\n",
       "    </tr>\n",
       "    <tr>\n",
       "      <th>206904</th>\n",
       "      <td>58.68</td>\n",
       "      <td>2015-08-14</td>\n",
       "      <td>0.460899</td>\n",
       "    </tr>\n",
       "    <tr>\n",
       "      <th>190343</th>\n",
       "      <td>58.68</td>\n",
       "      <td>2013-09-23</td>\n",
       "      <td>0.560510</td>\n",
       "    </tr>\n",
       "  </tbody>\n",
       "</table>\n",
       "</div>"
      ],
      "text/plain": [
       "          lat       date  Kw_per_capita\n",
       "210050  58.68 2015-12-24       0.609696\n",
       "186033  58.68 2013-03-28       0.647381\n",
       "184135  58.68 2013-01-08       0.545117\n",
       "206904  58.68 2015-08-14       0.460899\n",
       "190343  58.68 2013-09-23       0.560510"
      ]
     },
     "execution_count": 37,
     "metadata": {},
     "output_type": "execute_result"
    }
   ],
   "source": [
    "my_dict[thedf].sample(5)"
   ]
  },
  {
   "cell_type": "markdown",
   "metadata": {},
   "source": [
    "### Aggregate the data by date, which means sum up all the hourly consumptions"
   ]
  },
  {
   "cell_type": "code",
   "execution_count": 38,
   "metadata": {},
   "outputs": [
    {
     "data": {
      "text/html": [
       "<div>\n",
       "<style scoped>\n",
       "    .dataframe tbody tr th:only-of-type {\n",
       "        vertical-align: middle;\n",
       "    }\n",
       "\n",
       "    .dataframe tbody tr th {\n",
       "        vertical-align: top;\n",
       "    }\n",
       "\n",
       "    .dataframe thead th {\n",
       "        text-align: right;\n",
       "    }\n",
       "</style>\n",
       "<table border=\"1\" class=\"dataframe\">\n",
       "  <thead>\n",
       "    <tr style=\"text-align: right;\">\n",
       "      <th></th>\n",
       "      <th>date</th>\n",
       "      <th>Kw_per_capita</th>\n",
       "    </tr>\n",
       "  </thead>\n",
       "  <tbody>\n",
       "    <tr>\n",
       "      <th>0</th>\n",
       "      <td>2013-01-01</td>\n",
       "      <td>14.132166</td>\n",
       "    </tr>\n",
       "    <tr>\n",
       "      <th>1</th>\n",
       "      <td>2013-01-02</td>\n",
       "      <td>15.028397</td>\n",
       "    </tr>\n",
       "  </tbody>\n",
       "</table>\n",
       "</div>"
      ],
      "text/plain": [
       "        date  Kw_per_capita\n",
       "0 2013-01-01      14.132166\n",
       "1 2013-01-02      15.028397"
      ]
     },
     "execution_count": 38,
     "metadata": {},
     "output_type": "execute_result"
    }
   ],
   "source": [
    "dff=my_dict[thedf].groupby('date')['Kw_per_capita'].sum().reset_index()\n",
    "dff=dff.sort_values(by='date')\n",
    "dff.head(2)"
   ]
  },
  {
   "cell_type": "code",
   "execution_count": 39,
   "metadata": {},
   "outputs": [
    {
     "data": {
      "text/plain": [
       "date             0\n",
       "Kw_per_capita    0\n",
       "dtype: int64"
      ]
     },
     "execution_count": 39,
     "metadata": {},
     "output_type": "execute_result"
    }
   ],
   "source": [
    "# see if there are any missing values\n",
    "dff.isna().sum()"
   ]
  },
  {
   "cell_type": "markdown",
   "metadata": {},
   "source": [
    "## Feature engineering"
   ]
  },
  {
   "cell_type": "code",
   "execution_count": 40,
   "metadata": {},
   "outputs": [],
   "source": [
    "def build_training_data(data, history_size = 3, target_size = 1):\n",
    "    \"\"\"\n",
    "    history_size denotes the number of columns used as history. For e.g. we use the past 3 days as history, \n",
    "    this means we create 3 columns (yesterday, yesterday -1, yesterday -2) as the feature columns. \n",
    "    \n",
    "    target_size denotes the number of columns we want to predict. If we want to predict the following 2 days, \n",
    "    this creates 2 columns (tomorrow, tomorrow+1) as the label/target columns\n",
    "    \n",
    "    data has to be a dataframe, whose columns time series.\n",
    "    \"\"\"\n",
    "    start_row = history_size\n",
    "    end_row = len(data) - target_size\n",
    "    cols2keep = []\n",
    "    \n",
    "    # create the input data columns\n",
    "    cols = range(1, history_size+1)\n",
    "    for col in cols:\n",
    "        data[str(col)+'d_prior']=data['Kw_per_capita'].shift(col, axis=0)\n",
    "        cols2keep.append(str(col)+'d_prior')\n",
    "        \n",
    "    # create the label columns\n",
    "    label_cols = range(1, target_size+1)\n",
    "    for col in label_cols:\n",
    "        data['label_'+str(col)]=data['Kw_per_capita'].shift(1-col, axis=0)\n",
    "        cols2keep.append('label_'+str(col))\n",
    "        \n",
    "    # drop the rows that are useless\n",
    "    rows2drop = [*range(history_size)] + [*range(len(data)-target_size+1, len(data))]\n",
    "    data.drop(df.index[rows2drop], axis=0, inplace=True)\n",
    "    # slice dataframe by columns\n",
    "    data = data.loc[:, cols2keep]\n",
    "    return data\n",
    "    \n",
    "data = dff.copy()        \n",
    "data = build_training_data(data)"
   ]
  },
  {
   "cell_type": "markdown",
   "metadata": {},
   "source": [
    "## Train-test split\n",
    "**Problems:**\n",
    "- ***we CAN't randomly split a time series with train_test_split(), because the split will randomly select points of time that appear in our train/test data set, which means the time is not continuous, or create gaps in time, this will disrupt the potential correlation exists in a time series.***\n",
    "- the best to way to train-test split a time series is just take the early 80% as the train data, the following 20% as test data"
   ]
  },
  {
   "cell_type": "code",
   "execution_count": 41,
   "metadata": {},
   "outputs": [],
   "source": [
    "train_data = data[:int(data.shape[0]*0.8)]\n",
    "test_data = data[int(data.shape[0]*0.8):]"
   ]
  },
  {
   "cell_type": "code",
   "execution_count": 42,
   "metadata": {},
   "outputs": [
    {
     "data": {
      "text/html": [
       "<div>\n",
       "<style scoped>\n",
       "    .dataframe tbody tr th:only-of-type {\n",
       "        vertical-align: middle;\n",
       "    }\n",
       "\n",
       "    .dataframe tbody tr th {\n",
       "        vertical-align: top;\n",
       "    }\n",
       "\n",
       "    .dataframe thead th {\n",
       "        text-align: right;\n",
       "    }\n",
       "</style>\n",
       "<table border=\"1\" class=\"dataframe\">\n",
       "  <thead>\n",
       "    <tr style=\"text-align: right;\">\n",
       "      <th></th>\n",
       "      <th>1d_prior</th>\n",
       "      <th>2d_prior</th>\n",
       "      <th>3d_prior</th>\n",
       "      <th>label_1</th>\n",
       "    </tr>\n",
       "  </thead>\n",
       "  <tbody>\n",
       "    <tr>\n",
       "      <th>18</th>\n",
       "      <td>17.157820</td>\n",
       "      <td>16.495665</td>\n",
       "      <td>16.284855</td>\n",
       "      <td>16.620488</td>\n",
       "    </tr>\n",
       "    <tr>\n",
       "      <th>655</th>\n",
       "      <td>13.932767</td>\n",
       "      <td>13.934006</td>\n",
       "      <td>14.234430</td>\n",
       "      <td>13.262562</td>\n",
       "    </tr>\n",
       "  </tbody>\n",
       "</table>\n",
       "</div>"
      ],
      "text/plain": [
       "      1d_prior   2d_prior   3d_prior    label_1\n",
       "18   17.157820  16.495665  16.284855  16.620488\n",
       "655  13.932767  13.934006  14.234430  13.262562"
      ]
     },
     "execution_count": 42,
     "metadata": {},
     "output_type": "execute_result"
    }
   ],
   "source": [
    "train_data.sample(2)"
   ]
  },
  {
   "cell_type": "code",
   "execution_count": 43,
   "metadata": {},
   "outputs": [],
   "source": [
    "output_cols=[]\n",
    "for i in data.columns:\n",
    "    if 'label' in i:\n",
    "        output_cols.append(i)"
   ]
  },
  {
   "cell_type": "code",
   "execution_count": 44,
   "metadata": {},
   "outputs": [],
   "source": [
    "X_train = train_data.copy().drop(columns=output_cols)\n",
    "X_test = test_data.copy().drop(columns=output_cols)\n",
    "\n",
    "y_train = train_data.copy()[output_cols]\n",
    "y_test = test_data.copy()[output_cols]"
   ]
  },
  {
   "cell_type": "code",
   "execution_count": 45,
   "metadata": {},
   "outputs": [
    {
     "data": {
      "text/html": [
       "<div>\n",
       "<style scoped>\n",
       "    .dataframe tbody tr th:only-of-type {\n",
       "        vertical-align: middle;\n",
       "    }\n",
       "\n",
       "    .dataframe tbody tr th {\n",
       "        vertical-align: top;\n",
       "    }\n",
       "\n",
       "    .dataframe thead th {\n",
       "        text-align: right;\n",
       "    }\n",
       "</style>\n",
       "<table border=\"1\" class=\"dataframe\">\n",
       "  <thead>\n",
       "    <tr style=\"text-align: right;\">\n",
       "      <th></th>\n",
       "      <th>label_1</th>\n",
       "    </tr>\n",
       "  </thead>\n",
       "  <tbody>\n",
       "    <tr>\n",
       "      <th>498</th>\n",
       "      <td>13.335633</td>\n",
       "    </tr>\n",
       "    <tr>\n",
       "      <th>24</th>\n",
       "      <td>16.289367</td>\n",
       "    </tr>\n",
       "    <tr>\n",
       "      <th>49</th>\n",
       "      <td>15.332891</td>\n",
       "    </tr>\n",
       "  </tbody>\n",
       "</table>\n",
       "</div>"
      ],
      "text/plain": [
       "       label_1\n",
       "498  13.335633\n",
       "24   16.289367\n",
       "49   15.332891"
      ]
     },
     "execution_count": 45,
     "metadata": {},
     "output_type": "execute_result"
    }
   ],
   "source": [
    "y_train.sample(3)"
   ]
  },
  {
   "cell_type": "markdown",
   "metadata": {},
   "source": [
    "## Log models and train"
   ]
  },
  {
   "cell_type": "code",
   "execution_count": 46,
   "metadata": {},
   "outputs": [],
   "source": [
    "# model_name = 'XGB'\n",
    "# model = xgb.XGBRegressor(objective ='reg:squarederror', n_estimators = 10, seed = 123)\n",
    "# model.fit(X_train, \n",
    "#           y_train, \n",
    "#          eval_set=[(X_train, y_train),(X_test, y_test)],\n",
    "#          eval_metric='mae')\n",
    "# test_pred = model.predict(X_test)"
   ]
  },
  {
   "cell_type": "code",
   "execution_count": 50,
   "metadata": {},
   "outputs": [
    {
     "name": "stdout",
     "output_type": "stream",
     "text": [
      "  RMSE: 0.8086821202681487\n",
      "  MAE: 0.6264838017316913\n"
     ]
    },
    {
     "name": "stderr",
     "output_type": "stream",
     "text": [
      "/home/lj/Document/DataScience/envs/remote_com_env/lib/python3.9/site-packages/xgboost/data.py:262: FutureWarning: pandas.Int64Index is deprecated and will be removed from pandas in a future version. Use pandas.Index with the appropriate dtype instead.\n",
      "  elif isinstance(data.columns, (pd.Int64Index, pd.RangeIndex)):\n"
     ]
    }
   ],
   "source": [
    "import mlflow\n",
    "n_estimators=10\n",
    "with mlflow.start_run():\n",
    "        model = xgb.XGBRegressor(objective ='reg:squarederror', n_estimators = n_estimators, seed = 123)\n",
    "        model.fit(X_train, y_train)\n",
    "\n",
    "        test_pred = model.predict(X_test)\n",
    "\n",
    "        rmse = np.sqrt(mean_squared_error(y_test, test_pred))\n",
    "        mae = mean_absolute_error(y_test, test_pred)\n",
    "\n",
    "        print(\"  RMSE: %s\" % rmse)\n",
    "        print(\"  MAE: %s\" % mae)\n",
    "\n",
    "        mlflow.log_param(\"number of trees\", n_estimators)\n",
    "        mlflow.log_metric(\"rmse\", rmse)\n",
    "        mlflow.log_metric(\"mae\", mae)"
   ]
  },
  {
   "cell_type": "code",
   "execution_count": 51,
   "metadata": {},
   "outputs": [
    {
     "name": "stdout",
     "output_type": "stream",
     "text": [
      "RMSE :  0.656095\n"
     ]
    },
    {
     "name": "stderr",
     "output_type": "stream",
     "text": [
      "/home/lj/Document/DataScience/envs/remote_com_env/lib/python3.9/site-packages/xgboost/data.py:262: FutureWarning: pandas.Int64Index is deprecated and will be removed from pandas in a future version. Use pandas.Index with the appropriate dtype instead.\n",
      "  elif isinstance(data.columns, (pd.Int64Index, pd.RangeIndex)):\n"
     ]
    }
   ],
   "source": [
    "# Predictions on the train dataset\n",
    "train_pred = model.predict(X_train)\n",
    "# RMSE Computation\n",
    "train_rmse = np.sqrt(mean_squared_error(y_train, train_pred))\n",
    "print(\"RMSE : % f\" %(train_rmse))"
   ]
  },
  {
   "cell_type": "code",
   "execution_count": 52,
   "metadata": {},
   "outputs": [
    {
     "name": "stdout",
     "output_type": "stream",
     "text": [
      "RMSE :  0.808682\n"
     ]
    }
   ],
   "source": [
    "# RMSE Computation\n",
    "test_rmse = np.sqrt(mean_squared_error(y_test, test_pred))\n",
    "print(\"RMSE : % f\" %(test_rmse))"
   ]
  },
  {
   "cell_type": "markdown",
   "metadata": {},
   "source": [
    "### For RMSE, the value of the difference **Abs(y_test - test_pred)** plays a role, \n",
    "- if **|y_test-test_pred|<1**, then the RMSE is going to be small, regardless of whether it's a good prediction or not.\n",
    "- to solve this, we use the Mean Absolute Percentage Error for the relative error."
   ]
  },
  {
   "cell_type": "code",
   "execution_count": 53,
   "metadata": {},
   "outputs": [],
   "source": [
    "# define the MAPE metric\n",
    "def mean_absolute_percentage_error(y_true, y_pred): \n",
    "        y_true, y_pred = np.array(y_true), np.array(y_pred)\n",
    "        return np.mean(np.abs((y_true - y_pred) / y_true)) "
   ]
  },
  {
   "cell_type": "code",
   "execution_count": 54,
   "metadata": {},
   "outputs": [
    {
     "name": "stdout",
     "output_type": "stream",
     "text": [
      "train MAPE :  0.129288\n",
      "test MAPE :  0.125379\n"
     ]
    }
   ],
   "source": [
    "err_tr = mean_absolute_percentage_error(y_train,train_pred)\n",
    "print(\"train MAPE : % f\" %(err_tr))\n",
    "\n",
    "err_tst = mean_absolute_percentage_error(y_test,test_pred)\n",
    "print(\"test MAPE : % f\" %(err_tst))"
   ]
  },
  {
   "cell_type": "code",
   "execution_count": 55,
   "metadata": {},
   "outputs": [
    {
     "data": {
      "image/png": "[encoded data removed]",
      "text/plain": [
       "<Figure size 1008x288 with 1 Axes>"
      ]
     },
     "metadata": {
      "needs_background": "light"
     },
     "output_type": "display_data"
    }
   ],
   "source": [
    "test_series = pd.Series(test_pred)\n",
    "orig_series = pd.Series(test_data['label_1']).reset_index().drop(columns=['index'])['label_1']\n",
    "#                         [int(data.shape[0]*0.8):])\n",
    "fig, ax = plt.subplots(1, 1, figsize=(14, 4), sharex=True)\n",
    "\n",
    "test_series.plot(ax=ax, label='prediction')\n",
    "orig_series.plot(ax=ax, label='original data')\n",
    "ax.set(title = 'Kw per cap time series', ylabel = 'Kw per cap')\n",
    "plt.legend()\n",
    "plt.show()"
   ]
  },
  {
   "cell_type": "markdown",
   "metadata": {},
   "source": [
    "- other features\n",
    "- other error function than RMSE"
   ]
  },
  {
   "cell_type": "code",
   "execution_count": 56,
   "metadata": {},
   "outputs": [
    {
     "name": "stdout",
     "output_type": "stream",
     "text": [
      "Package                       Version\n",
      "----------------------------- ---------\n",
      "alembic                       1.4.3\n",
      "ansiwrap                      0.8.4\n",
      "appdirs                       1.4.4\n",
      "asn1crypto                    1.4.0\n",
      "asttokens                     2.0.5\n",
      "attrs                         21.4.0\n",
      "backcall                      0.2.0\n",
      "backports.functools-lru-cache 1.6.4\n",
      "black                         22.1.0\n",
      "brotlipy                      0.7.0\n",
      "certifi                       2021.10.8\n",
      "cffi                          1.15.0\n",
      "chardet                       3.0.4\n",
      "click                         8.0.4\n",
      "cloudpickle                   1.6.0\n",
      "colorama                      0.4.4\n",
      "configparser                  5.0.1\n",
      "convertdate                   2.4.0\n",
      "cryptography                  36.0.1\n",
      "cycler                        0.11.0\n",
      "databricks-cli                0.12.1\n",
      "debugpy                       1.5.1\n",
      "decorator                     5.1.1\n",
      "docker                        5.0.3\n",
      "docker-pycreds                0.4.0\n",
      "entrypoints                   0.4\n",
      "executing                     0.8.3\n",
      "Flask                         1.1.2\n",
      "fonttools                     4.25.0\n",
      "gitdb                         4.0.5\n",
      "GitPython                     3.1.9\n",
      "greenlet                      1.1.2\n",
      "gunicorn                      20.1.0\n",
      "hijri-converter               2.2.3\n",
      "holidays                      0.13\n",
      "idna                          2.10\n",
      "imageio                       2.16.1\n",
      "importlib-metadata            2.0.0\n",
      "ipykernel                     6.9.1\n",
      "ipython                       8.0.1\n",
      "ipython-genutils              0.2.0\n",
      "itsdangerous                  1.1.0\n",
      "jedi                          0.18.1\n",
      "Jinja2                        2.11.2\n",
      "joblib                        0.17.0\n",
      "jsonschema                    4.4.0\n",
      "jupyter-client                7.1.2\n",
      "jupyter-core                  4.9.2\n",
      "kiwisolver                    1.3.2\n",
      "korean-lunar-calendar         0.2.1\n",
      "Mako                          1.1.3\n",
      "MarkupSafe                    2.1.0\n",
      "matplotlib                    3.4.3\n",
      "matplotlib-inline             0.1.3\n",
      "mlflow                        1.24.0\n",
      "munkres                       1.1.4\n",
      "mypy-extensions               0.4.3\n",
      "nbclient                      0.5.12\n",
      "nbformat                      5.1.3\n",
      "nest-asyncio                  1.5.4\n",
      "networkx                      2.7\n",
      "numpy                         1.22.2\n",
      "packaging                     21.3\n",
      "pandas                        1.4.1\n",
      "papermill                     2.3.4\n",
      "parso                         0.8.3\n",
      "pathspec                      0.9.0\n",
      "patsy                         0.5.2\n",
      "pexpect                       4.8.0\n",
      "pickleshare                   0.7.5\n",
      "Pillow                        9.0.1\n",
      "pip                           22.0.3\n",
      "platformdirs                  2.5.1\n",
      "prometheus-client             0.8.0\n",
      "prometheus-flask-exporter     0.18.7\n",
      "prompt-toolkit                3.0.27\n",
      "protobuf                      3.13.0\n",
      "ptyprocess                    0.7.0\n",
      "pure-eval                     0.2.2\n",
      "pycparser                     2.20\n",
      "Pygments                      2.11.2\n",
      "PyMeeus                       0.5.11\n",
      "pyOpenSSL                     19.1.0\n",
      "pyparsing                     2.4.7\n",
      "pyrsistent                    0.18.1\n",
      "PySocks                       1.7.1\n",
      "python-dateutil               2.8.1\n",
      "python-editor                 1.0.4\n",
      "pytz                          2020.1\n",
      "PyWavelets                    1.2.0\n",
      "PyYAML                        6.0\n",
      "pyzmq                         22.3.0\n",
      "querystring-parser            1.2.4\n",
      "requests                      2.24.0\n",
      "scikit-image                  0.18.1\n",
      "scikit-learn                  1.0.2\n",
      "scipy                         1.8.0\n",
      "seaborn                       0.11.0\n",
      "setuptools                    60.9.3\n",
      "sip                           4.19.13\n",
      "six                           1.15.0\n",
      "smmap                         3.0.4\n",
      "SQLAlchemy                    1.4.31\n",
      "sqlparse                      0.4.1\n",
      "stack-data                    0.2.0\n",
      "statsmodels                   0.13.2\n",
      "tabulate                      0.8.9\n",
      "tenacity                      8.0.1\n",
      "textwrap3                     0.9.2\n",
      "threadpoolctl                 2.1.0\n",
      "tifffile                      2022.2.9\n",
      "tomli                         2.0.1\n",
      "torch                         1.10.0\n",
      "torchvision                   0.11.1\n",
      "tornado                       6.1\n",
      "tqdm                          4.63.0\n",
      "traitlets                     5.1.1\n",
      "typing_extensions             4.1.1\n",
      "urllib3                       1.25.11\n",
      "wcwidth                       0.2.5\n",
      "websocket-client              1.3.1\n",
      "Werkzeug                      1.0.1\n",
      "wheel                         0.35.1\n",
      "xgboost                       1.5.1\n",
      "zipp                          3.3.1\n"
     ]
    }
   ],
   "source": [
    "!pip list"
   ]
  },
  {
   "cell_type": "code",
   "execution_count": null,
   "metadata": {},
   "outputs": [],
   "source": []
  }
 ],
 "metadata": {
  "interpreter": {
   "hash": "241211fc490863c972ebdd35c3227c687177b4909cebd3d152b23e13192e21df"
  },
  "kernelspec": {
   "display_name": "Python 3.9.10 ('remote_com_env')",
   "language": "python",
   "name": "python3910jvsc74a57bd0241211fc490863c972ebdd35c3227c687177b4909cebd3d152b23e13192e21df"
  },
  "language_info": {
   "codemirror_mode": {
    "name": "ipython",
    "version": 3
   },
   "file_extension": ".py",
   "mimetype": "text/x-python",
   "name": "python",
   "nbconvert_exporter": "python",
   "pygments_lexer": "ipython3",
   "version": "3.9.10"
  }
 },
 "nbformat": 4,
 "nbformat_minor": 2
}
